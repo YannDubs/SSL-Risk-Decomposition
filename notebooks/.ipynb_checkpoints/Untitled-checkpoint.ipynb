{
 "cells": [
  {
   "cell_type": "code",
   "execution_count": 18,
   "id": "fa12a297-54b1-4ecd-9f89-19dec285389f",
   "metadata": {},
   "outputs": [],
   "source": [
    "import torch\n",
    "x = torch.tensor([0.8763, -1.4409, -2.7167, -2.2592, -1.3256])\n"
   ]
  },
  {
   "cell_type": "code",
   "execution_count": 19,
   "id": "2437bca6-122d-421a-ad5d-4cb5adb95d33",
   "metadata": {},
   "outputs": [],
   "source": [
    "def approx_softmax(x):\n",
    "    N = len(x)\n",
    "    grad = - torch.ones(N,N) /N**2\n",
    "    grad.fill_diagonal_((N-1)* N**2)\n",
    "    grad[0] = (N-1)*N^2\n",
    "    out = 1/N + grad.T @ x \n",
    "    return out"
   ]
  },
  {
   "cell_type": "code",
   "execution_count": 20,
   "id": "0bba4317-a881-413d-aaff-0046b1157d83",
   "metadata": {},
   "outputs": [
    {
     "ename": "AttributeError",
     "evalue": "'Tensor' object has no attribute 'fill_diag'",
     "output_type": "error",
     "traceback": [
      "\u001b[0;31m---------------------------------------------------------------------------\u001b[0m",
      "\u001b[0;31mAttributeError\u001b[0m                            Traceback (most recent call last)",
      "Input \u001b[0;32mIn [20]\u001b[0m, in \u001b[0;36m<cell line: 1>\u001b[0;34m()\u001b[0m\n\u001b[0;32m----> 1\u001b[0m \u001b[43mapprox_softmax\u001b[49m\u001b[43m(\u001b[49m\u001b[43mx\u001b[49m\u001b[43m)\u001b[49m\n",
      "Input \u001b[0;32mIn [19]\u001b[0m, in \u001b[0;36mapprox_softmax\u001b[0;34m(x)\u001b[0m\n\u001b[1;32m      2\u001b[0m N \u001b[38;5;241m=\u001b[39m \u001b[38;5;28mlen\u001b[39m(x)\n\u001b[1;32m      3\u001b[0m grad \u001b[38;5;241m=\u001b[39m \u001b[38;5;241m-\u001b[39m torch\u001b[38;5;241m.\u001b[39mones(N,N) \u001b[38;5;241m/\u001b[39mN\u001b[38;5;241m*\u001b[39m\u001b[38;5;241m*\u001b[39m\u001b[38;5;241m2\u001b[39m\n\u001b[0;32m----> 4\u001b[0m \u001b[43mgrad\u001b[49m\u001b[38;5;241;43m.\u001b[39;49m\u001b[43mfill_diag\u001b[49m(torch\u001b[38;5;241m.\u001b[39mones(N) \u001b[38;5;241m*\u001b[39m (N\u001b[38;5;241m-\u001b[39m\u001b[38;5;241m1\u001b[39m)\u001b[38;5;241m*\u001b[39mN\u001b[38;5;241m^\u001b[39m\u001b[38;5;241m2\u001b[39m)\n\u001b[1;32m      5\u001b[0m grad[\u001b[38;5;241m0\u001b[39m] \u001b[38;5;241m=\u001b[39m (N\u001b[38;5;241m-\u001b[39m\u001b[38;5;241m1\u001b[39m)\u001b[38;5;241m*\u001b[39mN\u001b[38;5;241m^\u001b[39m\u001b[38;5;241m2\u001b[39m\n\u001b[1;32m      6\u001b[0m out \u001b[38;5;241m=\u001b[39m \u001b[38;5;241m1\u001b[39m\u001b[38;5;241m/\u001b[39mN \u001b[38;5;241m+\u001b[39m grad\u001b[38;5;241m.\u001b[39mT \u001b[38;5;241m@\u001b[39m x \n",
      "\u001b[0;31mAttributeError\u001b[0m: 'Tensor' object has no attribute 'fill_diag'"
     ]
    }
   ],
   "source": [
    "approx_softmax(x)"
   ]
  },
  {
   "cell_type": "code",
   "execution_count": 22,
   "id": "e64d6c1a-233c-468f-bf9c-b255fdfad251",
   "metadata": {},
   "outputs": [],
   "source": [
    "N = len(x)\n",
    "grad = - torch.ones(N,N)  /N**2"
   ]
  },
  {
   "cell_type": "code",
   "execution_count": 23,
   "id": "3534f258-eeca-4302-888a-1c3b95ef9226",
   "metadata": {},
   "outputs": [
    {
     "data": {
      "text/plain": [
       "tensor([[ 1.0000e+02, -4.0000e-02, -4.0000e-02, -4.0000e-02, -4.0000e-02],\n",
       "        [-4.0000e-02,  1.0000e+02, -4.0000e-02, -4.0000e-02, -4.0000e-02],\n",
       "        [-4.0000e-02, -4.0000e-02,  1.0000e+02, -4.0000e-02, -4.0000e-02],\n",
       "        [-4.0000e-02, -4.0000e-02, -4.0000e-02,  1.0000e+02, -4.0000e-02],\n",
       "        [-4.0000e-02, -4.0000e-02, -4.0000e-02, -4.0000e-02,  1.0000e+02]])"
      ]
     },
     "execution_count": 23,
     "metadata": {},
     "output_type": "execute_result"
    }
   ],
   "source": []
  },
  {
   "cell_type": "code",
   "execution_count": null,
   "id": "f68cdca5-52dd-4d0b-b696-e80b4511418d",
   "metadata": {},
   "outputs": [],
   "source": []
  }
 ],
 "metadata": {
  "kernelspec": {
   "display_name": "Python 3 (ipykernel)",
   "language": "python",
   "name": "python3"
  },
  "language_info": {
   "codemirror_mode": {
    "name": "ipython",
    "version": 3
   },
   "file_extension": ".py",
   "mimetype": "text/x-python",
   "name": "python",
   "nbconvert_exporter": "python",
   "pygments_lexer": "ipython3",
   "version": "3.10.6"
  }
 },
 "nbformat": 4,
 "nbformat_minor": 5
}
