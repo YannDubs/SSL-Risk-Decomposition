{
 "cells": [
  {
   "cell_type": "code",
   "execution_count": 1,
   "id": "299ae4db",
   "metadata": {},
   "outputs": [
    {
     "name": "stdout",
     "output_type": "stream",
     "text": [
      "/Users/yanndubois/SSL-Risk-Decomposition\n"
     ]
    }
   ],
   "source": [
    "cd .."
   ]
  },
  {
   "cell_type": "code",
   "execution_count": 2,
   "id": "687e3783-a1c7-40ec-ba2c-d774058b7d79",
   "metadata": {},
   "outputs": [],
   "source": [
    "%config InlineBackend.figure_format = 'retina'\n",
    "%matplotlib inline\n",
    "\n",
    "import os\n",
    "os.environ['KMP_DUPLICATE_LIB_OK']='True'"
   ]
  },
  {
   "cell_type": "markdown",
   "id": "65b4facf",
   "metadata": {},
   "source": [
    "# Collect all results"
   ]
  },
  {
   "cell_type": "code",
   "execution_count": 3,
   "id": "ec12b996-8f2e-47b9-a70b-e88b09461f9c",
   "metadata": {},
   "outputs": [
    {
     "name": "stderr",
     "output_type": "stream",
     "text": [
      "WARNING:root:CLIP models not available because of the following import error: \n",
      " No module named 'clip'\n"
     ]
    }
   ],
   "source": [
    "import torch\n",
    "import pandas as pd\n",
    "from utils.plotting import *\n",
    "from utils.collect_results import *\n",
    "from utils.causal import *\n",
    "import numpy as np\n",
    "import warnings\n",
    "import logging\n",
    "import hubconf"
   ]
  },
  {
   "cell_type": "code",
   "execution_count": null,
   "id": "7e1aa517-5481-4666-9d8d-15e4a0a2c453",
   "metadata": {},
   "outputs": [],
   "source": [
    "is_subset=False\n",
    "is_read_files=True\n",
    "if is_subset:\n",
    "    DATA = \"imagenet-S0.01\"\n",
    "    subset = 0.01\n",
    "    base_pred = 'sk_logistic_hypopt'\n",
    "    threshold_kwargs=dict(threshold_bad_ifnew=70,\n",
    "                           threshold_delta=100 # don't use\n",
    "                          )\n",
    "else:\n",
    "    DATA = \"imagenet\"\n",
    "    subset = None\n",
    "    base_pred = 'torch_linear_hypopt'\n",
    "    threshold_kwargs=dict()\n",
    "    \n",
    "\n",
    "metadata_df = hubconf.metadata_df(is_multiindex=False)\n",
    "\n",
    "if is_read_files:\n",
    "    results = load_all_results(pattern=f\"**/data_{DATA}/**/*hypopt*/**/results_all.csv\",\n",
    "                               skip_ifneq=dict(data=DATA.lower(), pred=base_pred))\n",
    "    check_missing(results, metadata_df)\n",
    "    results = format_approx_results(results, metadata_df, f_replace_arch=f_replace_arch, subset=subset)\n",
    "    results = make_risk_decomposition(results, traverse_path=[\"down\",\"right\",\"down\"], is_print=True, subset=subset)\n",
    "    results, metadata_df = clean_results(results, metadata_df, predictor=base_pred)\n",
    "    validate_results(results, metadata_df, **threshold_kwargs)\n",
    "\n",
    "    # filter out values that are suspiciously bad\n",
    "    to_del = [\"selav2_rn50_ep400_2x160_4x96\"]\n",
    "    to_keep = [i for i in results.index.get_level_values(\"enc\") if i not in to_del]\n",
    "    results = results.loc[to_keep]\n",
    "\n",
    "    results.to_csv(f\"notebooks/saved/results_{DATA}_{base_pred}.csv\")\n",
    "else:\n",
    "    results=pd.read_csv(f\"notebooks/saved/results_{DATA}_{base_pred}.csv\",index_col=0)\n",
    "    \n",
    "    \n",
    "metadata_df = metadata_df.loc[to_keep]\n",
    "df = pd.concat([results,metadata_df], axis=1)\n",
    "df = df.replace(dict(ssl_mode={\"hierarchical contrastive\": \"hierarchical\"}))\n",
    "\n",
    "# coarsens many different parameters for cleaner plots\n",
    "df = preprocess_features(df, round_dict={}, pow_dict={})\n",
    "\n",
    "melted = melt(df)"
   ]
  },
  {
   "cell_type": "code",
   "execution_count": null,
   "id": "c608453d-34cf-46ed-bf5d-6b982f5030e4",
   "metadata": {},
   "outputs": [],
   "source": [
    "#non_core_params = ['date_published','top1acc_in1k_official','projection_nparameters']\n",
    "core_params = ['objective','version','architecture','patch_size','z_dim','z_layer',\n",
    "               \"epochs\",\"batch_size\", \"optimizer\", \"learning_rate\", \"weight_decay\", \"scheduler\",\n",
    "               \"pretraining_data\",'img_size','year',\"nviews\",'finetuning_data','projection_arch']\n",
    "minimal_params = ['objective','version','architecture','patch_size','z_dim','z_layer',\"pretraining_data\",'finetuning_data']\n",
    "df_core = df.set_index(core_params)[results.columns]\n",
    "df_minimal = df.set_index(minimal_params)[results.columns]\n",
    "melted_onlyComp = melt(df, components=COMPONENTS_ONLY)\n"
   ]
  },
  {
   "cell_type": "markdown",
   "id": "251f80e7-ed12-4879-9513-6be5262f4a6a",
   "metadata": {},
   "source": [
    "### Examples of models\n",
    "Let's plot a few models as comparison. Only plot the ones that do not have any nans"
   ]
  },
  {
   "cell_type": "markdown",
   "id": "75d19495-7828-47e6-8671-8bb57c5c8834",
   "metadata": {},
   "source": [
    "! once you have all the results you might want to replace resnet -> rn and mmselfsup -> mmss to gain space"
   ]
  },
  {
   "cell_type": "code",
   "execution_count": null,
   "id": "5d03301d-cb32-4ff1-812d-4f3e05151c73",
   "metadata": {},
   "outputs": [],
   "source": [
    "from IPython.display import IFrame,display\n",
    "\n",
    "is_plot_radar = False\n",
    "save_path=\"figures/all_radar.pdf\"\n",
    "\n",
    "if is_plot_radar:\n",
    "    isna = df[COMPONENTS].isna().any(axis=1)\n",
    "    plot_radar_grid(df, ncols=7, components=[\"agg_risk\"]+COMPONENTS_ONLY, models=~isna, save_path=save_path, \n",
    "                    config_kwargs=dict(font_scale=1, is_despine=False))\n",
    "else:\n",
    "    out = IFrame(Path(\"..\") / save_path, width=1000, height=500)\n",
    "    display(out)"
   ]
  },
  {
   "cell_type": "markdown",
   "id": "31421709-595a-4388-88a8-53cd78777eb0",
   "metadata": {},
   "source": [
    "### Effect over time\n",
    "Let's see how each components changed over time. We will aggregate per year as a rough estimate."
   ]
  },
  {
   "cell_type": "code",
   "execution_count": null,
   "id": "614d88d6-b689-4b92-8463-ae4fce7bdfc4",
   "metadata": {},
   "outputs": [],
   "source": [
    "with plot_config(font_scale=1):\n",
    "    sns.lineplot(data=melted, x=\"year\", y=\"value\", hue=\"component\")"
   ]
  },
  {
   "cell_type": "code",
   "execution_count": null,
   "id": "9a26cd14-abc7-4b20-9948-1c31d23e97ef",
   "metadata": {},
   "outputs": [],
   "source": [
    "with plot_config(font_scale=1):\n",
    "    curr_df = df.copy()[COMPONENTS_ONLY + [\"year\"]]\n",
    "    curr_df.groupby(\"year\").mean().plot.area()"
   ]
  },
  {
   "cell_type": "markdown",
   "id": "a2a1d09b-0132-4c0d-b955-1ab4629e4003",
   "metadata": {},
   "source": [
    "We see that most of the gains over time have been hapening in usability, while the oters haven't changed much. We are now at the point were usability ~= probe gen ~= approx error. We also see that the generalization error is really not a problem at this scale. Note that it might be surprising to see that the probe doesn't generalize so well despite having hundred of thousands of training points and being only linear. "
   ]
  },
  {
   "cell_type": "markdown",
   "id": "7c59d724-0549-4ced-8939-a54abed29f27",
   "metadata": {},
   "source": [
    "Now let's consider models that have the same objectives but have changed over time (hparam tuning) as different version. "
   ]
  },
  {
   "cell_type": "code",
   "execution_count": null,
   "id": "c65c8747-52b1-4e65-98c0-fd9df095dcb0",
   "metadata": {},
   "outputs": [],
   "source": [
    "with plot_config():\n",
    "    df_version = melt(get_only_vary(df, [\"version\"], [\"objective\",\"version\",\"architecture\"]))\n",
    "\n",
    "    sns.relplot(data=df_version, \n",
    "                x=\"version\", \n",
    "                y=\"value\", \n",
    "                hue=\"objective\",\n",
    "                style=\"objective\",\n",
    "               col=\"component\",\n",
    "               kind=\"line\",\n",
    "                facet_kws={'sharey': False}, \n",
    "                #err_style=\"bars\"\n",
    "               )"
   ]
  },
  {
   "cell_type": "markdown",
   "id": "f95031f7-753b-43fe-bf8a-5641e09e5225",
   "metadata": {},
   "source": [
    "We see again that in the three cases usability has been the main driver of progress."
   ]
  },
  {
   "cell_type": "markdown",
   "id": "032fc1e6-f4d8-4b79-ab86-97f963aeb7f4",
   "metadata": {},
   "source": [
    "\n",
    "### Effect of type of method\n",
    "\n",
    "Now let's consider the effect of the type of method\n",
    "\n",
    "**Hypothesis** ISSL showed that contrastive, distillation and clustering all optimize nearly the right objective and can be made correct with minor differences, so we hypothesize that usability for them must be good."
   ]
  },
  {
   "cell_type": "code",
   "execution_count": null,
   "id": "5c8a116c-3792-48ec-a5b0-42d3a6ace046",
   "metadata": {},
   "outputs": [],
   "source": [
    "with plot_config(font_scale=1):\n",
    "    sns.barplot(data=melted_onlyComp, x=\"ssl_mode\", y=\"value\", hue=\"component\")\n",
    "    plt.tight_layout()"
   ]
  },
  {
   "cell_type": "markdown",
   "id": "2f9eb4ae-6a01-477c-9b09-6285b1b761cc",
   "metadata": {},
   "source": [
    "It seems that the ssl mode mostly has an impact on the usability component with transform and generative being very bad. "
   ]
  },
  {
   "cell_type": "markdown",
   "id": "337a6538-b4fb-4747-af79-6cd101670494",
   "metadata": {},
   "source": [
    "## Naive plots\n",
    "The following are naive plots where we plot everything without thinking about confounders. As a result they are likely meaningless for interpretaition but should rather be used as ways to understand our data."
   ]
  },
  {
   "cell_type": "markdown",
   "id": "5ef0ef8f-3ead-4510-aa3e-d138caae387c",
   "metadata": {},
   "source": [
    "### Effect of epochs"
   ]
  },
  {
   "cell_type": "code",
   "execution_count": null,
   "id": "dac91559-7d21-44a9-a334-86ad13ca1807",
   "metadata": {},
   "outputs": [],
   "source": [
    "with plot_config(font_scale=1):\n",
    "    curr_df = copy.deepcopy(df[COMPONENTS_ONLY + [\"epochs\"]])\n",
    "    curr_df.groupby(\"epochs\").mean().plot.area()"
   ]
  },
  {
   "cell_type": "markdown",
   "id": "ef234936-fd06-46c3-bf39-c72d80b928f0",
   "metadata": {},
   "source": [
    "Doesn't show much"
   ]
  },
  {
   "cell_type": "code",
   "execution_count": null,
   "id": "833f52ac-ff8b-48c0-95cc-0cc2fb4da8c3",
   "metadata": {},
   "outputs": [],
   "source": [
    "with plot_config():\n",
    "    sns.relplot(data=melted, x=\"epochs\", y=\"value\", col=\"component\", facet_kws={'sharey': False})"
   ]
  },
  {
   "cell_type": "markdown",
   "id": "06b5716f-11b3-4c57-a355-b5510a5d8bf5",
   "metadata": {},
   "source": [
    "### Effect of batch size"
   ]
  },
  {
   "cell_type": "code",
   "execution_count": null,
   "id": "af28be57-7e5a-4efd-888b-f3b3d8c3bd48",
   "metadata": {},
   "outputs": [],
   "source": [
    "with plot_config(font_scale=1):\n",
    "    curr_df = copy.deepcopy(df[COMPONENTS_ONLY + [\"batch_size\"]])\n",
    "    curr_df.groupby(\"batch_size\").mean().plot.area(logx=True)"
   ]
  },
  {
   "cell_type": "code",
   "execution_count": null,
   "id": "bf9cc326-ec21-40c8-b969-9e61bee0c1b6",
   "metadata": {},
   "outputs": [],
   "source": [
    "with plot_config():\n",
    "    g=sns.relplot(data=melted, x=\"batch_size\", y=\"value\", col=\"component\", facet_kws={'sharey': False})\n",
    "    g.set(xscale=\"log\")"
   ]
  },
  {
   "cell_type": "markdown",
   "id": "ce57e23e-fb04-489e-8d5a-89ebe3b33f28",
   "metadata": {},
   "source": [
    "### Effect of multicrops"
   ]
  },
  {
   "cell_type": "code",
   "execution_count": null,
   "id": "d58b9413-18cb-4fb8-abcc-534f67f2d64b",
   "metadata": {},
   "outputs": [],
   "source": [
    "with plot_config(font_scale=1):\n",
    "    curr_df = copy.deepcopy(df[COMPONENTS_ONLY + [\"nviews\"]])\n",
    "    curr_df.groupby(\"nviews\").mean().plot.area()"
   ]
  },
  {
   "cell_type": "markdown",
   "id": "9173eda5-2821-477d-8c52-232b4e47456d",
   "metadata": {},
   "source": [
    "We see that nviews seems to have a huge effect on usability but detrimental effect on probing generalization. That being said there is probably a big confounder as few models (and usually more recent) use multicrops."
   ]
  },
  {
   "cell_type": "markdown",
   "id": "0a40c4db-b04b-4cee-8046-8774233053b9",
   "metadata": {},
   "source": [
    "### Effect of dimensionality"
   ]
  },
  {
   "cell_type": "code",
   "execution_count": null,
   "id": "d8d3a555-9cb5-42c9-8b5d-7eab0d0b9be7",
   "metadata": {},
   "outputs": [],
   "source": [
    "with plot_config(font_scale=1):\n",
    "    curr_df = copy.deepcopy(df[COMPONENTS_ONLY + [\"z_dim\"]])\n",
    "    curr_df.groupby(\"z_dim\").mean().plot.area(logx=True)"
   ]
  },
  {
   "cell_type": "code",
   "execution_count": null,
   "id": "4bd6ab2e-72bc-4e5c-9e05-26c85dbe422d",
   "metadata": {},
   "outputs": [],
   "source": [
    "with plot_config():\n",
    "    g=sns.relplot(data=melted, x=\"z_dim\", y=\"value\", col=\"component\", facet_kws={'sharey': False})\n",
    "    g.set(xscale=\"log\")"
   ]
  },
  {
   "cell_type": "markdown",
   "id": "ceded619-9c63-4e77-9286-590893bf312b",
   "metadata": {},
   "source": [
    "### Effect of architecture\n",
    "\n",
    "#### N parameters"
   ]
  },
  {
   "cell_type": "code",
   "execution_count": null,
   "id": "eee10136-1dd7-40e4-a918-5fb838c88f02",
   "metadata": {},
   "outputs": [],
   "source": [
    "with plot_config(font_scale=1):\n",
    "    curr_df = copy.deepcopy(df[COMPONENTS_ONLY + [\"n_parameters\"]])\n",
    "    curr_df.groupby(\"n_parameters\").mean().plot.area(logx=True)"
   ]
  },
  {
   "cell_type": "code",
   "execution_count": null,
   "id": "a1912e45-3816-438b-ba16-a1e92d101ded",
   "metadata": {},
   "outputs": [],
   "source": [
    "with plot_config():\n",
    "    g=sns.relplot(data=melted, x=\"n_parameters\", y=\"value\", col=\"component\", facet_kws={'sharey': False})\n",
    "    g.set(xscale=\"log\")"
   ]
  },
  {
   "cell_type": "markdown",
   "id": "088465a7-9d9e-45c5-b73b-015a9e71f63a",
   "metadata": {},
   "source": [
    "#### ViT vs ResNet"
   ]
  },
  {
   "cell_type": "code",
   "execution_count": null,
   "id": "0ccb444b-522d-4064-87ae-13d0a688b7b9",
   "metadata": {},
   "outputs": [],
   "source": [
    "with plot_config():\n",
    "    g=sns.catplot(data=melted, x=\"family\", y=\"value\", col=\"component\", facet_kws={'sharey': False}, kind=\"box\")\n",
    "#g.set(xscale=\"log\")"
   ]
  },
  {
   "cell_type": "markdown",
   "id": "b8ffa908-b087-4b0e-8df8-a9dfdd93b18f",
   "metadata": {},
   "source": [
    "Appproximation gap seems slightly better."
   ]
  },
  {
   "cell_type": "markdown",
   "id": "3ea12521-bcf4-435a-b458-60cf39cacef4",
   "metadata": {},
   "source": [
    "#### Effect of patch size"
   ]
  },
  {
   "cell_type": "code",
   "execution_count": null,
   "id": "e921dbd3-af30-486e-b3d2-9c815f241ecc",
   "metadata": {},
   "outputs": [],
   "source": [
    "with plot_config():\n",
    "    g=sns.catplot(data=melted[melted.family==\"vit\"], \n",
    "              x=\"patch_size\", y=\"value\", col=\"component\", facet_kws={'sharey': False}, kind=\"box\")\n",
    "#g.set(xscale=\"log\")"
   ]
  },
  {
   "cell_type": "markdown",
   "id": "b52e5432-ca71-4f5f-ab7a-c568c8459a19",
   "metadata": {},
   "source": [
    "Larger patch size is worst approx"
   ]
  },
  {
   "cell_type": "markdown",
   "id": "e0da8c39-4c88-4bc2-ae30-d6e53d74897f",
   "metadata": {},
   "source": [
    "### Effect of projection "
   ]
  },
  {
   "cell_type": "code",
   "execution_count": null,
   "id": "e101f64c-9e5a-4ce7-9439-ec3cf80c19c8",
   "metadata": {},
   "outputs": [],
   "source": [
    "with plot_config():\n",
    "    g=sns.catplot(data=melted, x=\"projection_arch\", y=\"value\", col=\"component\", facet_kws={'sharey': False}, kind=\"box\")\n",
    "#g.set(xscale=\"log\")"
   ]
  },
  {
   "cell_type": "markdown",
   "id": "f807cc02-d7cf-4c38-8132-5c6fc7c3964b",
   "metadata": {},
   "source": [
    "### Effect of pretraining data"
   ]
  },
  {
   "cell_type": "code",
   "execution_count": null,
   "id": "c313f051-5519-4e97-b838-56a1dd89ee80",
   "metadata": {},
   "outputs": [],
   "source": [
    "with plot_config():\n",
    "    g=sns.catplot(data=melted, x=\"pretraining_data\", y=\"value\", col=\"component\", facet_kws={'sharey': False}, kind=\"box\")\n",
    "    g.set_xticklabels(rotation=30)"
   ]
  },
  {
   "cell_type": "markdown",
   "id": "4cb83044-6daa-46f1-9617-7279f334b030",
   "metadata": {},
   "source": [
    "### Effect of finetuning"
   ]
  },
  {
   "cell_type": "code",
   "execution_count": null,
   "id": "7d114b55-0917-4732-9fcd-bcf6dbc740e2",
   "metadata": {},
   "outputs": [],
   "source": [
    "curr_df = df.copy()\n",
    "curr_df[\"is_finetuned\"] = curr_df.finetuning_data.isna()"
   ]
  },
  {
   "cell_type": "code",
   "execution_count": null,
   "id": "da70005a-e19b-40a4-9602-28b2619e4424",
   "metadata": {},
   "outputs": [],
   "source": [
    "with plot_config():\n",
    "    g=sns.catplot(data=melt(curr_df), x=\"is_finetuned\", y=\"value\", col=\"component\", facet_kws={'sharey': False}, kind=\"box\")\n",
    "#g.set(xscale=\"log\")"
   ]
  },
  {
   "cell_type": "code",
   "execution_count": null,
   "id": "2f985f67-6da4-4d34-9c56-2fed253db484",
   "metadata": {},
   "outputs": [],
   "source": []
  },
  {
   "cell_type": "code",
   "execution_count": null,
   "id": "676bebf1-452e-4025-9ec8-6e8911194933",
   "metadata": {},
   "outputs": [],
   "source": []
  },
  {
   "cell_type": "code",
   "execution_count": null,
   "id": "4b87a0c6-3ea2-4002-95d9-c27920cc3369",
   "metadata": {},
   "outputs": [],
   "source": []
  },
  {
   "cell_type": "code",
   "execution_count": null,
   "id": "9de7bb89-7bd1-4dee-a535-74e7eb45ec87",
   "metadata": {},
   "outputs": [],
   "source": []
  }
 ],
 "metadata": {
  "kernelspec": {
   "display_name": "Risk",
   "language": "python",
   "name": "risk"
  },
  "language_info": {
   "codemirror_mode": {
    "name": "ipython",
    "version": 3
   },
   "file_extension": ".py",
   "mimetype": "text/x-python",
   "name": "python",
   "nbconvert_exporter": "python",
   "pygments_lexer": "ipython3",
   "version": "3.10.4"
  }
 },
 "nbformat": 4,
 "nbformat_minor": 5
}
