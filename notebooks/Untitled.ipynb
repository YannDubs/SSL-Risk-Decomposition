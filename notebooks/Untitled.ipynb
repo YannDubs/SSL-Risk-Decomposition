{
 "cells": [
  {
   "cell_type": "code",
   "execution_count": 410,
   "id": "5bb92594-7a55-4cc8-a8d8-4eb1e58f0c68",
   "metadata": {},
   "outputs": [],
   "source": [
    "import einops\n",
    "import torch\n",
    "import torch.nn as nn"
   ]
  },
  {
   "cell_type": "code",
   "execution_count": 418,
   "id": "2abbba52-0721-40c2-bea6-e19d765a32d2",
   "metadata": {},
   "outputs": [],
   "source": [
    "x=torch.rand(1, 768,8,8)\n",
    "cat_avgpool_npatches = [(2,2)] #[(1,1),(2,2),(3,3)]"
   ]
  },
  {
   "cell_type": "code",
   "execution_count": 419,
   "id": "4c93aeea-912c-42aa-b28b-1b49e20e851c",
   "metadata": {},
   "outputs": [],
   "source": [
    "x[:,:,:h//2,:w//2] = 0\n",
    "x[:,:,h//2:,:w//2] = 1\n",
    "x[:,:,:h//2,w//2:] = 2\n",
    "x[:,:,h//2:,w//2:] = 3"
   ]
  },
  {
   "cell_type": "code",
   "execution_count": 420,
   "id": "8b46c75c-c940-4c3d-b8e8-104c8a2d00e9",
   "metadata": {},
   "outputs": [],
   "source": [
    "norms = nn.ParameterDict({f\"nw{nw}_nh{nh}\": nn.LayerNorm(c)\n",
    "                           for nw, nh in cat_avgpool_npatches\n",
    "                           })"
   ]
  },
  {
   "cell_type": "code",
   "execution_count": 421,
   "id": "1b8a0319-db22-4255-a2a1-d7ed7651f7bb",
   "metadata": {},
   "outputs": [
    {
     "name": "stdout",
     "output_type": "stream",
     "text": [
      "tensor([[[0., 2.],\n",
      "         [1., 3.]]])\n",
      "\n"
     ]
    },
    {
     "data": {
      "text/plain": [
       "torch.Size([1, 3072])"
      ]
     },
     "execution_count": 421,
     "metadata": {},
     "output_type": "execute_result"
    }
   ],
   "source": [
    "b, c, h, w = x.shape\n",
    "\n",
    "xx = einops.rearrange(x, \"b c h w -> b h w c\", h=h, w=w)\n",
    "\n",
    "xs = []\n",
    "xxs = []\n",
    "for w1, h1 in cat_avgpool_npatches:\n",
    "    #xx = norms[f\"nw{w1}_nh{h1}\"](xx)\n",
    "    \n",
    "    # add columns / rows to be patchified as desired\n",
    "    add_h = h1-(h%h1) if h%h1 > 0 else 0\n",
    "    add_w = w1-(w%w1) if w%w1 > 0 else 0\n",
    "    if add_h > 0 or add_w > 0:\n",
    "        print(\"IN\")\n",
    "        try:\n",
    "            empty = torch.empty(b,h+add_h,w+add_w,c, \n",
    "                               device=x.device,\n",
    "                               dtype=x.dtype,\n",
    "                               )\n",
    "        except:\n",
    "            pass\n",
    "        \n",
    "        to_split = empty   \n",
    "        to_split[...] = torch.nan\n",
    "        to_split[:,:h,:w,:] = xx\n",
    "    else:\n",
    "        to_split = xx\n",
    "        \n",
    "    # splits the image into desired number of patches. \n",
    "    x_splitted = einops.reduce(to_split, \n",
    "                              \"b (h1 h) (w1 w) c -> b (h1 w1 c)\", \n",
    "                               reduction=torch.nanmean,\n",
    "                               h1=h1, w1=w1)\n",
    "    \n",
    "    print(einops.reduce(x_splitted,\n",
    "                \"b (h1 w1 c) -> b h1 w1\", h1=h1, w1=w1,\n",
    "             reduction=\"mean\"))\n",
    "    print()\n",
    "    \n",
    "    xs += [x_splitted]\n",
    "    # xxs += [einops.rearrange(x_splitted, \n",
    "    #                         \"b (c h1 w1) -> b (h1 w1) c\")]\n",
    "    \n",
    "    #print(x_splitted.shape)\n",
    "    \n",
    "out = torch.cat(xs, dim=-1)\n",
    "out.shape\n"
   ]
  },
  {
   "cell_type": "code",
   "execution_count": 423,
   "id": "0733a6be-0773-4f00-a8ad-f68de383547e",
   "metadata": {},
   "outputs": [
    {
     "data": {
      "text/plain": [
       "torch.Size([1, 3072])"
      ]
     },
     "execution_count": 423,
     "metadata": {},
     "output_type": "execute_result"
    }
   ],
   "source": [
    "x_splitted.shape"
   ]
  },
  {
   "cell_type": "code",
   "execution_count": 424,
   "id": "8d856138-be75-4e0d-a0a0-0eb999a36d49",
   "metadata": {},
   "outputs": [],
   "source": [
    "xxx=einops.rearrange(x_splitted, \n",
    "              \"b (h1 w1 c) -> b h1 w1 c\", \n",
    "               h1=h1, w1=w1)"
   ]
  },
  {
   "cell_type": "code",
   "execution_count": 428,
   "id": "295c199b-8d8d-42bc-b8d7-3531ce6218ac",
   "metadata": {},
   "outputs": [
    {
     "data": {
      "text/plain": [
       "tensor([3.])"
      ]
     },
     "execution_count": 428,
     "metadata": {},
     "output_type": "execute_result"
    }
   ],
   "source": [
    "xxx[0,1,1,:].unique()"
   ]
  },
  {
   "cell_type": "code",
   "execution_count": 440,
   "id": "34259ac6-8f8a-4527-87d0-952e2f93bd78",
   "metadata": {},
   "outputs": [
    {
     "data": {
      "text/plain": [
       "tensor([3.])"
      ]
     },
     "execution_count": 440,
     "metadata": {},
     "output_type": "execute_result"
    }
   ],
   "source": [
    "i=3\n",
    "x_splitted[0,768*i:768*(i+1)].unique()"
   ]
  },
  {
   "cell_type": "code",
   "execution_count": null,
   "id": "ec0389ea-7c74-41dc-9cb0-4931ee340743",
   "metadata": {},
   "outputs": [],
   "source": []
  },
  {
   "cell_type": "code",
   "execution_count": null,
   "id": "d2e41d42-7c01-4148-8920-edefbe38ce4d",
   "metadata": {},
   "outputs": [],
   "source": []
  },
  {
   "cell_type": "code",
   "execution_count": null,
   "id": "2c5d6b2d-6b8d-4e42-a288-fb1f45150313",
   "metadata": {},
   "outputs": [],
   "source": []
  },
  {
   "cell_type": "code",
   "execution_count": 258,
   "id": "897435cb-2dd4-4135-9abc-bfb898e96455",
   "metadata": {},
   "outputs": [
    {
     "data": {
      "text/plain": [
       "(tensor([[0.6998, 0.8187, 0.2460, 0.8645],\n",
       "         [0.9085, 0.9319, 0.9502, 0.2328]]),\n",
       " tensor([[0.9736, 0.1607, 0.7509, 0.3523],\n",
       "         [0.7845, 0.4870, 0.4843, 0.6039]]),\n",
       " tensor([[0.8934, 0.2586, 0.8526, 0.3633],\n",
       "         [0.8185, 0.3893, 0.8587, 0.1655]]))"
      ]
     },
     "execution_count": 258,
     "metadata": {},
     "output_type": "execute_result"
    }
   ],
   "source": [
    "einops.rearrange(xs,\n",
    "                \"b (c h1 w1) -> b h1 w1\", h1=h1, w1=w1)"
   ]
  },
  {
   "cell_type": "code",
   "execution_count": 257,
   "id": "dfd82712-31bd-495e-8cba-dd52f3e0f8a3",
   "metadata": {},
   "outputs": [
    {
     "data": {
      "text/plain": [
       "\u001b[0;31mDocstring:\u001b[0m\n",
       "unbind(input, dim=0) -> seq\n",
       "\n",
       "Removes a tensor dimension.\n",
       "\n",
       "Returns a tuple of all slices along a given dimension, already without it.\n",
       "\n",
       "Arguments:\n",
       "    input (Tensor): the tensor to unbind\n",
       "    dim (int): dimension to remove\n",
       "\n",
       "Example::\n",
       "\n",
       "    >>> torch.unbind(torch.tensor([[1, 2, 3],\n",
       "    >>>                            [4, 5, 6],\n",
       "    >>>                            [7, 8, 9]]))\n",
       "    (tensor([1, 2, 3]), tensor([4, 5, 6]), tensor([7, 8, 9]))\n",
       "\u001b[0;31mType:\u001b[0m      builtin_function_or_method\n"
      ]
     },
     "metadata": {},
     "output_type": "display_data"
    }
   ],
   "source": [
    "torch.unbind??"
   ]
  },
  {
   "cell_type": "code",
   "execution_count": 242,
   "id": "493d4428-3749-4821-8a99-6c6eb3bd4d6d",
   "metadata": {},
   "outputs": [
    {
     "data": {
      "text/plain": [
       "[(1, 1), (2, 2), (3, 3)]"
      ]
     },
     "execution_count": 242,
     "metadata": {},
     "output_type": "execute_result"
    }
   ],
   "source": [
    "cat_avgpool_npatches"
   ]
  },
  {
   "cell_type": "code",
   "execution_count": null,
   "id": "da95d53e-fef0-43bc-858a-da1e36a294e9",
   "metadata": {},
   "outputs": [],
   "source": []
  },
  {
   "cell_type": "code",
   "execution_count": 237,
   "id": "f0b060bf-1c4c-4475-9221-cb8f28f31fa9",
   "metadata": {},
   "outputs": [
    {
     "data": {
      "text/plain": [
       "tensor(0.4962)"
      ]
     },
     "execution_count": 237,
     "metadata": {},
     "output_type": "execute_result"
    }
   ],
   "source": [
    "x_splitted[:,:].mean()"
   ]
  },
  {
   "cell_type": "code",
   "execution_count": 179,
   "id": "a48a1d12-f475-4de3-afc5-853ef3df760f",
   "metadata": {},
   "outputs": [
    {
     "data": {
      "text/plain": [
       "tensor(1.6667)"
      ]
     },
     "execution_count": 179,
     "metadata": {},
     "output_type": "execute_result"
    }
   ],
   "source": [
    "x_splitted[:,:x_splitted.shape[-1]//2].mean()"
   ]
  },
  {
   "cell_type": "code",
   "execution_count": 183,
   "id": "d1731217-d7b9-4677-a783-3d2531279277",
   "metadata": {},
   "outputs": [
    {
     "data": {
      "text/plain": [
       "tensor([[[0.0000, 1.3333, 2.0000],\n",
       "         [0.6667, 2.0000, 2.6667],\n",
       "         [1.0000, 2.3333, 3.0000]]])"
      ]
     },
     "execution_count": 183,
     "metadata": {},
     "output_type": "execute_result"
    }
   ],
   "source": [
    "einops.reduce(x_splitted[:,:x_splitted.shape[-1]//2],\n",
    "                \"b (c h1 w1) -> b h1 w1\", h1=h1, w1=w1,\n",
    "             reduction=\"mean\")"
   ]
  },
  {
   "cell_type": "code",
   "execution_count": 184,
   "id": "889db636-5387-403d-8fcc-32c7efe36e67",
   "metadata": {},
   "outputs": [
    {
     "data": {
      "text/plain": [
       "tensor([[[0.0000, 1.3333, 2.0000],\n",
       "         [0.6667, 2.0000, 2.6667],\n",
       "         [1.0000, 2.3333, 3.0000]]])"
      ]
     },
     "execution_count": 184,
     "metadata": {},
     "output_type": "execute_result"
    }
   ],
   "source": [
    "einops.reduce(x_splitted,\n",
    "                \"b (c h1 w1) -> b h1 w1\", h1=h1, w1=w1,\n",
    "             reduction=\"mean\")"
   ]
  },
  {
   "cell_type": "code",
   "execution_count": 136,
   "id": "02050d34-3ef4-41bf-aeac-b4f527960700",
   "metadata": {},
   "outputs": [
    {
     "data": {
      "text/plain": [
       "12288"
      ]
     },
     "execution_count": 136,
     "metadata": {},
     "output_type": "execute_result"
    }
   ],
   "source": [
    "2048*6"
   ]
  },
  {
   "cell_type": "code",
   "execution_count": 200,
   "id": "509b540b-f5c5-4daf-ba97-ddb7c2705f34",
   "metadata": {},
   "outputs": [],
   "source": [
    "class Matryoshka(torch.nn.Linear):\n",
    "    def __init__(\n",
    "        self,\n",
    "        matryoshka_features,\n",
    "        in_features: int,\n",
    "        out_features: int,\n",
    "        use_bias: bool = True,\n",
    "    ):\n",
    "        super().__init__(in_features=in_features, out_features=out_features, bias=use_bias)\n",
    "        self.matryoshka_features = matryoshka_features\n",
    "\n",
    "    def forward(self, batch: torch.Tensor):\n",
    "        \n",
    "        out = [F.linear(batch[...,:d], self.weight[:,:d], self.bias)\n",
    "               for d in self.matryoshka_features]\n",
    "        return torch.cat(out, dim=-1)"
   ]
  },
  {
   "cell_type": "code",
   "execution_count": 206,
   "id": "617f2dc9-b40d-4f30-8757-a4c0069e1e5c",
   "metadata": {},
   "outputs": [],
   "source": [
    "model = Matryoshka(matryoshka_features=[16,32,64], \n",
    "           in_features=64, out_features=100)\n",
    "model = torch.nn.Linear(61,2)"
   ]
  },
  {
   "cell_type": "code",
   "execution_count": 390,
   "id": "da972d5c-2d55-43de-b2a8-0c5bfe58672c",
   "metadata": {},
   "outputs": [],
   "source": [
    "l=[10,30,100]\n",
    "diff = np.diff(l,prepend=0)\n",
    "factor=np.array([(len(l)-i)/len(l) for i in range(len(l))])\n",
    "1/np.average(factor, weights=diff)"
   ]
  },
  {
   "cell_type": "code",
   "execution_count": 396,
   "id": "d851e4e0-debf-4119-b190-5237368663bd",
   "metadata": {},
   "outputs": [
    {
     "data": {
      "text/plain": [
       "1"
      ]
     },
     "execution_count": 396,
     "metadata": {},
     "output_type": "execute_result"
    }
   ],
   "source": [
    "torch.ones(2).ndim"
   ]
  },
  {
   "cell_type": "code",
   "execution_count": 393,
   "id": "e831730c-b650-4488-9969-4194c716a1b7",
   "metadata": {},
   "outputs": [
    {
     "data": {
      "text/plain": [
       "\u001b[0;31mSignature:\u001b[0m\n",
       "\u001b[0mnp\u001b[0m\u001b[0;34m.\u001b[0m\u001b[0maverage\u001b[0m\u001b[0;34m(\u001b[0m\u001b[0;34m\u001b[0m\n",
       "\u001b[0;34m\u001b[0m    \u001b[0ma\u001b[0m\u001b[0;34m,\u001b[0m\u001b[0;34m\u001b[0m\n",
       "\u001b[0;34m\u001b[0m    \u001b[0maxis\u001b[0m\u001b[0;34m=\u001b[0m\u001b[0;32mNone\u001b[0m\u001b[0;34m,\u001b[0m\u001b[0;34m\u001b[0m\n",
       "\u001b[0;34m\u001b[0m    \u001b[0mweights\u001b[0m\u001b[0;34m=\u001b[0m\u001b[0;32mNone\u001b[0m\u001b[0;34m,\u001b[0m\u001b[0;34m\u001b[0m\n",
       "\u001b[0;34m\u001b[0m    \u001b[0mreturned\u001b[0m\u001b[0;34m=\u001b[0m\u001b[0;32mFalse\u001b[0m\u001b[0;34m,\u001b[0m\u001b[0;34m\u001b[0m\n",
       "\u001b[0;34m\u001b[0m    \u001b[0;34m*\u001b[0m\u001b[0;34m,\u001b[0m\u001b[0;34m\u001b[0m\n",
       "\u001b[0;34m\u001b[0m    \u001b[0mkeepdims\u001b[0m\u001b[0;34m=\u001b[0m\u001b[0;34m<\u001b[0m\u001b[0mno\u001b[0m \u001b[0mvalue\u001b[0m\u001b[0;34m>\u001b[0m\u001b[0;34m,\u001b[0m\u001b[0;34m\u001b[0m\n",
       "\u001b[0;34m\u001b[0m\u001b[0;34m)\u001b[0m\u001b[0;34m\u001b[0m\u001b[0;34m\u001b[0m\u001b[0m\n",
       "\u001b[0;31mSource:\u001b[0m   \n",
       "\u001b[0;34m@\u001b[0m\u001b[0marray_function_dispatch\u001b[0m\u001b[0;34m(\u001b[0m\u001b[0m_average_dispatcher\u001b[0m\u001b[0;34m)\u001b[0m\u001b[0;34m\u001b[0m\n",
       "\u001b[0;34m\u001b[0m\u001b[0;32mdef\u001b[0m \u001b[0maverage\u001b[0m\u001b[0;34m(\u001b[0m\u001b[0ma\u001b[0m\u001b[0;34m,\u001b[0m \u001b[0maxis\u001b[0m\u001b[0;34m=\u001b[0m\u001b[0;32mNone\u001b[0m\u001b[0;34m,\u001b[0m \u001b[0mweights\u001b[0m\u001b[0;34m=\u001b[0m\u001b[0;32mNone\u001b[0m\u001b[0;34m,\u001b[0m \u001b[0mreturned\u001b[0m\u001b[0;34m=\u001b[0m\u001b[0;32mFalse\u001b[0m\u001b[0;34m,\u001b[0m \u001b[0;34m*\u001b[0m\u001b[0;34m,\u001b[0m\u001b[0;34m\u001b[0m\n",
       "\u001b[0;34m\u001b[0m            \u001b[0mkeepdims\u001b[0m\u001b[0;34m=\u001b[0m\u001b[0mnp\u001b[0m\u001b[0;34m.\u001b[0m\u001b[0m_NoValue\u001b[0m\u001b[0;34m)\u001b[0m\u001b[0;34m:\u001b[0m\u001b[0;34m\u001b[0m\n",
       "\u001b[0;34m\u001b[0m    \u001b[0;34m\"\"\"\u001b[0m\n",
       "\u001b[0;34m    Compute the weighted average along the specified axis.\u001b[0m\n",
       "\u001b[0;34m\u001b[0m\n",
       "\u001b[0;34m    Parameters\u001b[0m\n",
       "\u001b[0;34m    ----------\u001b[0m\n",
       "\u001b[0;34m    a : array_like\u001b[0m\n",
       "\u001b[0;34m        Array containing data to be averaged. If `a` is not an array, a\u001b[0m\n",
       "\u001b[0;34m        conversion is attempted.\u001b[0m\n",
       "\u001b[0;34m    axis : None or int or tuple of ints, optional\u001b[0m\n",
       "\u001b[0;34m        Axis or axes along which to average `a`.  The default,\u001b[0m\n",
       "\u001b[0;34m        axis=None, will average over all of the elements of the input array.\u001b[0m\n",
       "\u001b[0;34m        If axis is negative it counts from the last to the first axis.\u001b[0m\n",
       "\u001b[0;34m\u001b[0m\n",
       "\u001b[0;34m        .. versionadded:: 1.7.0\u001b[0m\n",
       "\u001b[0;34m\u001b[0m\n",
       "\u001b[0;34m        If axis is a tuple of ints, averaging is performed on all of the axes\u001b[0m\n",
       "\u001b[0;34m        specified in the tuple instead of a single axis or all the axes as\u001b[0m\n",
       "\u001b[0;34m        before.\u001b[0m\n",
       "\u001b[0;34m    weights : array_like, optional\u001b[0m\n",
       "\u001b[0;34m        An array of weights associated with the values in `a`. Each value in\u001b[0m\n",
       "\u001b[0;34m        `a` contributes to the average according to its associated weight.\u001b[0m\n",
       "\u001b[0;34m        The weights array can either be 1-D (in which case its length must be\u001b[0m\n",
       "\u001b[0;34m        the size of `a` along the given axis) or of the same shape as `a`.\u001b[0m\n",
       "\u001b[0;34m        If `weights=None`, then all data in `a` are assumed to have a\u001b[0m\n",
       "\u001b[0;34m        weight equal to one.  The 1-D calculation is::\u001b[0m\n",
       "\u001b[0;34m\u001b[0m\n",
       "\u001b[0;34m            avg = sum(a * weights) / sum(weights)\u001b[0m\n",
       "\u001b[0;34m\u001b[0m\n",
       "\u001b[0;34m        The only constraint on `weights` is that `sum(weights)` must not be 0.\u001b[0m\n",
       "\u001b[0;34m    returned : bool, optional\u001b[0m\n",
       "\u001b[0;34m        Default is `False`. If `True`, the tuple (`average`, `sum_of_weights`)\u001b[0m\n",
       "\u001b[0;34m        is returned, otherwise only the average is returned.\u001b[0m\n",
       "\u001b[0;34m        If `weights=None`, `sum_of_weights` is equivalent to the number of\u001b[0m\n",
       "\u001b[0;34m        elements over which the average is taken.\u001b[0m\n",
       "\u001b[0;34m    keepdims : bool, optional\u001b[0m\n",
       "\u001b[0;34m        If this is set to True, the axes which are reduced are left\u001b[0m\n",
       "\u001b[0;34m        in the result as dimensions with size one. With this option,\u001b[0m\n",
       "\u001b[0;34m        the result will broadcast correctly against the original `a`.\u001b[0m\n",
       "\u001b[0;34m        *Note:* `keepdims` will not work with instances of `numpy.matrix`\u001b[0m\n",
       "\u001b[0;34m        or other classes whose methods do not support `keepdims`.\u001b[0m\n",
       "\u001b[0;34m\u001b[0m\n",
       "\u001b[0;34m        .. versionadded:: 1.23.0\u001b[0m\n",
       "\u001b[0;34m\u001b[0m\n",
       "\u001b[0;34m    Returns\u001b[0m\n",
       "\u001b[0;34m    -------\u001b[0m\n",
       "\u001b[0;34m    retval, [sum_of_weights] : array_type or double\u001b[0m\n",
       "\u001b[0;34m        Return the average along the specified axis. When `returned` is `True`,\u001b[0m\n",
       "\u001b[0;34m        return a tuple with the average as the first element and the sum\u001b[0m\n",
       "\u001b[0;34m        of the weights as the second element. `sum_of_weights` is of the\u001b[0m\n",
       "\u001b[0;34m        same type as `retval`. The result dtype follows a genereal pattern.\u001b[0m\n",
       "\u001b[0;34m        If `weights` is None, the result dtype will be that of `a` , or ``float64``\u001b[0m\n",
       "\u001b[0;34m        if `a` is integral. Otherwise, if `weights` is not None and `a` is non-\u001b[0m\n",
       "\u001b[0;34m        integral, the result type will be the type of lowest precision capable of\u001b[0m\n",
       "\u001b[0;34m        representing values of both `a` and `weights`. If `a` happens to be\u001b[0m\n",
       "\u001b[0;34m        integral, the previous rules still applies but the result dtype will\u001b[0m\n",
       "\u001b[0;34m        at least be ``float64``.\u001b[0m\n",
       "\u001b[0;34m\u001b[0m\n",
       "\u001b[0;34m    Raises\u001b[0m\n",
       "\u001b[0;34m    ------\u001b[0m\n",
       "\u001b[0;34m    ZeroDivisionError\u001b[0m\n",
       "\u001b[0;34m        When all weights along axis are zero. See `numpy.ma.average` for a\u001b[0m\n",
       "\u001b[0;34m        version robust to this type of error.\u001b[0m\n",
       "\u001b[0;34m    TypeError\u001b[0m\n",
       "\u001b[0;34m        When the length of 1D `weights` is not the same as the shape of `a`\u001b[0m\n",
       "\u001b[0;34m        along axis.\u001b[0m\n",
       "\u001b[0;34m\u001b[0m\n",
       "\u001b[0;34m    See Also\u001b[0m\n",
       "\u001b[0;34m    --------\u001b[0m\n",
       "\u001b[0;34m    mean\u001b[0m\n",
       "\u001b[0;34m\u001b[0m\n",
       "\u001b[0;34m    ma.average : average for masked arrays -- useful if your data contains\u001b[0m\n",
       "\u001b[0;34m                 \"missing\" values\u001b[0m\n",
       "\u001b[0;34m    numpy.result_type : Returns the type that results from applying the\u001b[0m\n",
       "\u001b[0;34m                        numpy type promotion rules to the arguments.\u001b[0m\n",
       "\u001b[0;34m\u001b[0m\n",
       "\u001b[0;34m    Examples\u001b[0m\n",
       "\u001b[0;34m    --------\u001b[0m\n",
       "\u001b[0;34m    >>> data = np.arange(1, 5)\u001b[0m\n",
       "\u001b[0;34m    >>> data\u001b[0m\n",
       "\u001b[0;34m    array([1, 2, 3, 4])\u001b[0m\n",
       "\u001b[0;34m    >>> np.average(data)\u001b[0m\n",
       "\u001b[0;34m    2.5\u001b[0m\n",
       "\u001b[0;34m    >>> np.average(np.arange(1, 11), weights=np.arange(10, 0, -1))\u001b[0m\n",
       "\u001b[0;34m    4.0\u001b[0m\n",
       "\u001b[0;34m\u001b[0m\n",
       "\u001b[0;34m    >>> data = np.arange(6).reshape((3, 2))\u001b[0m\n",
       "\u001b[0;34m    >>> data\u001b[0m\n",
       "\u001b[0;34m    array([[0, 1],\u001b[0m\n",
       "\u001b[0;34m           [2, 3],\u001b[0m\n",
       "\u001b[0;34m           [4, 5]])\u001b[0m\n",
       "\u001b[0;34m    >>> np.average(data, axis=1, weights=[1./4, 3./4])\u001b[0m\n",
       "\u001b[0;34m    array([0.75, 2.75, 4.75])\u001b[0m\n",
       "\u001b[0;34m    >>> np.average(data, weights=[1./4, 3./4])\u001b[0m\n",
       "\u001b[0;34m    Traceback (most recent call last):\u001b[0m\n",
       "\u001b[0;34m        ...\u001b[0m\n",
       "\u001b[0;34m    TypeError: Axis must be specified when shapes of a and weights differ.\u001b[0m\n",
       "\u001b[0;34m\u001b[0m\n",
       "\u001b[0;34m    >>> a = np.ones(5, dtype=np.float128)\u001b[0m\n",
       "\u001b[0;34m    >>> w = np.ones(5, dtype=np.complex64)\u001b[0m\n",
       "\u001b[0;34m    >>> avg = np.average(a, weights=w)\u001b[0m\n",
       "\u001b[0;34m    >>> print(avg.dtype)\u001b[0m\n",
       "\u001b[0;34m    complex256\u001b[0m\n",
       "\u001b[0;34m\u001b[0m\n",
       "\u001b[0;34m    With ``keepdims=True``, the following result has shape (3, 1).\u001b[0m\n",
       "\u001b[0;34m\u001b[0m\n",
       "\u001b[0;34m    >>> np.average(data, axis=1, keepdims=True)\u001b[0m\n",
       "\u001b[0;34m    array([[0.5],\u001b[0m\n",
       "\u001b[0;34m           [2.5],\u001b[0m\n",
       "\u001b[0;34m           [4.5]])\u001b[0m\n",
       "\u001b[0;34m    \"\"\"\u001b[0m\u001b[0;34m\u001b[0m\n",
       "\u001b[0;34m\u001b[0m    \u001b[0ma\u001b[0m \u001b[0;34m=\u001b[0m \u001b[0mnp\u001b[0m\u001b[0;34m.\u001b[0m\u001b[0masanyarray\u001b[0m\u001b[0;34m(\u001b[0m\u001b[0ma\u001b[0m\u001b[0;34m)\u001b[0m\u001b[0;34m\u001b[0m\n",
       "\u001b[0;34m\u001b[0m\u001b[0;34m\u001b[0m\n",
       "\u001b[0;34m\u001b[0m    \u001b[0;32mif\u001b[0m \u001b[0mkeepdims\u001b[0m \u001b[0;32mis\u001b[0m \u001b[0mnp\u001b[0m\u001b[0;34m.\u001b[0m\u001b[0m_NoValue\u001b[0m\u001b[0;34m:\u001b[0m\u001b[0;34m\u001b[0m\n",
       "\u001b[0;34m\u001b[0m        \u001b[0;31m# Don't pass on the keepdims argument if one wasn't given.\u001b[0m\u001b[0;34m\u001b[0m\n",
       "\u001b[0;34m\u001b[0m        \u001b[0mkeepdims_kw\u001b[0m \u001b[0;34m=\u001b[0m \u001b[0;34m{\u001b[0m\u001b[0;34m}\u001b[0m\u001b[0;34m\u001b[0m\n",
       "\u001b[0;34m\u001b[0m    \u001b[0;32melse\u001b[0m\u001b[0;34m:\u001b[0m\u001b[0;34m\u001b[0m\n",
       "\u001b[0;34m\u001b[0m        \u001b[0mkeepdims_kw\u001b[0m \u001b[0;34m=\u001b[0m \u001b[0;34m{\u001b[0m\u001b[0;34m'keepdims'\u001b[0m\u001b[0;34m:\u001b[0m \u001b[0mkeepdims\u001b[0m\u001b[0;34m}\u001b[0m\u001b[0;34m\u001b[0m\n",
       "\u001b[0;34m\u001b[0m\u001b[0;34m\u001b[0m\n",
       "\u001b[0;34m\u001b[0m    \u001b[0;32mif\u001b[0m \u001b[0mweights\u001b[0m \u001b[0;32mis\u001b[0m \u001b[0;32mNone\u001b[0m\u001b[0;34m:\u001b[0m\u001b[0;34m\u001b[0m\n",
       "\u001b[0;34m\u001b[0m        \u001b[0mavg\u001b[0m \u001b[0;34m=\u001b[0m \u001b[0ma\u001b[0m\u001b[0;34m.\u001b[0m\u001b[0mmean\u001b[0m\u001b[0;34m(\u001b[0m\u001b[0maxis\u001b[0m\u001b[0;34m,\u001b[0m \u001b[0;34m**\u001b[0m\u001b[0mkeepdims_kw\u001b[0m\u001b[0;34m)\u001b[0m\u001b[0;34m\u001b[0m\n",
       "\u001b[0;34m\u001b[0m        \u001b[0mscl\u001b[0m \u001b[0;34m=\u001b[0m \u001b[0mavg\u001b[0m\u001b[0;34m.\u001b[0m\u001b[0mdtype\u001b[0m\u001b[0;34m.\u001b[0m\u001b[0mtype\u001b[0m\u001b[0;34m(\u001b[0m\u001b[0ma\u001b[0m\u001b[0;34m.\u001b[0m\u001b[0msize\u001b[0m\u001b[0;34m/\u001b[0m\u001b[0mavg\u001b[0m\u001b[0;34m.\u001b[0m\u001b[0msize\u001b[0m\u001b[0;34m)\u001b[0m\u001b[0;34m\u001b[0m\n",
       "\u001b[0;34m\u001b[0m    \u001b[0;32melse\u001b[0m\u001b[0;34m:\u001b[0m\u001b[0;34m\u001b[0m\n",
       "\u001b[0;34m\u001b[0m        \u001b[0mwgt\u001b[0m \u001b[0;34m=\u001b[0m \u001b[0mnp\u001b[0m\u001b[0;34m.\u001b[0m\u001b[0masanyarray\u001b[0m\u001b[0;34m(\u001b[0m\u001b[0mweights\u001b[0m\u001b[0;34m)\u001b[0m\u001b[0;34m\u001b[0m\n",
       "\u001b[0;34m\u001b[0m\u001b[0;34m\u001b[0m\n",
       "\u001b[0;34m\u001b[0m        \u001b[0;32mif\u001b[0m \u001b[0missubclass\u001b[0m\u001b[0;34m(\u001b[0m\u001b[0ma\u001b[0m\u001b[0;34m.\u001b[0m\u001b[0mdtype\u001b[0m\u001b[0;34m.\u001b[0m\u001b[0mtype\u001b[0m\u001b[0;34m,\u001b[0m \u001b[0;34m(\u001b[0m\u001b[0mnp\u001b[0m\u001b[0;34m.\u001b[0m\u001b[0minteger\u001b[0m\u001b[0;34m,\u001b[0m \u001b[0mnp\u001b[0m\u001b[0;34m.\u001b[0m\u001b[0mbool_\u001b[0m\u001b[0;34m)\u001b[0m\u001b[0;34m)\u001b[0m\u001b[0;34m:\u001b[0m\u001b[0;34m\u001b[0m\n",
       "\u001b[0;34m\u001b[0m            \u001b[0mresult_dtype\u001b[0m \u001b[0;34m=\u001b[0m \u001b[0mnp\u001b[0m\u001b[0;34m.\u001b[0m\u001b[0mresult_type\u001b[0m\u001b[0;34m(\u001b[0m\u001b[0ma\u001b[0m\u001b[0;34m.\u001b[0m\u001b[0mdtype\u001b[0m\u001b[0;34m,\u001b[0m \u001b[0mwgt\u001b[0m\u001b[0;34m.\u001b[0m\u001b[0mdtype\u001b[0m\u001b[0;34m,\u001b[0m \u001b[0;34m'f8'\u001b[0m\u001b[0;34m)\u001b[0m\u001b[0;34m\u001b[0m\n",
       "\u001b[0;34m\u001b[0m        \u001b[0;32melse\u001b[0m\u001b[0;34m:\u001b[0m\u001b[0;34m\u001b[0m\n",
       "\u001b[0;34m\u001b[0m            \u001b[0mresult_dtype\u001b[0m \u001b[0;34m=\u001b[0m \u001b[0mnp\u001b[0m\u001b[0;34m.\u001b[0m\u001b[0mresult_type\u001b[0m\u001b[0;34m(\u001b[0m\u001b[0ma\u001b[0m\u001b[0;34m.\u001b[0m\u001b[0mdtype\u001b[0m\u001b[0;34m,\u001b[0m \u001b[0mwgt\u001b[0m\u001b[0;34m.\u001b[0m\u001b[0mdtype\u001b[0m\u001b[0;34m)\u001b[0m\u001b[0;34m\u001b[0m\n",
       "\u001b[0;34m\u001b[0m\u001b[0;34m\u001b[0m\n",
       "\u001b[0;34m\u001b[0m        \u001b[0;31m# Sanity checks\u001b[0m\u001b[0;34m\u001b[0m\n",
       "\u001b[0;34m\u001b[0m        \u001b[0;32mif\u001b[0m \u001b[0ma\u001b[0m\u001b[0;34m.\u001b[0m\u001b[0mshape\u001b[0m \u001b[0;34m!=\u001b[0m \u001b[0mwgt\u001b[0m\u001b[0;34m.\u001b[0m\u001b[0mshape\u001b[0m\u001b[0;34m:\u001b[0m\u001b[0;34m\u001b[0m\n",
       "\u001b[0;34m\u001b[0m            \u001b[0;32mif\u001b[0m \u001b[0maxis\u001b[0m \u001b[0;32mis\u001b[0m \u001b[0;32mNone\u001b[0m\u001b[0;34m:\u001b[0m\u001b[0;34m\u001b[0m\n",
       "\u001b[0;34m\u001b[0m                \u001b[0;32mraise\u001b[0m \u001b[0mTypeError\u001b[0m\u001b[0;34m(\u001b[0m\u001b[0;34m\u001b[0m\n",
       "\u001b[0;34m\u001b[0m                    \u001b[0;34m\"Axis must be specified when shapes of a and weights \"\u001b[0m\u001b[0;34m\u001b[0m\n",
       "\u001b[0;34m\u001b[0m                    \u001b[0;34m\"differ.\"\u001b[0m\u001b[0;34m)\u001b[0m\u001b[0;34m\u001b[0m\n",
       "\u001b[0;34m\u001b[0m            \u001b[0;32mif\u001b[0m \u001b[0mwgt\u001b[0m\u001b[0;34m.\u001b[0m\u001b[0mndim\u001b[0m \u001b[0;34m!=\u001b[0m \u001b[0;36m1\u001b[0m\u001b[0;34m:\u001b[0m\u001b[0;34m\u001b[0m\n",
       "\u001b[0;34m\u001b[0m                \u001b[0;32mraise\u001b[0m \u001b[0mTypeError\u001b[0m\u001b[0;34m(\u001b[0m\u001b[0;34m\u001b[0m\n",
       "\u001b[0;34m\u001b[0m                    \u001b[0;34m\"1D weights expected when shapes of a and weights differ.\"\u001b[0m\u001b[0;34m)\u001b[0m\u001b[0;34m\u001b[0m\n",
       "\u001b[0;34m\u001b[0m            \u001b[0;32mif\u001b[0m \u001b[0mwgt\u001b[0m\u001b[0;34m.\u001b[0m\u001b[0mshape\u001b[0m\u001b[0;34m[\u001b[0m\u001b[0;36m0\u001b[0m\u001b[0;34m]\u001b[0m \u001b[0;34m!=\u001b[0m \u001b[0ma\u001b[0m\u001b[0;34m.\u001b[0m\u001b[0mshape\u001b[0m\u001b[0;34m[\u001b[0m\u001b[0maxis\u001b[0m\u001b[0;34m]\u001b[0m\u001b[0;34m:\u001b[0m\u001b[0;34m\u001b[0m\n",
       "\u001b[0;34m\u001b[0m                \u001b[0;32mraise\u001b[0m \u001b[0mValueError\u001b[0m\u001b[0;34m(\u001b[0m\u001b[0;34m\u001b[0m\n",
       "\u001b[0;34m\u001b[0m                    \u001b[0;34m\"Length of weights not compatible with specified axis.\"\u001b[0m\u001b[0;34m)\u001b[0m\u001b[0;34m\u001b[0m\n",
       "\u001b[0;34m\u001b[0m\u001b[0;34m\u001b[0m\n",
       "\u001b[0;34m\u001b[0m            \u001b[0;31m# setup wgt to broadcast along axis\u001b[0m\u001b[0;34m\u001b[0m\n",
       "\u001b[0;34m\u001b[0m            \u001b[0mwgt\u001b[0m \u001b[0;34m=\u001b[0m \u001b[0mnp\u001b[0m\u001b[0;34m.\u001b[0m\u001b[0mbroadcast_to\u001b[0m\u001b[0;34m(\u001b[0m\u001b[0mwgt\u001b[0m\u001b[0;34m,\u001b[0m \u001b[0;34m(\u001b[0m\u001b[0ma\u001b[0m\u001b[0;34m.\u001b[0m\u001b[0mndim\u001b[0m\u001b[0;34m-\u001b[0m\u001b[0;36m1\u001b[0m\u001b[0;34m)\u001b[0m\u001b[0;34m*\u001b[0m\u001b[0;34m(\u001b[0m\u001b[0;36m1\u001b[0m\u001b[0;34m,\u001b[0m\u001b[0;34m)\u001b[0m \u001b[0;34m+\u001b[0m \u001b[0mwgt\u001b[0m\u001b[0;34m.\u001b[0m\u001b[0mshape\u001b[0m\u001b[0;34m)\u001b[0m\u001b[0;34m\u001b[0m\n",
       "\u001b[0;34m\u001b[0m            \u001b[0mwgt\u001b[0m \u001b[0;34m=\u001b[0m \u001b[0mwgt\u001b[0m\u001b[0;34m.\u001b[0m\u001b[0mswapaxes\u001b[0m\u001b[0;34m(\u001b[0m\u001b[0;34m-\u001b[0m\u001b[0;36m1\u001b[0m\u001b[0;34m,\u001b[0m \u001b[0maxis\u001b[0m\u001b[0;34m)\u001b[0m\u001b[0;34m\u001b[0m\n",
       "\u001b[0;34m\u001b[0m\u001b[0;34m\u001b[0m\n",
       "\u001b[0;34m\u001b[0m        \u001b[0mscl\u001b[0m \u001b[0;34m=\u001b[0m \u001b[0mwgt\u001b[0m\u001b[0;34m.\u001b[0m\u001b[0msum\u001b[0m\u001b[0;34m(\u001b[0m\u001b[0maxis\u001b[0m\u001b[0;34m=\u001b[0m\u001b[0maxis\u001b[0m\u001b[0;34m,\u001b[0m \u001b[0mdtype\u001b[0m\u001b[0;34m=\u001b[0m\u001b[0mresult_dtype\u001b[0m\u001b[0;34m,\u001b[0m \u001b[0;34m**\u001b[0m\u001b[0mkeepdims_kw\u001b[0m\u001b[0;34m)\u001b[0m\u001b[0;34m\u001b[0m\n",
       "\u001b[0;34m\u001b[0m        \u001b[0;32mif\u001b[0m \u001b[0mnp\u001b[0m\u001b[0;34m.\u001b[0m\u001b[0many\u001b[0m\u001b[0;34m(\u001b[0m\u001b[0mscl\u001b[0m \u001b[0;34m==\u001b[0m \u001b[0;36m0.0\u001b[0m\u001b[0;34m)\u001b[0m\u001b[0;34m:\u001b[0m\u001b[0;34m\u001b[0m\n",
       "\u001b[0;34m\u001b[0m            \u001b[0;32mraise\u001b[0m \u001b[0mZeroDivisionError\u001b[0m\u001b[0;34m(\u001b[0m\u001b[0;34m\u001b[0m\n",
       "\u001b[0;34m\u001b[0m                \u001b[0;34m\"Weights sum to zero, can't be normalized\"\u001b[0m\u001b[0;34m)\u001b[0m\u001b[0;34m\u001b[0m\n",
       "\u001b[0;34m\u001b[0m\u001b[0;34m\u001b[0m\n",
       "\u001b[0;34m\u001b[0m        \u001b[0mavg\u001b[0m \u001b[0;34m=\u001b[0m \u001b[0mnp\u001b[0m\u001b[0;34m.\u001b[0m\u001b[0mmultiply\u001b[0m\u001b[0;34m(\u001b[0m\u001b[0ma\u001b[0m\u001b[0;34m,\u001b[0m \u001b[0mwgt\u001b[0m\u001b[0;34m,\u001b[0m\u001b[0;34m\u001b[0m\n",
       "\u001b[0;34m\u001b[0m                          \u001b[0mdtype\u001b[0m\u001b[0;34m=\u001b[0m\u001b[0mresult_dtype\u001b[0m\u001b[0;34m)\u001b[0m\u001b[0;34m.\u001b[0m\u001b[0msum\u001b[0m\u001b[0;34m(\u001b[0m\u001b[0maxis\u001b[0m\u001b[0;34m,\u001b[0m \u001b[0;34m**\u001b[0m\u001b[0mkeepdims_kw\u001b[0m\u001b[0;34m)\u001b[0m \u001b[0;34m/\u001b[0m \u001b[0mscl\u001b[0m\u001b[0;34m\u001b[0m\n",
       "\u001b[0;34m\u001b[0m\u001b[0;34m\u001b[0m\n",
       "\u001b[0;34m\u001b[0m    \u001b[0;32mif\u001b[0m \u001b[0mreturned\u001b[0m\u001b[0;34m:\u001b[0m\u001b[0;34m\u001b[0m\n",
       "\u001b[0;34m\u001b[0m        \u001b[0;32mif\u001b[0m \u001b[0mscl\u001b[0m\u001b[0;34m.\u001b[0m\u001b[0mshape\u001b[0m \u001b[0;34m!=\u001b[0m \u001b[0mavg\u001b[0m\u001b[0;34m.\u001b[0m\u001b[0mshape\u001b[0m\u001b[0;34m:\u001b[0m\u001b[0;34m\u001b[0m\n",
       "\u001b[0;34m\u001b[0m            \u001b[0mscl\u001b[0m \u001b[0;34m=\u001b[0m \u001b[0mnp\u001b[0m\u001b[0;34m.\u001b[0m\u001b[0mbroadcast_to\u001b[0m\u001b[0;34m(\u001b[0m\u001b[0mscl\u001b[0m\u001b[0;34m,\u001b[0m \u001b[0mavg\u001b[0m\u001b[0;34m.\u001b[0m\u001b[0mshape\u001b[0m\u001b[0;34m)\u001b[0m\u001b[0;34m.\u001b[0m\u001b[0mcopy\u001b[0m\u001b[0;34m(\u001b[0m\u001b[0;34m)\u001b[0m\u001b[0;34m\u001b[0m\n",
       "\u001b[0;34m\u001b[0m        \u001b[0;32mreturn\u001b[0m \u001b[0mavg\u001b[0m\u001b[0;34m,\u001b[0m \u001b[0mscl\u001b[0m\u001b[0;34m\u001b[0m\n",
       "\u001b[0;34m\u001b[0m    \u001b[0;32melse\u001b[0m\u001b[0;34m:\u001b[0m\u001b[0;34m\u001b[0m\n",
       "\u001b[0;34m\u001b[0m        \u001b[0;32mreturn\u001b[0m \u001b[0mavg\u001b[0m\u001b[0;34m\u001b[0m\u001b[0;34m\u001b[0m\u001b[0m\n",
       "\u001b[0;31mFile:\u001b[0m      ~/opt/anaconda3/envs/Risk/lib/python3.10/site-packages/numpy/lib/function_base.py\n",
       "\u001b[0;31mType:\u001b[0m      function\n"
      ]
     },
     "metadata": {},
     "output_type": "display_data"
    }
   ],
   "source": [
    "np.average??"
   ]
  },
  {
   "cell_type": "code",
   "execution_count": 352,
   "id": "a568b34d-d9d2-49c7-9c03-7eb4676d39ee",
   "metadata": {},
   "outputs": [
    {
     "data": {
      "text/plain": [
       "array([20, 70])"
      ]
     },
     "execution_count": 352,
     "metadata": {},
     "output_type": "execute_result"
    }
   ],
   "source": [
    "np.diff(l)"
   ]
  },
  {
   "cell_type": "code",
   "execution_count": 349,
   "id": "ba82e30c-fa03-4859-8798-5dac062c9f59",
   "metadata": {},
   "outputs": [
    {
     "data": {
      "text/plain": [
       "\u001b[0;31mInit signature:\u001b[0m\n",
       "\u001b[0mnn\u001b[0m\u001b[0;34m.\u001b[0m\u001b[0mLinear\u001b[0m\u001b[0;34m(\u001b[0m\u001b[0;34m\u001b[0m\n",
       "\u001b[0;34m\u001b[0m    \u001b[0min_features\u001b[0m\u001b[0;34m:\u001b[0m \u001b[0mint\u001b[0m\u001b[0;34m,\u001b[0m\u001b[0;34m\u001b[0m\n",
       "\u001b[0;34m\u001b[0m    \u001b[0mout_features\u001b[0m\u001b[0;34m:\u001b[0m \u001b[0mint\u001b[0m\u001b[0;34m,\u001b[0m\u001b[0;34m\u001b[0m\n",
       "\u001b[0;34m\u001b[0m    \u001b[0mbias\u001b[0m\u001b[0;34m:\u001b[0m \u001b[0mbool\u001b[0m \u001b[0;34m=\u001b[0m \u001b[0;32mTrue\u001b[0m\u001b[0;34m,\u001b[0m\u001b[0;34m\u001b[0m\n",
       "\u001b[0;34m\u001b[0m    \u001b[0mdevice\u001b[0m\u001b[0;34m=\u001b[0m\u001b[0;32mNone\u001b[0m\u001b[0;34m,\u001b[0m\u001b[0;34m\u001b[0m\n",
       "\u001b[0;34m\u001b[0m    \u001b[0mdtype\u001b[0m\u001b[0;34m=\u001b[0m\u001b[0;32mNone\u001b[0m\u001b[0;34m,\u001b[0m\u001b[0;34m\u001b[0m\n",
       "\u001b[0;34m\u001b[0m\u001b[0;34m)\u001b[0m \u001b[0;34m->\u001b[0m \u001b[0;32mNone\u001b[0m\u001b[0;34m\u001b[0m\u001b[0;34m\u001b[0m\u001b[0m\n",
       "\u001b[0;31mSource:\u001b[0m        \n",
       "\u001b[0;32mclass\u001b[0m \u001b[0mLinear\u001b[0m\u001b[0;34m(\u001b[0m\u001b[0mModule\u001b[0m\u001b[0;34m)\u001b[0m\u001b[0;34m:\u001b[0m\u001b[0;34m\u001b[0m\n",
       "\u001b[0;34m\u001b[0m    \u001b[0;34mr\"\"\"Applies a linear transformation to the incoming data: :math:`y = xA^T + b`\u001b[0m\n",
       "\u001b[0;34m\u001b[0m\n",
       "\u001b[0;34m    This module supports :ref:`TensorFloat32<tf32_on_ampere>`.\u001b[0m\n",
       "\u001b[0;34m\u001b[0m\n",
       "\u001b[0;34m    On certain ROCm devices, when using float16 inputs this module will use :ref:`different precision<fp16_on_mi200>` for backward.\u001b[0m\n",
       "\u001b[0;34m\u001b[0m\n",
       "\u001b[0;34m    Args:\u001b[0m\n",
       "\u001b[0;34m        in_features: size of each input sample\u001b[0m\n",
       "\u001b[0;34m        out_features: size of each output sample\u001b[0m\n",
       "\u001b[0;34m        bias: If set to ``False``, the layer will not learn an additive bias.\u001b[0m\n",
       "\u001b[0;34m            Default: ``True``\u001b[0m\n",
       "\u001b[0;34m\u001b[0m\n",
       "\u001b[0;34m    Shape:\u001b[0m\n",
       "\u001b[0;34m        - Input: :math:`(*, H_{in})` where :math:`*` means any number of\u001b[0m\n",
       "\u001b[0;34m          dimensions including none and :math:`H_{in} = \\text{in\\_features}`.\u001b[0m\n",
       "\u001b[0;34m        - Output: :math:`(*, H_{out})` where all but the last dimension\u001b[0m\n",
       "\u001b[0;34m          are the same shape as the input and :math:`H_{out} = \\text{out\\_features}`.\u001b[0m\n",
       "\u001b[0;34m\u001b[0m\n",
       "\u001b[0;34m    Attributes:\u001b[0m\n",
       "\u001b[0;34m        weight: the learnable weights of the module of shape\u001b[0m\n",
       "\u001b[0;34m            :math:`(\\text{out\\_features}, \\text{in\\_features})`. The values are\u001b[0m\n",
       "\u001b[0;34m            initialized from :math:`\\mathcal{U}(-\\sqrt{k}, \\sqrt{k})`, where\u001b[0m\n",
       "\u001b[0;34m            :math:`k = \\frac{1}{\\text{in\\_features}}`\u001b[0m\n",
       "\u001b[0;34m        bias:   the learnable bias of the module of shape :math:`(\\text{out\\_features})`.\u001b[0m\n",
       "\u001b[0;34m                If :attr:`bias` is ``True``, the values are initialized from\u001b[0m\n",
       "\u001b[0;34m                :math:`\\mathcal{U}(-\\sqrt{k}, \\sqrt{k})` where\u001b[0m\n",
       "\u001b[0;34m                :math:`k = \\frac{1}{\\text{in\\_features}}`\u001b[0m\n",
       "\u001b[0;34m\u001b[0m\n",
       "\u001b[0;34m    Examples::\u001b[0m\n",
       "\u001b[0;34m\u001b[0m\n",
       "\u001b[0;34m        >>> m = nn.Linear(20, 30)\u001b[0m\n",
       "\u001b[0;34m        >>> input = torch.randn(128, 20)\u001b[0m\n",
       "\u001b[0;34m        >>> output = m(input)\u001b[0m\n",
       "\u001b[0;34m        >>> print(output.size())\u001b[0m\n",
       "\u001b[0;34m        torch.Size([128, 30])\u001b[0m\n",
       "\u001b[0;34m    \"\"\"\u001b[0m\u001b[0;34m\u001b[0m\n",
       "\u001b[0;34m\u001b[0m    \u001b[0m__constants__\u001b[0m \u001b[0;34m=\u001b[0m \u001b[0;34m[\u001b[0m\u001b[0;34m'in_features'\u001b[0m\u001b[0;34m,\u001b[0m \u001b[0;34m'out_features'\u001b[0m\u001b[0;34m]\u001b[0m\u001b[0;34m\u001b[0m\n",
       "\u001b[0;34m\u001b[0m    \u001b[0min_features\u001b[0m\u001b[0;34m:\u001b[0m \u001b[0mint\u001b[0m\u001b[0;34m\u001b[0m\n",
       "\u001b[0;34m\u001b[0m    \u001b[0mout_features\u001b[0m\u001b[0;34m:\u001b[0m \u001b[0mint\u001b[0m\u001b[0;34m\u001b[0m\n",
       "\u001b[0;34m\u001b[0m    \u001b[0mweight\u001b[0m\u001b[0;34m:\u001b[0m \u001b[0mTensor\u001b[0m\u001b[0;34m\u001b[0m\n",
       "\u001b[0;34m\u001b[0m\u001b[0;34m\u001b[0m\n",
       "\u001b[0;34m\u001b[0m    \u001b[0;32mdef\u001b[0m \u001b[0m__init__\u001b[0m\u001b[0;34m(\u001b[0m\u001b[0mself\u001b[0m\u001b[0;34m,\u001b[0m \u001b[0min_features\u001b[0m\u001b[0;34m:\u001b[0m \u001b[0mint\u001b[0m\u001b[0;34m,\u001b[0m \u001b[0mout_features\u001b[0m\u001b[0;34m:\u001b[0m \u001b[0mint\u001b[0m\u001b[0;34m,\u001b[0m \u001b[0mbias\u001b[0m\u001b[0;34m:\u001b[0m \u001b[0mbool\u001b[0m \u001b[0;34m=\u001b[0m \u001b[0;32mTrue\u001b[0m\u001b[0;34m,\u001b[0m\u001b[0;34m\u001b[0m\n",
       "\u001b[0;34m\u001b[0m                 \u001b[0mdevice\u001b[0m\u001b[0;34m=\u001b[0m\u001b[0;32mNone\u001b[0m\u001b[0;34m,\u001b[0m \u001b[0mdtype\u001b[0m\u001b[0;34m=\u001b[0m\u001b[0;32mNone\u001b[0m\u001b[0;34m)\u001b[0m \u001b[0;34m->\u001b[0m \u001b[0;32mNone\u001b[0m\u001b[0;34m:\u001b[0m\u001b[0;34m\u001b[0m\n",
       "\u001b[0;34m\u001b[0m        \u001b[0mfactory_kwargs\u001b[0m \u001b[0;34m=\u001b[0m \u001b[0;34m{\u001b[0m\u001b[0;34m'device'\u001b[0m\u001b[0;34m:\u001b[0m \u001b[0mdevice\u001b[0m\u001b[0;34m,\u001b[0m \u001b[0;34m'dtype'\u001b[0m\u001b[0;34m:\u001b[0m \u001b[0mdtype\u001b[0m\u001b[0;34m}\u001b[0m\u001b[0;34m\u001b[0m\n",
       "\u001b[0;34m\u001b[0m        \u001b[0msuper\u001b[0m\u001b[0;34m(\u001b[0m\u001b[0mLinear\u001b[0m\u001b[0;34m,\u001b[0m \u001b[0mself\u001b[0m\u001b[0;34m)\u001b[0m\u001b[0;34m.\u001b[0m\u001b[0m__init__\u001b[0m\u001b[0;34m(\u001b[0m\u001b[0;34m)\u001b[0m\u001b[0;34m\u001b[0m\n",
       "\u001b[0;34m\u001b[0m        \u001b[0mself\u001b[0m\u001b[0;34m.\u001b[0m\u001b[0min_features\u001b[0m \u001b[0;34m=\u001b[0m \u001b[0min_features\u001b[0m\u001b[0;34m\u001b[0m\n",
       "\u001b[0;34m\u001b[0m        \u001b[0mself\u001b[0m\u001b[0;34m.\u001b[0m\u001b[0mout_features\u001b[0m \u001b[0;34m=\u001b[0m \u001b[0mout_features\u001b[0m\u001b[0;34m\u001b[0m\n",
       "\u001b[0;34m\u001b[0m        \u001b[0mself\u001b[0m\u001b[0;34m.\u001b[0m\u001b[0mweight\u001b[0m \u001b[0;34m=\u001b[0m \u001b[0mParameter\u001b[0m\u001b[0;34m(\u001b[0m\u001b[0mtorch\u001b[0m\u001b[0;34m.\u001b[0m\u001b[0mempty\u001b[0m\u001b[0;34m(\u001b[0m\u001b[0;34m(\u001b[0m\u001b[0mout_features\u001b[0m\u001b[0;34m,\u001b[0m \u001b[0min_features\u001b[0m\u001b[0;34m)\u001b[0m\u001b[0;34m,\u001b[0m \u001b[0;34m**\u001b[0m\u001b[0mfactory_kwargs\u001b[0m\u001b[0;34m)\u001b[0m\u001b[0;34m)\u001b[0m\u001b[0;34m\u001b[0m\n",
       "\u001b[0;34m\u001b[0m        \u001b[0;32mif\u001b[0m \u001b[0mbias\u001b[0m\u001b[0;34m:\u001b[0m\u001b[0;34m\u001b[0m\n",
       "\u001b[0;34m\u001b[0m            \u001b[0mself\u001b[0m\u001b[0;34m.\u001b[0m\u001b[0mbias\u001b[0m \u001b[0;34m=\u001b[0m \u001b[0mParameter\u001b[0m\u001b[0;34m(\u001b[0m\u001b[0mtorch\u001b[0m\u001b[0;34m.\u001b[0m\u001b[0mempty\u001b[0m\u001b[0;34m(\u001b[0m\u001b[0mout_features\u001b[0m\u001b[0;34m,\u001b[0m \u001b[0;34m**\u001b[0m\u001b[0mfactory_kwargs\u001b[0m\u001b[0;34m)\u001b[0m\u001b[0;34m)\u001b[0m\u001b[0;34m\u001b[0m\n",
       "\u001b[0;34m\u001b[0m        \u001b[0;32melse\u001b[0m\u001b[0;34m:\u001b[0m\u001b[0;34m\u001b[0m\n",
       "\u001b[0;34m\u001b[0m            \u001b[0mself\u001b[0m\u001b[0;34m.\u001b[0m\u001b[0mregister_parameter\u001b[0m\u001b[0;34m(\u001b[0m\u001b[0;34m'bias'\u001b[0m\u001b[0;34m,\u001b[0m \u001b[0;32mNone\u001b[0m\u001b[0;34m)\u001b[0m\u001b[0;34m\u001b[0m\n",
       "\u001b[0;34m\u001b[0m        \u001b[0mself\u001b[0m\u001b[0;34m.\u001b[0m\u001b[0mreset_parameters\u001b[0m\u001b[0;34m(\u001b[0m\u001b[0;34m)\u001b[0m\u001b[0;34m\u001b[0m\n",
       "\u001b[0;34m\u001b[0m\u001b[0;34m\u001b[0m\n",
       "\u001b[0;34m\u001b[0m    \u001b[0;32mdef\u001b[0m \u001b[0mreset_parameters\u001b[0m\u001b[0;34m(\u001b[0m\u001b[0mself\u001b[0m\u001b[0;34m)\u001b[0m \u001b[0;34m->\u001b[0m \u001b[0;32mNone\u001b[0m\u001b[0;34m:\u001b[0m\u001b[0;34m\u001b[0m\n",
       "\u001b[0;34m\u001b[0m        \u001b[0;31m# Setting a=sqrt(5) in kaiming_uniform is the same as initializing with\u001b[0m\u001b[0;34m\u001b[0m\n",
       "\u001b[0;34m\u001b[0m        \u001b[0;31m# uniform(-1/sqrt(in_features), 1/sqrt(in_features)). For details, see\u001b[0m\u001b[0;34m\u001b[0m\n",
       "\u001b[0;34m\u001b[0m        \u001b[0;31m# https://github.com/pytorch/pytorch/issues/57109\u001b[0m\u001b[0;34m\u001b[0m\n",
       "\u001b[0;34m\u001b[0m        \u001b[0minit\u001b[0m\u001b[0;34m.\u001b[0m\u001b[0mkaiming_uniform_\u001b[0m\u001b[0;34m(\u001b[0m\u001b[0mself\u001b[0m\u001b[0;34m.\u001b[0m\u001b[0mweight\u001b[0m\u001b[0;34m,\u001b[0m \u001b[0ma\u001b[0m\u001b[0;34m=\u001b[0m\u001b[0mmath\u001b[0m\u001b[0;34m.\u001b[0m\u001b[0msqrt\u001b[0m\u001b[0;34m(\u001b[0m\u001b[0;36m5\u001b[0m\u001b[0;34m)\u001b[0m\u001b[0;34m)\u001b[0m\u001b[0;34m\u001b[0m\n",
       "\u001b[0;34m\u001b[0m        \u001b[0;32mif\u001b[0m \u001b[0mself\u001b[0m\u001b[0;34m.\u001b[0m\u001b[0mbias\u001b[0m \u001b[0;32mis\u001b[0m \u001b[0;32mnot\u001b[0m \u001b[0;32mNone\u001b[0m\u001b[0;34m:\u001b[0m\u001b[0;34m\u001b[0m\n",
       "\u001b[0;34m\u001b[0m            \u001b[0mfan_in\u001b[0m\u001b[0;34m,\u001b[0m \u001b[0m_\u001b[0m \u001b[0;34m=\u001b[0m \u001b[0minit\u001b[0m\u001b[0;34m.\u001b[0m\u001b[0m_calculate_fan_in_and_fan_out\u001b[0m\u001b[0;34m(\u001b[0m\u001b[0mself\u001b[0m\u001b[0;34m.\u001b[0m\u001b[0mweight\u001b[0m\u001b[0;34m)\u001b[0m\u001b[0;34m\u001b[0m\n",
       "\u001b[0;34m\u001b[0m            \u001b[0mbound\u001b[0m \u001b[0;34m=\u001b[0m \u001b[0;36m1\u001b[0m \u001b[0;34m/\u001b[0m \u001b[0mmath\u001b[0m\u001b[0;34m.\u001b[0m\u001b[0msqrt\u001b[0m\u001b[0;34m(\u001b[0m\u001b[0mfan_in\u001b[0m\u001b[0;34m)\u001b[0m \u001b[0;32mif\u001b[0m \u001b[0mfan_in\u001b[0m \u001b[0;34m>\u001b[0m \u001b[0;36m0\u001b[0m \u001b[0;32melse\u001b[0m \u001b[0;36m0\u001b[0m\u001b[0;34m\u001b[0m\n",
       "\u001b[0;34m\u001b[0m            \u001b[0minit\u001b[0m\u001b[0;34m.\u001b[0m\u001b[0muniform_\u001b[0m\u001b[0;34m(\u001b[0m\u001b[0mself\u001b[0m\u001b[0;34m.\u001b[0m\u001b[0mbias\u001b[0m\u001b[0;34m,\u001b[0m \u001b[0;34m-\u001b[0m\u001b[0mbound\u001b[0m\u001b[0;34m,\u001b[0m \u001b[0mbound\u001b[0m\u001b[0;34m)\u001b[0m\u001b[0;34m\u001b[0m\n",
       "\u001b[0;34m\u001b[0m\u001b[0;34m\u001b[0m\n",
       "\u001b[0;34m\u001b[0m    \u001b[0;32mdef\u001b[0m \u001b[0mforward\u001b[0m\u001b[0;34m(\u001b[0m\u001b[0mself\u001b[0m\u001b[0;34m,\u001b[0m \u001b[0minput\u001b[0m\u001b[0;34m:\u001b[0m \u001b[0mTensor\u001b[0m\u001b[0;34m)\u001b[0m \u001b[0;34m->\u001b[0m \u001b[0mTensor\u001b[0m\u001b[0;34m:\u001b[0m\u001b[0;34m\u001b[0m\n",
       "\u001b[0;34m\u001b[0m        \u001b[0;32mreturn\u001b[0m \u001b[0mF\u001b[0m\u001b[0;34m.\u001b[0m\u001b[0mlinear\u001b[0m\u001b[0;34m(\u001b[0m\u001b[0minput\u001b[0m\u001b[0;34m,\u001b[0m \u001b[0mself\u001b[0m\u001b[0;34m.\u001b[0m\u001b[0mweight\u001b[0m\u001b[0;34m,\u001b[0m \u001b[0mself\u001b[0m\u001b[0;34m.\u001b[0m\u001b[0mbias\u001b[0m\u001b[0;34m)\u001b[0m\u001b[0;34m\u001b[0m\n",
       "\u001b[0;34m\u001b[0m\u001b[0;34m\u001b[0m\n",
       "\u001b[0;34m\u001b[0m    \u001b[0;32mdef\u001b[0m \u001b[0mextra_repr\u001b[0m\u001b[0;34m(\u001b[0m\u001b[0mself\u001b[0m\u001b[0;34m)\u001b[0m \u001b[0;34m->\u001b[0m \u001b[0mstr\u001b[0m\u001b[0;34m:\u001b[0m\u001b[0;34m\u001b[0m\n",
       "\u001b[0;34m\u001b[0m        \u001b[0;32mreturn\u001b[0m \u001b[0;34m'in_features={}, out_features={}, bias={}'\u001b[0m\u001b[0;34m.\u001b[0m\u001b[0mformat\u001b[0m\u001b[0;34m(\u001b[0m\u001b[0;34m\u001b[0m\n",
       "\u001b[0;34m\u001b[0m            \u001b[0mself\u001b[0m\u001b[0;34m.\u001b[0m\u001b[0min_features\u001b[0m\u001b[0;34m,\u001b[0m \u001b[0mself\u001b[0m\u001b[0;34m.\u001b[0m\u001b[0mout_features\u001b[0m\u001b[0;34m,\u001b[0m \u001b[0mself\u001b[0m\u001b[0;34m.\u001b[0m\u001b[0mbias\u001b[0m \u001b[0;32mis\u001b[0m \u001b[0;32mnot\u001b[0m \u001b[0;32mNone\u001b[0m\u001b[0;34m\u001b[0m\n",
       "\u001b[0;34m\u001b[0m        \u001b[0;34m)\u001b[0m\u001b[0;34m\u001b[0m\u001b[0;34m\u001b[0m\u001b[0m\n",
       "\u001b[0;31mFile:\u001b[0m           ~/opt/anaconda3/envs/Risk/lib/python3.10/site-packages/torch/nn/modules/linear.py\n",
       "\u001b[0;31mType:\u001b[0m           type\n",
       "\u001b[0;31mSubclasses:\u001b[0m     NonDynamicallyQuantizableLinear, LazyLinear, Linear, LinearBn1d, Linear, Linear, Matryoshka\n"
      ]
     },
     "metadata": {},
     "output_type": "display_data"
    }
   ],
   "source": [
    "nn.Linear??"
   ]
  },
  {
   "cell_type": "code",
   "execution_count": 207,
   "id": "90759bd4-5e2a-4f8a-968b-bcb7cecaf70a",
   "metadata": {},
   "outputs": [
    {
     "ename": "RuntimeError",
     "evalue": "mat1 and mat2 shapes cannot be multiplied (640x1 and 61x2)",
     "output_type": "error",
     "traceback": [
      "\u001b[0;31m---------------------------------------------------------------------------\u001b[0m",
      "\u001b[0;31mRuntimeError\u001b[0m                              Traceback (most recent call last)",
      "Input \u001b[0;32mIn [207]\u001b[0m, in \u001b[0;36m<cell line: 1>\u001b[0;34m()\u001b[0m\n\u001b[0;32m----> 1\u001b[0m \u001b[43mmodel\u001b[49m\u001b[43m(\u001b[49m\u001b[43mtorch\u001b[49m\u001b[38;5;241;43m.\u001b[39;49m\u001b[43mrand\u001b[49m\u001b[43m(\u001b[49m\u001b[38;5;241;43m10\u001b[39;49m\u001b[43m,\u001b[49m\u001b[38;5;241;43m64\u001b[39;49m\u001b[43m,\u001b[49m\u001b[38;5;241;43m1\u001b[39;49m\u001b[43m,\u001b[49m\u001b[38;5;241;43m1\u001b[39;49m\u001b[43m)\u001b[49m\u001b[43m)\u001b[49m\u001b[38;5;241m.\u001b[39mshape\n",
      "File \u001b[0;32m~/opt/anaconda3/envs/Risk/lib/python3.10/site-packages/torch/nn/modules/module.py:1130\u001b[0m, in \u001b[0;36mModule._call_impl\u001b[0;34m(self, *input, **kwargs)\u001b[0m\n\u001b[1;32m   1126\u001b[0m \u001b[38;5;66;03m# If we don't have any hooks, we want to skip the rest of the logic in\u001b[39;00m\n\u001b[1;32m   1127\u001b[0m \u001b[38;5;66;03m# this function, and just call forward.\u001b[39;00m\n\u001b[1;32m   1128\u001b[0m \u001b[38;5;28;01mif\u001b[39;00m \u001b[38;5;129;01mnot\u001b[39;00m (\u001b[38;5;28mself\u001b[39m\u001b[38;5;241m.\u001b[39m_backward_hooks \u001b[38;5;129;01mor\u001b[39;00m \u001b[38;5;28mself\u001b[39m\u001b[38;5;241m.\u001b[39m_forward_hooks \u001b[38;5;129;01mor\u001b[39;00m \u001b[38;5;28mself\u001b[39m\u001b[38;5;241m.\u001b[39m_forward_pre_hooks \u001b[38;5;129;01mor\u001b[39;00m _global_backward_hooks\n\u001b[1;32m   1129\u001b[0m         \u001b[38;5;129;01mor\u001b[39;00m _global_forward_hooks \u001b[38;5;129;01mor\u001b[39;00m _global_forward_pre_hooks):\n\u001b[0;32m-> 1130\u001b[0m     \u001b[38;5;28;01mreturn\u001b[39;00m \u001b[43mforward_call\u001b[49m\u001b[43m(\u001b[49m\u001b[38;5;241;43m*\u001b[39;49m\u001b[38;5;28;43minput\u001b[39;49m\u001b[43m,\u001b[49m\u001b[43m \u001b[49m\u001b[38;5;241;43m*\u001b[39;49m\u001b[38;5;241;43m*\u001b[39;49m\u001b[43mkwargs\u001b[49m\u001b[43m)\u001b[49m\n\u001b[1;32m   1131\u001b[0m \u001b[38;5;66;03m# Do not call functions when jit is used\u001b[39;00m\n\u001b[1;32m   1132\u001b[0m full_backward_hooks, non_full_backward_hooks \u001b[38;5;241m=\u001b[39m [], []\n",
      "File \u001b[0;32m~/opt/anaconda3/envs/Risk/lib/python3.10/site-packages/torch/nn/modules/linear.py:114\u001b[0m, in \u001b[0;36mLinear.forward\u001b[0;34m(self, input)\u001b[0m\n\u001b[1;32m    113\u001b[0m \u001b[38;5;28;01mdef\u001b[39;00m \u001b[38;5;21mforward\u001b[39m(\u001b[38;5;28mself\u001b[39m, \u001b[38;5;28minput\u001b[39m: Tensor) \u001b[38;5;241m-\u001b[39m\u001b[38;5;241m>\u001b[39m Tensor:\n\u001b[0;32m--> 114\u001b[0m     \u001b[38;5;28;01mreturn\u001b[39;00m \u001b[43mF\u001b[49m\u001b[38;5;241;43m.\u001b[39;49m\u001b[43mlinear\u001b[49m\u001b[43m(\u001b[49m\u001b[38;5;28;43minput\u001b[39;49m\u001b[43m,\u001b[49m\u001b[43m \u001b[49m\u001b[38;5;28;43mself\u001b[39;49m\u001b[38;5;241;43m.\u001b[39;49m\u001b[43mweight\u001b[49m\u001b[43m,\u001b[49m\u001b[43m \u001b[49m\u001b[38;5;28;43mself\u001b[39;49m\u001b[38;5;241;43m.\u001b[39;49m\u001b[43mbias\u001b[49m\u001b[43m)\u001b[49m\n",
      "\u001b[0;31mRuntimeError\u001b[0m: mat1 and mat2 shapes cannot be multiplied (640x1 and 61x2)"
     ]
    }
   ],
   "source": [
    "model(torch.rand(10,64,1,1)).shape"
   ]
  },
  {
   "cell_type": "code",
   "execution_count": 116,
   "id": "8e5c2d21-cc8f-482d-acdb-0f7d72ffbfbc",
   "metadata": {},
   "outputs": [
    {
     "data": {
      "text/plain": [
       "1"
      ]
     },
     "execution_count": 116,
     "metadata": {},
     "output_type": "execute_result"
    }
   ],
   "source": [
    "add_h"
   ]
  },
  {
   "cell_type": "code",
   "execution_count": 338,
   "id": "8fd9dc9d-0c06-445f-89f1-f0bee56cd9c8",
   "metadata": {},
   "outputs": [],
   "source": [
    "from functools import partial\n",
    "class BottleneckExpand(nn.Module):\n",
    "\n",
    "    def __init__(\n",
    "            self,\n",
    "            in_channels,\n",
    "            hidden_channels,\n",
    "            expansion=8,\n",
    "            NormLayer=nn.BatchNorm2d,\n",
    "            Activation=partial(nn.ReLU, inplace=True),\n",
    "            is_residual=True,\n",
    "            layer_scale_init_value=1e-6,\n",
    "            bias=False\n",
    "    ):\n",
    "        super().__init__()\n",
    "        self.expansion = expansion\n",
    "        self.is_residual = is_residual\n",
    "        out_channels = in_channels * self.expansion\n",
    "        self.conv1 = nn.Conv2d(in_channels, hidden_channels, kernel_size=1, bias=bias)\n",
    "        self.norm1 = NormLayer(hidden_channels)\n",
    "        self.conv2 = nn.Conv2d(hidden_channels, hidden_channels, kernel_size=3, bias=bias, padding=1)\n",
    "        self.norm2 = NormLayer(hidden_channels)\n",
    "        self.conv3 = nn.Conv2d(hidden_channels, out_channels, kernel_size=1, bias=bias)\n",
    "        self.norm3 = NormLayer(out_channels)\n",
    "        self.act = Activation()\n",
    "\n",
    "        self.gamma = (\n",
    "            nn.Parameter(layer_scale_init_value * torch.ones((out_channels)), requires_grad=True)\n",
    "            if layer_scale_init_value > 0\n",
    "            else None\n",
    "        )\n",
    "\n",
    "\n",
    "\n",
    "    def forward(self, x):\n",
    "        identity = x\n",
    "\n",
    "        out = self.conv1(x)\n",
    "        out = self.norm1(out)\n",
    "        out = self.act(out)\n",
    "\n",
    "        out = self.conv2(out)\n",
    "        out = self.norm2(out)\n",
    "        out = self.act(out)\n",
    "\n",
    "        out = self.conv3(out)\n",
    "        out = self.norm3(out)\n",
    "        out = self.act(out)\n",
    "\n",
    "        if self.is_residual:\n",
    "            identity = einops.repeat(identity, 'b c h w -> b (tile c) h w', tile=self.expansion)\n",
    "            out = identity + self.gamma * out\n",
    "\n",
    "        return out\n"
   ]
  },
  {
   "cell_type": "code",
   "execution_count": null,
   "id": "3d4ed594-9a59-4c45-96d2-997c7e9ce2aa",
   "metadata": {},
   "outputs": [],
   "source": []
  },
  {
   "cell_type": "code",
   "execution_count": 339,
   "id": "4efccc4a-0c7c-48a0-a347-d40d6f738da1",
   "metadata": {},
   "outputs": [],
   "source": [
    "def convnext_small(**kwargs):\n",
    "    model = ConvNeXt(depths=[3, 3, 27, 3], dims=[96, 192, 384, 768], **kwargs)\n",
    "    return model, 768"
   ]
  },
  {
   "cell_type": "code",
   "execution_count": 340,
   "id": "27ec6c5d-69f3-4fdb-98b9-433c7337382c",
   "metadata": {},
   "outputs": [
    {
     "ename": "NameError",
     "evalue": "name 'Z_dim_old_tmp_new' is not defined",
     "output_type": "error",
     "traceback": [
      "\u001b[0;31m---------------------------------------------------------------------------\u001b[0m",
      "\u001b[0;31mNameError\u001b[0m                                 Traceback (most recent call last)",
      "Input \u001b[0;32mIn [340]\u001b[0m, in \u001b[0;36m<cell line: 1>\u001b[0;34m()\u001b[0m\n\u001b[0;32m----> 1\u001b[0m model \u001b[38;5;241m=\u001b[39m \u001b[43mconvnext_small\u001b[49m\u001b[43m(\u001b[49m\u001b[43m)\u001b[49m[\u001b[38;5;241m0\u001b[39m]\n",
      "Input \u001b[0;32mIn [339]\u001b[0m, in \u001b[0;36mconvnext_small\u001b[0;34m(**kwargs)\u001b[0m\n\u001b[1;32m      1\u001b[0m \u001b[38;5;28;01mdef\u001b[39;00m \u001b[38;5;21mconvnext_small\u001b[39m(\u001b[38;5;241m*\u001b[39m\u001b[38;5;241m*\u001b[39mkwargs):\n\u001b[0;32m----> 2\u001b[0m     model \u001b[38;5;241m=\u001b[39m \u001b[43mConvNeXt\u001b[49m\u001b[43m(\u001b[49m\u001b[43mdepths\u001b[49m\u001b[38;5;241;43m=\u001b[39;49m\u001b[43m[\u001b[49m\u001b[38;5;241;43m3\u001b[39;49m\u001b[43m,\u001b[49m\u001b[43m \u001b[49m\u001b[38;5;241;43m3\u001b[39;49m\u001b[43m,\u001b[49m\u001b[43m \u001b[49m\u001b[38;5;241;43m27\u001b[39;49m\u001b[43m,\u001b[49m\u001b[43m \u001b[49m\u001b[38;5;241;43m3\u001b[39;49m\u001b[43m]\u001b[49m\u001b[43m,\u001b[49m\u001b[43m \u001b[49m\u001b[43mdims\u001b[49m\u001b[38;5;241;43m=\u001b[39;49m\u001b[43m[\u001b[49m\u001b[38;5;241;43m96\u001b[39;49m\u001b[43m,\u001b[49m\u001b[43m \u001b[49m\u001b[38;5;241;43m192\u001b[39;49m\u001b[43m,\u001b[49m\u001b[43m \u001b[49m\u001b[38;5;241;43m384\u001b[39;49m\u001b[43m,\u001b[49m\u001b[43m \u001b[49m\u001b[38;5;241;43m768\u001b[39;49m\u001b[43m]\u001b[49m\u001b[43m,\u001b[49m\u001b[43m \u001b[49m\u001b[38;5;241;43m*\u001b[39;49m\u001b[38;5;241;43m*\u001b[39;49m\u001b[43mkwargs\u001b[49m\u001b[43m)\u001b[49m\n\u001b[1;32m      3\u001b[0m     \u001b[38;5;28;01mreturn\u001b[39;00m model, \u001b[38;5;241m768\u001b[39m\n",
      "Input \u001b[0;32mIn [324]\u001b[0m, in \u001b[0;36mConvNeXt.__init__\u001b[0;34m(self, in_chans, num_classes, depths, dims, drop_path_rate, layer_scale_init_value, head_init_scale, is_set, is_set_normalize, patch_size)\u001b[0m\n\u001b[1;32m    171\u001b[0m     \u001b[38;5;28mself\u001b[39m\u001b[38;5;241m.\u001b[39mstages\u001b[38;5;241m.\u001b[39mappend(stage)\n\u001b[1;32m    172\u001b[0m     cur \u001b[38;5;241m+\u001b[39m\u001b[38;5;241m=\u001b[39m depths[i]\n\u001b[0;32m--> 174\u001b[0m \u001b[38;5;28;01mif\u001b[39;00m \u001b[43mZ_dim_old_tmp_new\u001b[49m \u001b[38;5;129;01mis\u001b[39;00m \u001b[38;5;129;01mnot\u001b[39;00m \u001b[38;5;28;01mNone\u001b[39;00m:\n\u001b[1;32m    175\u001b[0m     old_nchan, tmp_nchan, expand_dim \u001b[38;5;241m=\u001b[39m Z_dim_old_tmp_new\n\u001b[1;32m    176\u001b[0m     \u001b[38;5;28mself\u001b[39m\u001b[38;5;241m.\u001b[39mexpander \u001b[38;5;241m=\u001b[39m DimExpander(old_nchan, expand_dim, tmp_dim\u001b[38;5;241m=\u001b[39mtmp_nchan)\n",
      "\u001b[0;31mNameError\u001b[0m: name 'Z_dim_old_tmp_new' is not defined"
     ]
    }
   ],
   "source": [
    "model = convnext_small()[0]"
   ]
  },
  {
   "cell_type": "code",
   "execution_count": 345,
   "id": "cac7748b-d31f-4534-aeb6-18f5662b6d08",
   "metadata": {},
   "outputs": [
    {
     "data": {
      "text/plain": [
       "384"
      ]
     },
     "execution_count": 345,
     "metadata": {},
     "output_type": "execute_result"
    }
   ],
   "source": [
    "768//2"
   ]
  },
  {
   "cell_type": "code",
   "execution_count": 346,
   "id": "f4057f15-9331-4de5-a63b-6eefbfed01f6",
   "metadata": {},
   "outputs": [],
   "source": [
    "model = BottleneckExpand(768,hidden_channels=384,expansion=14)"
   ]
  },
  {
   "cell_type": "code",
   "execution_count": 347,
   "id": "6f0ccd07-db87-411f-8fe2-e8f99cc727e2",
   "metadata": {},
   "outputs": [
    {
     "data": {
      "text/plain": [
       "5784576"
      ]
     },
     "execution_count": 347,
     "metadata": {},
     "output_type": "execute_result"
    }
   ],
   "source": [
    "sum(len(p.flatten()) for p in model.parameters())"
   ]
  },
  {
   "cell_type": "code",
   "execution_count": 331,
   "id": "36230d3b-1fe1-4dc4-9619-31b2c047282d",
   "metadata": {},
   "outputs": [
    {
     "data": {
      "text/plain": [
       "tensor([1., 1., 1.])"
      ]
     },
     "execution_count": 331,
     "metadata": {},
     "output_type": "execute_result"
    }
   ],
   "source": [
    "torch.ones((3))"
   ]
  },
  {
   "cell_type": "code",
   "execution_count": 324,
   "id": "bf3f849e-77bb-4198-a411-e90d06163f66",
   "metadata": {},
   "outputs": [],
   "source": [
    "# Copyright (c) Meta Platforms, Inc. and affiliates.\n",
    "\n",
    "# All rights reserved.\n",
    "\n",
    "# This source code is licensed under the license found in the\n",
    "# LICENSE file in the root directory of this source tree.\n",
    "import math\n",
    "import einops\n",
    "\n",
    "import torch\n",
    "import torch.nn as nn\n",
    "import torch.nn.functional as F\n",
    "from timm.models.layers import trunc_normal_, DropPath\n",
    "\n",
    "\n",
    "class Block(nn.Module):\n",
    "    r\"\"\" ConvNeXt Block. There are two equivalent implementations:\n",
    "    (1) DwConv -> LayerNorm (channels_first) -> 1x1 Conv -> GELU -> 1x1 Conv; all in (N, C, H, W)\n",
    "    (2) DwConv -> Permute to (N, H, W, C); LayerNorm (channels_last) -> Linear -> GELU -> Linear; Permute back\n",
    "    We use (2) as we find it slightly faster in PyTorch\n",
    "    \n",
    "    Args:\n",
    "        dim (int): Number of input channels.\n",
    "        drop_path (float): Stochastic depth rate. Default: 0.0\n",
    "        layer_scale_init_value (float): Init value for Layer Scale. Default: 1e-6.\n",
    "    \"\"\"\n",
    "\n",
    "    def __init__(self, dim, tmp_dim=None, drop_path=0.0, layer_scale_init_value=1e-6):\n",
    "        super().__init__()\n",
    "        if tmp_dim is None:\n",
    "            tmp_dim = dim\n",
    "                       \n",
    "        self.dwconv = nn.Conv2d(\n",
    "            dim, tmp_dim, kernel_size=7, padding=3, groups=tmp_dim\n",
    "        )  # depthwise conv\n",
    "        self.norm = LayerNorm(tmp_dim, eps=1e-6)\n",
    "        self.pwconv1 = nn.Linear(\n",
    "            tmp_dim, 4 * tmp_dim\n",
    "        )  # pointwise/1x1 convs, implemented with linear layers\n",
    "        self.act = nn.GELU()\n",
    "        self.pwconv2 = nn.Linear(4 * tmp_dim, dim)\n",
    "        self.gamma = (\n",
    "            nn.Parameter(layer_scale_init_value * torch.ones((dim)), requires_grad=True)\n",
    "            if layer_scale_init_value > 0\n",
    "            else None\n",
    "        )\n",
    "        self.drop_path = DropPath(drop_path) if drop_path > 0.0 else nn.Identity()\n",
    "\n",
    "    def forward(self, x):\n",
    "        input = x\n",
    "        x = self.dwconv(x)\n",
    "        x = x.permute(0, 2, 3, 1)  # (N, C, H, W) -> (N, H, W, C)\n",
    "        x = self.norm(x)\n",
    "        x = self.pwconv1(x)\n",
    "        x = self.act(x)\n",
    "        x = self.pwconv2(x)\n",
    "        if self.gamma is not None:\n",
    "            x = self.gamma * x\n",
    "        x = x.permute(0, 3, 1, 2)  # (N, H, W, C) -> (N, C, H, W)\n",
    "\n",
    "        x = input + self.drop_path(x)\n",
    "        return x\n",
    "\n",
    "\n",
    "\n",
    "class DimExpander(nn.Module):\n",
    "    def __init__(self, in_dim, out_dim, tmp_dim=None, **kwargs):\n",
    "        super().__init__()\n",
    "        if tmp_dim is None:\n",
    "            tmp_dim = out_dim\n",
    "            \n",
    "        self.norm = LayerNorm(in_dim, eps=1e-6, data_format=\"channels_first\")\n",
    "        self.conv = nn.Conv2d(in_dim, tmp_dim, kernel_size=2, stride=2)\n",
    "        self.block = Block(out_dim, tmp_dim=tmp_dim)\n",
    "        \n",
    "        if tmp_dim != out_dim:\n",
    "            self.linear = nn.Linear(tmp_dim, out_dim)\n",
    "        else:\n",
    "            self.linear = nn.Identity()\n",
    "        \n",
    "    def forward(self, x):\n",
    "        x = self.norm(x)\n",
    "        x = self.conv(x)\n",
    "        x = self.block(x)\n",
    "\n",
    "        x = x.permute(0, 2, 3, 1)  # (N, C, H, W) -> (N, H, W, C)\n",
    "        x = self.linear(x)\n",
    "        x = x.permute(0, 3, 1, 2)  # (N, H, W, C) -> (N, C, H, W)\n",
    "        return x\n",
    "        \n",
    "        \n",
    "        \n",
    "        \n",
    "\n",
    "class ConvNeXt(nn.Module):\n",
    "    r\"\"\" ConvNeXt\n",
    "        A PyTorch impl of : `A ConvNet for the 2020s`  -\n",
    "          https://arxiv.org/pdf/2201.03545.pdf\n",
    "    Args:\n",
    "        in_chans (int): Number of input image channels. Default: 3\n",
    "        num_classes (int): Number of classes for classification head. Default: 1000\n",
    "        depths (tuple(int)): Number of blocks at each stage. Default: [3, 3, 9, 3]\n",
    "        dims (int): Feature dimension at each stage. Default: [96, 192, 384, 768]\n",
    "        drop_path_rate (float): Stochastic depth rate. Default: 0.\n",
    "        layer_scale_init_value (float): Init value for Layer Scale. Default: 1e-6.\n",
    "        head_init_scale (float): Init scaling value for classifier weights and biases. Default: 1.\n",
    "    \"\"\"\n",
    "\n",
    "    def __init__(\n",
    "            self,\n",
    "            in_chans=3,\n",
    "            num_classes=1000,\n",
    "            depths=[3, 3, 9, 3],\n",
    "            dims=[96, 192, 384, 768],\n",
    "            drop_path_rate=0.0,\n",
    "            layer_scale_init_value=0.0,\n",
    "            head_init_scale=1.0,\n",
    "            is_set=True,\n",
    "            is_set_normalize=False,\n",
    "            patch_size=16\n",
    "    ):\n",
    "        super().__init__()\n",
    "\n",
    "        signal_chans = in_chans\n",
    "\n",
    "        if is_set_normalize:\n",
    "            in_chans = signal_chans * 2\n",
    "            self.set_conv = SetConv2D(signal_chans, signal_chans)\n",
    "        elif is_set:\n",
    "            in_chans = signal_chans + 1\n",
    "\n",
    "        \n",
    "        \n",
    "        self.embed_dim = dims[-1]\n",
    "        self.is_set = is_set\n",
    "        self.is_set_normalize = is_set_normalize\n",
    "        self.patch_size = patch_size\n",
    "        self.register_buffer(\"base_patch\",  torch.ones(1, 1, patch_size, patch_size).float())\n",
    "\n",
    "        self.downsample_layers = (\n",
    "            nn.ModuleList()\n",
    "        )  # stem and 3 intermediate downsampling conv layers\n",
    "        stem = nn.Sequential(\n",
    "            nn.Conv2d(in_chans, dims[0], kernel_size=4, stride=4),\n",
    "            LayerNorm(dims[0], eps=1e-6, data_format=\"channels_first\"),\n",
    "        )\n",
    "        self.downsample_layers.append(stem)\n",
    "        for i in range(3):\n",
    "            downsample_layer = nn.Sequential(\n",
    "                LayerNorm(dims[i], eps=1e-6, data_format=\"channels_first\"),\n",
    "                nn.Conv2d(dims[i], dims[i + 1], kernel_size=2, stride=2),\n",
    "            )\n",
    "            self.downsample_layers.append(downsample_layer)\n",
    "\n",
    "        self.stages = (\n",
    "            nn.ModuleList()\n",
    "        )  # 4 feature resolution stages, each consisting of multiple residual blocks\n",
    "        dp_rates = [x.item() for x in torch.linspace(0, drop_path_rate, sum(depths))]\n",
    "        cur = 0\n",
    "        for i in range(4):\n",
    "            stage = nn.Sequential(\n",
    "                *[\n",
    "                    Block(\n",
    "                        dim=dims[i],\n",
    "                        drop_path=dp_rates[cur + j],\n",
    "                        layer_scale_init_value=layer_scale_init_value,\n",
    "                    )\n",
    "                    for j in range(depths[i])\n",
    "                ]\n",
    "            )\n",
    "            self.stages.append(stage)\n",
    "            cur += depths[i]\n",
    "            \n",
    "        if Z_dim_old_tmp_new is not None:\n",
    "            old_nchan, tmp_nchan, expand_dim = Z_dim_old_tmp_new\n",
    "            self.expander = DimExpander(old_nchan, expand_dim, tmp_dim=tmp_nchan)\n",
    "        else:\n",
    "            self.expander = nn.Identity()\n",
    "            expand_dim = dims[-1]\n",
    "\n",
    "        self.norm = nn.LayerNorm(expand_dim, eps=1e-6)  # final norm layer\n",
    "        self.avgpool = nn.AdaptiveAvgPool2d((1, 1))\n",
    "\n",
    "        self.apply(self._init_weights)\n",
    "\n",
    "    def _init_weights(self, m):\n",
    "        if isinstance(m, (nn.Conv2d, nn.Linear)):\n",
    "            trunc_normal_(m.weight, std=0.02)\n",
    "            if m.bias is not None:\n",
    "                nn.init.constant_(m.bias, 0)\n",
    "\n",
    "    def forward_features(self, x):\n",
    "        for i in range(4):\n",
    "            x = self.downsample_layers[i](x)\n",
    "            x = self.stages[i](x)\n",
    "        x \n",
    "        return x\n",
    "\n",
    "    def forward(self, x, patch_drop=0.0):\n",
    "        x = self.mask_imgs(x, patch_drop)\n",
    "        x = self.forward_features(x)\n",
    "        return x\n",
    "\n",
    "    def mask_imgs(self, x, p):\n",
    "\n",
    "        if p > 0 and not math.isclose(p, 0, abs_tol=1e-5):\n",
    "            b, _, h, w = x.shape\n",
    "            assert h % self.patch_size == 0 and w % self.patch_size == 0\n",
    "            n_h_patch = h // self.patch_size\n",
    "            n_w_patch = w // self.patch_size\n",
    "            n_patches = n_h_patch * n_w_patch\n",
    "            masked_patches = (torch.rand((b, n_patches, 1, 1)) > p).float().to(self.base_patch.device) * self.base_patch\n",
    "            mask = einops.rearrange(masked_patches, \"b (nh nw) p1 p2 -> b (nh p1) (nw p2)\",\n",
    "                                    nh=n_h_patch, nw=n_w_patch).unsqueeze(1)\n",
    "        else:\n",
    "            mask = torch.ones_like(x[:, 0:1, ...])\n",
    "\n",
    "        if self.is_set_normalize:\n",
    "            x = self.set_conv(x, mask)\n",
    "        elif self.is_set:\n",
    "            alpha_channel = torch.ones_like(x[:, 0:1, ...])\n",
    "            x = torch.cat([x, alpha_channel], dim=1)\n",
    "            x *= mask\n",
    "        else:\n",
    "            # does not append the mask => not a set encoder\n",
    "            x *= mask\n",
    "\n",
    "        return x\n",
    "\n",
    "\n",
    "class LayerNorm(nn.Module):\n",
    "    r\"\"\" LayerNorm that supports two data formats: channels_last (default) or channels_first. \n",
    "    The ordering of the dimensions in the inputs. channels_last corresponds to inputs with \n",
    "    shape (batch_size, height, width, channels) while channels_first corresponds to inputs \n",
    "    with shape (batch_size, channels, height, width).\n",
    "    \"\"\"\n",
    "\n",
    "    def __init__(self, normalized_shape, eps=1e-6, data_format=\"channels_last\"):\n",
    "        super().__init__()\n",
    "        self.weight = nn.Parameter(torch.ones(normalized_shape))\n",
    "        self.bias = nn.Parameter(torch.zeros(normalized_shape))\n",
    "        self.eps = eps\n",
    "        self.data_format = data_format\n",
    "        if self.data_format not in [\"channels_last\", \"channels_first\"]:\n",
    "            raise NotImplementedError\n",
    "        self.normalized_shape = (normalized_shape,)\n",
    "\n",
    "    def forward(self, x):\n",
    "        if self.data_format == \"channels_last\":\n",
    "            return F.layer_norm(\n",
    "                x, self.normalized_shape, self.weight, self.bias, self.eps\n",
    "            )\n",
    "        elif self.data_format == \"channels_first\":\n",
    "            u = x.mean(1, keepdim=True)\n",
    "            s = (x - u).pow(2).mean(1, keepdim=True)\n",
    "            x = (x - u) / torch.sqrt(s + self.eps)\n",
    "            x = self.weight[:, None, None] * x + self.bias[:, None, None]\n",
    "            return x\n",
    "\n",
    "\n",
    "def convnext_tiny(**kwargs):\n",
    "    model = ConvNeXt(depths=[3, 3, 9, 3], dims=[96, 192, 384, 768], **kwargs)\n",
    "    return model, 768\n",
    "\n",
    "def convnext_small(**kwargs):\n",
    "    model = ConvNeXt(depths=[3, 3, 27, 3], dims=[96, 192, 384, 768], **kwargs)\n",
    "    return model, 768\n",
    "\n",
    "def convnext_small_raw(**kwargs):\n",
    "    model = ConvNeXt(depths=[3, 3, 27, 3], dims=[96, 192, 384, 768], is_set=False, **kwargs)\n",
    "    return model, 768\n",
    "\n",
    "def convnext_small_normmask(**kwargs):\n",
    "    model = ConvNeXt(depths=[3, 3, 27, 3], dims=[96, 192, 384, 768], is_set_normalize=True, **kwargs)\n",
    "    return model, 768\n",
    "\n",
    "def convnext_base(**kwargs):\n",
    "    model = ConvNeXt(depths=[3, 3, 27, 3], dims=[128, 256, 512, 1024], **kwargs)\n",
    "    return model, 1024\n",
    "\n",
    "\n",
    "def convnext_large(**kwargs):\n",
    "    model = ConvNeXt(depths=[3, 3, 27, 3], dims=[192, 384, 768, 1536], **kwargs)\n",
    "    return model, 1536\n",
    "\n",
    "\n",
    "def convnext_xlarge(**kwargs):\n",
    "    model = ConvNeXt(depths=[3, 3, 27, 3], dims=[256, 512, 1024, 2048], **kwargs)\n",
    "    return model, 2048\n"
   ]
  },
  {
   "cell_type": "code",
   "execution_count": null,
   "id": "bb595f49-3a20-4fb9-aa90-944d48a78a52",
   "metadata": {},
   "outputs": [],
   "source": []
  },
  {
   "cell_type": "code",
   "execution_count": 67,
   "id": "d30f46d7-94c1-4ff9-a572-08958b3bb674",
   "metadata": {},
   "outputs": [
    {
     "data": {
      "text/plain": [
       "0"
      ]
     },
     "execution_count": 67,
     "metadata": {},
     "output_type": "execute_result"
    }
   ],
   "source": [
    "h%1"
   ]
  },
  {
   "cell_type": "code",
   "execution_count": null,
   "id": "82a9033c-a8ed-4503-9607-55856913fa71",
   "metadata": {},
   "outputs": [],
   "source": []
  },
  {
   "cell_type": "code",
   "execution_count": 31,
   "id": "584f78de-31e0-4774-9427-434f1fb5281d",
   "metadata": {},
   "outputs": [],
   "source": []
  },
  {
   "cell_type": "code",
   "execution_count": 35,
   "id": "bb7cb37d-e362-4972-8ac1-5f6035f39959",
   "metadata": {},
   "outputs": [
    {
     "data": {
      "text/plain": [
       "torch.Size([2, 2])"
      ]
     },
     "execution_count": 35,
     "metadata": {},
     "output_type": "execute_result"
    }
   ],
   "source": [
    "xx.mean(1).mean(0).mean(-1).shape"
   ]
  },
  {
   "cell_type": "code",
   "execution_count": 36,
   "id": "397a99fc-3e50-4eb8-817c-b08ffab8388d",
   "metadata": {},
   "outputs": [
    {
     "data": {
      "text/plain": [
       "tensor([[0., 2.],\n",
       "        [1., 3.]])"
      ]
     },
     "execution_count": 36,
     "metadata": {},
     "output_type": "execute_result"
    }
   ],
   "source": [
    "xx.mean(1).mean(0).mean(-1)"
   ]
  },
  {
   "cell_type": "code",
   "execution_count": null,
   "id": "5e580fb6-1630-4728-a77c-006eef23cb1c",
   "metadata": {},
   "outputs": [],
   "source": []
  },
  {
   "cell_type": "code",
   "execution_count": 1,
   "id": "202ecda8-211d-486a-9142-6b10123b704f",
   "metadata": {},
   "outputs": [],
   "source": [
    "import numpy as np"
   ]
  },
  {
   "cell_type": "code",
   "execution_count": 15,
   "id": "738bfacd-3cfe-44fc-8af1-7bd27ed8d486",
   "metadata": {},
   "outputs": [
    {
     "ename": "FileNotFoundError",
     "evalue": "[Errno 2] No such file or directory: 'results/exp_statistics/data_imagenet/ssl_beit_vitB16_pt22k/trainrealaug_statistics.npz'",
     "output_type": "error",
     "traceback": [
      "\u001b[0;31m---------------------------------------------------------------------------\u001b[0m",
      "\u001b[0;31mFileNotFoundError\u001b[0m                         Traceback (most recent call last)",
      "\u001b[0;32m/var/folders/xn/37bn37ms6h97cndkt0n27vh40000gn/T/ipykernel_20671/1823158764.py\u001b[0m in \u001b[0;36m<module>\u001b[0;34m\u001b[0m\n\u001b[0;32m----> 1\u001b[0;31m \u001b[0;32mwith\u001b[0m \u001b[0mnp\u001b[0m\u001b[0;34m.\u001b[0m\u001b[0mload\u001b[0m\u001b[0;34m(\u001b[0m\u001b[0;34m\"results/exp_statistics/data_imagenet/ssl_beit_vitB16_pt22k/trainrealaug_statistics.npz\"\u001b[0m\u001b[0;34m)\u001b[0m \u001b[0;32mas\u001b[0m \u001b[0mstatistics\u001b[0m\u001b[0;34m:\u001b[0m\u001b[0;34m\u001b[0m\u001b[0;34m\u001b[0m\u001b[0m\n\u001b[0m\u001b[1;32m      2\u001b[0m     \u001b[0mprint\u001b[0m\u001b[0;34m(\u001b[0m\u001b[0mstatistics\u001b[0m\u001b[0;34m[\u001b[0m\u001b[0;34m\"nc1\"\u001b[0m\u001b[0;34m]\u001b[0m\u001b[0;34m)\u001b[0m\u001b[0;34m\u001b[0m\u001b[0;34m\u001b[0m\u001b[0m\n",
      "\u001b[0;32m~/opt/anaconda3/lib/python3.9/site-packages/numpy/lib/npyio.py\u001b[0m in \u001b[0;36mload\u001b[0;34m(file, mmap_mode, allow_pickle, fix_imports, encoding)\u001b[0m\n\u001b[1;32m    415\u001b[0m             \u001b[0mown_fid\u001b[0m \u001b[0;34m=\u001b[0m \u001b[0;32mFalse\u001b[0m\u001b[0;34m\u001b[0m\u001b[0;34m\u001b[0m\u001b[0m\n\u001b[1;32m    416\u001b[0m         \u001b[0;32melse\u001b[0m\u001b[0;34m:\u001b[0m\u001b[0;34m\u001b[0m\u001b[0;34m\u001b[0m\u001b[0m\n\u001b[0;32m--> 417\u001b[0;31m             \u001b[0mfid\u001b[0m \u001b[0;34m=\u001b[0m \u001b[0mstack\u001b[0m\u001b[0;34m.\u001b[0m\u001b[0menter_context\u001b[0m\u001b[0;34m(\u001b[0m\u001b[0mopen\u001b[0m\u001b[0;34m(\u001b[0m\u001b[0mos_fspath\u001b[0m\u001b[0;34m(\u001b[0m\u001b[0mfile\u001b[0m\u001b[0;34m)\u001b[0m\u001b[0;34m,\u001b[0m \u001b[0;34m\"rb\"\u001b[0m\u001b[0;34m)\u001b[0m\u001b[0;34m)\u001b[0m\u001b[0;34m\u001b[0m\u001b[0;34m\u001b[0m\u001b[0m\n\u001b[0m\u001b[1;32m    418\u001b[0m             \u001b[0mown_fid\u001b[0m \u001b[0;34m=\u001b[0m \u001b[0;32mTrue\u001b[0m\u001b[0;34m\u001b[0m\u001b[0;34m\u001b[0m\u001b[0m\n\u001b[1;32m    419\u001b[0m \u001b[0;34m\u001b[0m\u001b[0m\n",
      "\u001b[0;31mFileNotFoundError\u001b[0m: [Errno 2] No such file or directory: 'results/exp_statistics/data_imagenet/ssl_beit_vitB16_pt22k/trainrealaug_statistics.npz'"
     ]
    }
   ],
   "source": [
    "with np.load(\"results/exp_statistics/data_imagenet/ssl_beit_vitB16_pt22k/trainrealaug_statistics.npz\") as statistics:\n",
    "    print(statistics[\"nc1\"])"
   ]
  },
  {
   "cell_type": "code",
   "execution_count": 10,
   "id": "b4188d20-36bf-49df-9a12-37b433ddb23c",
   "metadata": {},
   "outputs": [
    {
     "data": {
      "text/plain": [
       "['nc1', 'intra_var', 'inter_var', 'alignment']"
      ]
     },
     "execution_count": 10,
     "metadata": {},
     "output_type": "execute_result"
    }
   ],
   "source": [
    "list(out.keys())"
   ]
  },
  {
   "cell_type": "code",
   "execution_count": 11,
   "id": "283dc610-f86e-4776-a2b1-22c403e8df73",
   "metadata": {},
   "outputs": [
    {
     "data": {
      "text/plain": [
       "array(363.07149534)"
      ]
     },
     "execution_count": 11,
     "metadata": {},
     "output_type": "execute_result"
    }
   ],
   "source": []
  },
  {
   "cell_type": "code",
   "execution_count": 12,
   "id": "0ce9c8a3-1ec8-435d-ad94-e4c9906baac4",
   "metadata": {},
   "outputs": [
    {
     "name": "stdout",
     "output_type": "stream",
     "text": [
      "\u001b[34mssl_barlow_rn50\u001b[m\u001b[m/\n",
      "\u001b[34mssl_barlow_rn50_ep300\u001b[m\u001b[m/\n",
      "\u001b[34mssl_beit_vitB16_pt22k\u001b[m\u001b[m/\n",
      "\u001b[34mssl_beit_vitL16_pt22k\u001b[m\u001b[m/\n",
      "\u001b[34mssl_beitv2_vitB16_pt1k\u001b[m\u001b[m/\n",
      "\u001b[34mssl_beitv2_vitB16_pt1k_ep300\u001b[m\u001b[m/\n",
      "\u001b[34mssl_beitv2_vitB16_pt1k_extractB\u001b[m\u001b[m/\n",
      "\u001b[34mssl_beitv2_vitL16_pt1k\u001b[m\u001b[m/\n",
      "\u001b[34mssl_byol_rn50_augCrop\u001b[m\u001b[m/\n",
      "\u001b[34mssl_byol_rn50_augCropBlur\u001b[m\u001b[m/\n",
      "\u001b[34mssl_byol_rn50_augCropColor\u001b[m\u001b[m/\n",
      "\u001b[34mssl_byol_rn50_augNocolor\u001b[m\u001b[m/\n",
      "\u001b[34mssl_byol_rn50_augNogray\u001b[m\u001b[m/\n",
      "\u001b[34mssl_byol_rn50_bs1024\u001b[m\u001b[m/\n",
      "\u001b[34mssl_byol_rn50_bs128\u001b[m\u001b[m/\n",
      "\u001b[34mssl_byol_rn50_bs2048\u001b[m\u001b[m/\n",
      "\u001b[34mssl_byol_rn50_bs256\u001b[m\u001b[m/\n",
      "\u001b[34mssl_byol_rn50_bs4096\u001b[m\u001b[m/\n",
      "\u001b[34mssl_byol_rn50_bs512\u001b[m\u001b[m/\n",
      "\u001b[34mssl_byol_rn50_bs64\u001b[m\u001b[m/\n",
      "\u001b[34mssl_clip_rn101\u001b[m\u001b[m/\n",
      "\u001b[34mssl_clip_rn50\u001b[m\u001b[m/\n",
      "\u001b[34mssl_clip_rn50x16\u001b[m\u001b[m/\n",
      "\u001b[34mssl_clip_rn50x4\u001b[m\u001b[m/\n",
      "\u001b[34mssl_clip_rn50x64\u001b[m\u001b[m/\n",
      "\u001b[34mssl_clip_vitB16\u001b[m\u001b[m/\n",
      "\u001b[34mssl_clip_vitB32\u001b[m\u001b[m/\n",
      "\u001b[34mssl_clip_vitL14\u001b[m\u001b[m/\n",
      "\u001b[34mssl_clip_vitl14_px336\u001b[m\u001b[m/\n",
      "\u001b[34mssl_clusterfit_rn50\u001b[m\u001b[m/\n",
      "\u001b[34mssl_dc2_rn50_ep400_2x160_4x96\u001b[m\u001b[m/\n",
      "\u001b[34mssl_dc2_rn50_ep400_2x224\u001b[m\u001b[m/\n",
      "\u001b[34mssl_dc2_rn50_ep800_2x224_6x96\u001b[m\u001b[m/\n",
      "\u001b[34mssl_deepcluster_rn50_bs512_ep200_mmselfsup\u001b[m\u001b[m/\n",
      "\u001b[34mssl_densecl_rn50_200ep_mmselfsup\u001b[m\u001b[m/\n",
      "\u001b[34mssl_dino_rn50\u001b[m\u001b[m/\n",
      "\u001b[34mssl_dino_vitB16\u001b[m\u001b[m/\n",
      "\u001b[34mssl_dino_vitB16_extractS\u001b[m\u001b[m/\n",
      "\u001b[34mssl_dino_vitB16_last\u001b[m\u001b[m/\n",
      "\u001b[34mssl_dino_vitB8\u001b[m\u001b[m/\n",
      "\u001b[34mssl_dino_vitB8_last\u001b[m\u001b[m/\n",
      "\u001b[34mssl_dino_vitS16\u001b[m\u001b[m/\n",
      "\u001b[34mssl_dino_vitS16_extractB\u001b[m\u001b[m/\n",
      "\u001b[34mssl_dino_vitS16_last\u001b[m\u001b[m/\n",
      "\u001b[34mssl_dino_vitS8_last\u001b[m\u001b[m/\n",
      "\u001b[34mssl_dissl_resnet50_d4096_e100_m2\u001b[m\u001b[m/\n",
      "\u001b[34mssl_dissl_resnet50_d8192_e100_m2\u001b[m\u001b[m/\n",
      "\u001b[34mssl_dissl_resnet50_d8192_e400_m6\u001b[m\u001b[m/\n",
      "\u001b[34mssl_dissl_resnet50_d8192_e800_m8\u001b[m\u001b[m/\n",
      "\u001b[34mssl_dissl_resnet50_dNone_e100_m2\u001b[m\u001b[m/\n",
      "\u001b[34mssl_dissl_resnet50_dNone_e100_m2_augLarge\u001b[m\u001b[m/\n",
      "\u001b[34mssl_dissl_resnet50_dNone_e100_m2_augSmall\u001b[m\u001b[m/\n",
      "\u001b[34mssl_dissl_resnet50_dNone_e100_m2_headTLinSLin\u001b[m\u001b[m/\n",
      "\u001b[34mssl_dissl_resnet50_dNone_e100_m2_headTMlpSMlp\u001b[m\u001b[m/\n",
      "\u001b[34mssl_dissl_resnet50_dNone_e400_m2\u001b[m\u001b[m/\n",
      "\u001b[34mssl_dissl_resnet50_dNone_e400_m6\u001b[m\u001b[m/\n",
      "\u001b[34mssl_ibot_vitB16\u001b[m\u001b[m/\n",
      "\u001b[34mssl_ibot_vitB16_extractB\u001b[m\u001b[m/\n",
      "\u001b[34mssl_ibot_vitL16\u001b[m\u001b[m/\n",
      "\u001b[34mssl_ibot_vitS16\u001b[m\u001b[m/\n",
      "\u001b[34mssl_ibot_vitS16_extractS\u001b[m\u001b[m/\n",
      "\u001b[34mssl_infomin_rn50_200ep\u001b[m\u001b[m/\n",
      "\u001b[34mssl_infomin_rn50_800ep\u001b[m\u001b[m/\n",
      "\u001b[34mssl_jigsaw_rn50\u001b[m\u001b[m/\n",
      "\u001b[34mssl_jigsaw_rn50_in22k\u001b[m\u001b[m/\n",
      "\u001b[34mssl_lossyless_vitb32_b001\u001b[m\u001b[m/\n",
      "\u001b[34mssl_lossyless_vitb32_b005\u001b[m\u001b[m/\n",
      "\u001b[34mssl_lossyless_vitb32_b01\u001b[m\u001b[m/\n",
      "\u001b[34mssl_mae_vitB16\u001b[m\u001b[m/\n",
      "\u001b[34mssl_mae_vitH14\u001b[m\u001b[m/\n",
      "\u001b[34mssl_mae_vitL16\u001b[m\u001b[m/\n",
      "\u001b[34mssl_mocov1_rn50_ep200\u001b[m\u001b[m/\n",
      "\u001b[34mssl_mocov2_rn50_ep200\u001b[m\u001b[m/\n",
      "\u001b[34mssl_mocov2_rn50_ep800\u001b[m\u001b[m/\n",
      "\u001b[34mssl_mocov2_rn50_vissl\u001b[m\u001b[m/\n",
      "\u001b[34mssl_mocov3_rn50_ep100\u001b[m\u001b[m/\n",
      "\u001b[34mssl_mocov3_rn50_ep1000\u001b[m\u001b[m/\n",
      "\u001b[34mssl_mocov3_rn50_ep300\u001b[m\u001b[m/\n",
      "\u001b[34mssl_mocov3_vitB_ep300\u001b[m\u001b[m/\n",
      "\u001b[34mssl_mocov3_vitS_ep300\u001b[m\u001b[m/\n",
      "\u001b[34mssl_msn_vitb16_ep600\u001b[m\u001b[m/\n",
      "\u001b[34mssl_msn_vitb4_ep300\u001b[m\u001b[m/\n",
      "\u001b[34mssl_msn_vitl16_ep600\u001b[m\u001b[m/\n",
      "\u001b[34mssl_msn_vitl7_ep200\u001b[m\u001b[m/\n",
      "\u001b[34mssl_msn_vits16_ep800\u001b[m\u001b[m/\n",
      "\u001b[34mssl_mugs_vitb16_ep400\u001b[m\u001b[m/\n",
      "\u001b[34mssl_mugs_vitb16_ep400_extractB\u001b[m\u001b[m/\n",
      "\u001b[34mssl_mugs_vitl16_ep250\u001b[m\u001b[m/\n",
      "\u001b[34mssl_mugs_vits16_ep100\u001b[m\u001b[m/\n",
      "\u001b[34mssl_mugs_vits16_ep300\u001b[m\u001b[m/\n",
      "\u001b[34mssl_mugs_vits16_ep800\u001b[m\u001b[m/\n",
      "\u001b[34mssl_mugs_vits16_ep800_extractS\u001b[m\u001b[m/\n",
      "\u001b[34mssl_npid_rn50\u001b[m\u001b[m/\n",
      "\u001b[34mssl_npidpp_rn50\u001b[m\u001b[m/\n",
      "\u001b[34mssl_odc_rn50_440ep_mmselfsup\u001b[m\u001b[m/\n",
      "\u001b[34mssl_pirl_rn50\u001b[m\u001b[m/\n",
      "\u001b[34mssl_pirl_rn50_ep200\u001b[m\u001b[m/\n",
      "\u001b[34mssl_pirl_rn50_ep200_headmlp\u001b[m\u001b[m/\n",
      "\u001b[34mssl_pirl_rn50_headmlp\u001b[m\u001b[m/\n",
      "\u001b[34mssl_pirl_rn50w2\u001b[m\u001b[m/\n",
      "\u001b[34mssl_pirl_rn50w2_headmlp\u001b[m\u001b[m/\n",
      "\u001b[34mssl_relativeloc_rn50_70ep_mmselfsup\u001b[m\u001b[m/\n",
      "\u001b[34mssl_rotnet_rn50_in1k\u001b[m\u001b[m/\n",
      "\u001b[34mssl_rotnet_rn50_in22k\u001b[m\u001b[m/\n",
      "\u001b[34mssl_selav2_rn50_ep400_2x224\u001b[m\u001b[m/\n",
      "\u001b[34mssl_simclr_resnet50_d8192_e100_m2\u001b[m\u001b[m/\n",
      "\u001b[34mssl_simclr_resnet50_dNone_e100_m2\u001b[m\u001b[m/\n",
      "\u001b[34mssl_simclr_resnet50_dNone_e100_m2_data010\u001b[m\u001b[m/\n",
      "\u001b[34mssl_simclr_resnet50_dNone_e100_m2_data030\u001b[m\u001b[m/\n",
      "\u001b[34mssl_simclr_resnet50_dNone_e100_m2_headTLinSLin\u001b[m\u001b[m/\n",
      "\u001b[34mssl_simclr_resnet50_dNone_e100_m2_headTMlpSLin\u001b[m\u001b[m/\n",
      "\u001b[34mssl_simclr_resnet50_dNone_e100_m2_headTMlpSMlp\u001b[m\u001b[m/\n",
      "\u001b[34mssl_simclr_resnet50_dNone_e100_m2_headTNoneSNone\u001b[m\u001b[m/\n",
      "\u001b[34mssl_simclr_rn101\u001b[m\u001b[m/\n",
      "\u001b[34mssl_simclr_rn101_ep100\u001b[m\u001b[m/\n",
      "\u001b[34mssl_simclr_rn50\u001b[m\u001b[m/\n",
      "\u001b[34mssl_simclr_rn50_bs256_ep200_mmselfsup\u001b[m\u001b[m/\n",
      "\u001b[34mssl_simclr_rn50_bs4096_ep100\u001b[m\u001b[m/\n",
      "\u001b[34mssl_simclr_rn50_ep200\u001b[m\u001b[m/\n",
      "\u001b[34mssl_simclr_rn50_ep400\u001b[m\u001b[m/\n",
      "\u001b[34mssl_simclr_rn50_ep800\u001b[m\u001b[m/\n",
      "\u001b[34mssl_simclr_rn50w2\u001b[m\u001b[m/\n",
      "\u001b[34mssl_simclr_rn50w2_ep100\u001b[m\u001b[m/\n",
      "\u001b[34mssl_simclr_rn50w4\u001b[m\u001b[m/\n",
      "\u001b[34mssl_simsiam_rn50_bs256_ep100\u001b[m\u001b[m/\n",
      "\u001b[34mssl_simsiam_rn50_bs256_ep200_mmselfsup\u001b[m\u001b[m/\n",
      "\u001b[34mssl_simsiam_rn50_bs512_ep100\u001b[m\u001b[m/\n",
      "\u001b[34mssl_speccl_resnet50_bs384_ep100\u001b[m\u001b[m/\n",
      "\u001b[34mssl_swav_rn50\u001b[m\u001b[m/\n",
      "\u001b[34mssl_swav_rn50_ep100\u001b[m\u001b[m/\n",
      "\u001b[34mssl_swav_rn50_ep200\u001b[m\u001b[m/\n",
      "\u001b[34mssl_swav_rn50_ep200_bs256\u001b[m\u001b[m/\n",
      "\u001b[34mssl_swav_rn50_ep400\u001b[m\u001b[m/\n",
      "\u001b[34mssl_swav_rn50_ep400_2x224\u001b[m\u001b[m/\n",
      "\u001b[34mssl_swav_rn50_ep400_bs256\u001b[m\u001b[m/\n",
      "\u001b[34mssl_swav_rn50w2\u001b[m\u001b[m/\n",
      "\u001b[34mssl_swav_rn50w4\u001b[m\u001b[m/\n",
      "\u001b[34mssl_vicreg_rn50\u001b[m\u001b[m/\n",
      "\u001b[34mssl_vicreg_rn50w2\u001b[m\u001b[m/\n",
      "\u001b[34mssl_vicregl_convnextb_alpha075\u001b[m\u001b[m/\n",
      "\u001b[34mssl_vicregl_convnextb_alpha09\u001b[m\u001b[m/\n",
      "\u001b[34mssl_vicregl_convnexts_alpha075\u001b[m\u001b[m/\n",
      "\u001b[34mssl_vicregl_convnexts_alpha09\u001b[m\u001b[m/\n",
      "\u001b[34mssl_vicregl_convnextxl_alpha075\u001b[m\u001b[m/\n",
      "\u001b[34mssl_vicregl_rn50_alpha075\u001b[m\u001b[m/\n",
      "\u001b[34mssl_vicregl_rn50_alpha09\u001b[m\u001b[m/\n"
     ]
    }
   ],
   "source": [
    "ls results/exp_statistics/data_imagenet/"
   ]
  },
  {
   "cell_type": "code",
   "execution_count": null,
   "id": "14e3de00-b84e-49cc-b441-86484c540e2c",
   "metadata": {},
   "outputs": [],
   "source": []
  },
  {
   "cell_type": "code",
   "execution_count": 4,
   "id": "423d1eb1-fc6f-4489-9d31-a858483d6390",
   "metadata": {},
   "outputs": [
    {
     "name": "stdout",
     "output_type": "stream",
     "text": [
      "/Users/yanndubois/SSL-Risk-Decomposition\n"
     ]
    }
   ],
   "source": [
    "cd .."
   ]
  },
  {
   "cell_type": "code",
   "execution_count": 3,
   "id": "4a447a50-4416-42f6-91e6-0541b5cc7e7b",
   "metadata": {},
   "outputs": [
    {
     "data": {
      "text/plain": [
       "'/Users/yanndubois/SSL-Risk-Decomposition/notebooks'"
      ]
     },
     "execution_count": 3,
     "metadata": {},
     "output_type": "execute_result"
    }
   ],
   "source": [
    "pwd"
   ]
  },
  {
   "cell_type": "code",
   "execution_count": null,
   "id": "41fc4714-f261-4d5f-98b2-83ede753d0e3",
   "metadata": {},
   "outputs": [],
   "source": []
  },
  {
   "cell_type": "code",
   "execution_count": null,
   "id": "ac503265-8bf9-4ff3-9177-d24ae19c213c",
   "metadata": {},
   "outputs": [],
   "source": []
  },
  {
   "cell_type": "code",
   "execution_count": 265,
   "id": "f1c8f434-de51-4f89-8c1c-b7862d456c66",
   "metadata": {},
   "outputs": [],
   "source": [
    "import torch\n",
    "import torchvision\n",
    "import pytorch_lightning as pl"
   ]
  },
  {
   "cell_type": "code",
   "execution_count": 323,
   "id": "b7721928-cf5e-4b41-8360-abe4fe5f13b0",
   "metadata": {},
   "outputs": [],
   "source": [
    "n=100\n",
    "x=torch.randn(n,5,512)*torch.arange(n).view(n,1,1)**0.1 + torch.arange(n).view(n,1,1)"
   ]
  },
  {
   "cell_type": "code",
   "execution_count": 328,
   "id": "7ea12b95-e264-49ba-b564-31fd705ab7a1",
   "metadata": {},
   "outputs": [],
   "source": [
    "def align_loss(x, y, alpha=2):\n",
    "    return (x - y).pow(2).sum(-1)\n",
    "\n",
    "def quick_align(x):\n",
    "    return 2 * (x - x.mean(1, keepdim=True)).pow(2).sum(-1).mean(1)"
   ]
  },
  {
   "cell_type": "code",
   "execution_count": 337,
   "id": "7e5c9003-ad7d-4223-b4da-ff04620d119c",
   "metadata": {},
   "outputs": [
    {
     "name": "stdout",
     "output_type": "stream",
     "text": [
      "tensor(1702.8422)\n"
     ]
    }
   ],
   "source": [
    "import itertools\n",
    "m = 0\n",
    "i=0\n",
    "for j in range(5):\n",
    "    for k in range(5):\n",
    "        i+=1\n",
    "        m+= align_loss(x[:,j,:],x[:,k,:])\n",
    "m /= i\n",
    "print(m.mean())\n"
   ]
  },
  {
   "cell_type": "code",
   "execution_count": 338,
   "id": "bcab6d51-d32d-494c-99aa-e71c65790f6c",
   "metadata": {},
   "outputs": [
    {
     "data": {
      "text/plain": [
       "tensor([   0.0000,  786.7693,  927.0921, 1075.4089, 1097.8298, 1164.8715,\n",
       "        1137.9576, 1166.0273, 1260.9810, 1258.2988, 1276.1698, 1294.2288,\n",
       "        1377.3700, 1369.9792, 1374.5745, 1422.5477, 1439.7253, 1403.8582,\n",
       "        1467.1135, 1485.8861, 1452.4388, 1386.3258, 1477.1862, 1549.6814,\n",
       "        1455.6393, 1570.4114, 1593.4723, 1709.2063, 1635.7438, 1689.0771,\n",
       "        1555.5964, 1624.7048, 1630.5529, 1666.6653, 1624.2864, 1624.5812,\n",
       "        1581.0583, 1679.8512, 1584.8097, 1742.7324, 1643.4996, 1670.1654,\n",
       "        1738.7034, 1736.3459, 1701.2240, 1863.0446, 1783.2825, 1798.3164,\n",
       "        1799.4492, 1814.3684, 1798.5007, 1852.5885, 1881.2318, 1862.9434,\n",
       "        1853.8816, 1867.2219, 1866.7390, 1904.1660, 1769.5238, 1852.0433,\n",
       "        1864.5844, 1926.7454, 1860.1912, 1823.7262, 1874.5856, 1854.7502,\n",
       "        1856.5002, 1826.6293, 1944.2375, 1920.3483, 1919.7662, 1995.8525,\n",
       "        1927.2712, 1776.6135, 1938.6475, 2044.7883, 1877.6168, 1952.3762,\n",
       "        1934.3162, 2089.4741, 1919.2566, 2017.8503, 2005.4867, 1974.7516,\n",
       "        1998.9769, 2011.3317, 2001.1797, 1905.4104, 2024.3865, 2018.2493,\n",
       "        1983.9949, 2079.1484, 2026.5066, 2000.7683, 1982.2135, 2108.6711,\n",
       "        1994.6732, 2077.8262, 2133.9958, 2132.5698])"
      ]
     },
     "execution_count": 338,
     "metadata": {},
     "output_type": "execute_result"
    }
   ],
   "source": [
    "quick_align(x) "
   ]
  },
  {
   "cell_type": "code",
   "execution_count": 339,
   "id": "e6b5602f-e733-469f-b004-0643a20328fb",
   "metadata": {},
   "outputs": [
    {
     "data": {
      "text/plain": [
       "tensor([   0.0000,  786.7695,  927.0920, 1075.4089, 1097.8298, 1164.8716,\n",
       "        1137.9578, 1166.0275, 1260.9808, 1258.2987, 1276.1698, 1294.2286,\n",
       "        1377.3700, 1369.9794, 1374.5746, 1422.5480, 1439.7256, 1403.8582,\n",
       "        1467.1139, 1485.8862, 1452.4387, 1386.3259, 1477.1860, 1549.6815,\n",
       "        1455.6392, 1570.4113, 1593.4723, 1709.2063, 1635.7438, 1689.0775,\n",
       "        1555.5961, 1624.7047, 1630.5529, 1666.6652, 1624.2866, 1624.5813,\n",
       "        1581.0582, 1679.8512, 1584.8098, 1742.7323, 1643.4995, 1670.1655,\n",
       "        1738.7032, 1736.3458, 1701.2241, 1863.0446, 1783.2825, 1798.3165,\n",
       "        1799.4492, 1814.3684, 1798.5007, 1852.5886, 1881.2316, 1862.9435,\n",
       "        1853.8813, 1867.2217, 1866.7394, 1904.1659, 1769.5242, 1852.0433,\n",
       "        1864.5845, 1926.7454, 1860.1910, 1823.7262, 1874.5853, 1854.7504,\n",
       "        1856.5000, 1826.6296, 1944.2375, 1920.3483, 1919.7666, 1995.8530,\n",
       "        1927.2712, 1776.6132, 1938.6475, 2044.7881, 1877.6171, 1952.3762,\n",
       "        1934.3160, 2089.4739, 1919.2567, 2017.8505, 2005.4867, 1974.7518,\n",
       "        1998.9769, 2011.3315, 2001.1796, 1905.4103, 2024.3867, 2018.2494,\n",
       "        1983.9950, 2079.1484, 2026.5066, 2000.7681, 1982.2136, 2108.6709,\n",
       "        1994.6735, 2077.8262, 2133.9958, 2132.5701])"
      ]
     },
     "execution_count": 339,
     "metadata": {},
     "output_type": "execute_result"
    }
   ],
   "source": [
    "m"
   ]
  },
  {
   "cell_type": "code",
   "execution_count": 340,
   "id": "f7b881a8-addd-485e-913f-01dee9373785",
   "metadata": {},
   "outputs": [],
   "source": [
    "x=torch.arange(10)"
   ]
  },
  {
   "cell_type": "code",
   "execution_count": 342,
   "id": "fb8b7a50-f069-4de5-bec3-9e7eebb187ba",
   "metadata": {},
   "outputs": [],
   "source": [
    "xx = torch.concat([x,x,x])"
   ]
  },
  {
   "cell_type": "code",
   "execution_count": 343,
   "id": "0535f230-2dd1-42ad-842a-ec42c2014df6",
   "metadata": {},
   "outputs": [
    {
     "data": {
      "text/plain": [
       "torch.Size([30])"
      ]
     },
     "execution_count": 343,
     "metadata": {},
     "output_type": "execute_result"
    }
   ],
   "source": [
    "xx.shape"
   ]
  },
  {
   "cell_type": "code",
   "execution_count": 350,
   "id": "58f8c912-4e5c-4446-9650-3df5f8b22d73",
   "metadata": {},
   "outputs": [
    {
     "data": {
      "text/plain": [
       "tensor([[0, 0, 0],\n",
       "        [1, 1, 1],\n",
       "        [2, 2, 2],\n",
       "        [3, 3, 3],\n",
       "        [4, 4, 4],\n",
       "        [5, 5, 5],\n",
       "        [6, 6, 6],\n",
       "        [7, 7, 7],\n",
       "        [8, 8, 8],\n",
       "        [9, 9, 9]])"
      ]
     },
     "execution_count": 350,
     "metadata": {},
     "output_type": "execute_result"
    }
   ],
   "source": [
    "import einops\n",
    "einops.rearrange(xx,\"(c n) -> n c\", n=10)"
   ]
  },
  {
   "cell_type": "code",
   "execution_count": 34,
   "id": "9caa09bc-95f9-42ce-b9b5-cf493c0efcdb",
   "metadata": {},
   "outputs": [],
   "source": [
    "t"
   ]
  },
  {
   "cell_type": "code",
   "execution_count": 35,
   "id": "6ef67aca-0db2-47dd-afca-bdb9d6dd8f2a",
   "metadata": {},
   "outputs": [],
   "source": [
    "n_patches=3"
   ]
  },
  {
   "cell_type": "code",
   "execution_count": 206,
   "id": "17d2d2ed-6164-49c8-8207-f84f00395650",
   "metadata": {},
   "outputs": [],
   "source": [
    "img = torch.zeros(1,14,14)"
   ]
  },
  {
   "cell_type": "code",
   "execution_count": 258,
   "id": "9afc946b-49e5-478e-9985-21023f7b1c0a",
   "metadata": {},
   "outputs": [],
   "source": [
    "b, h, w, patch_drop, patch_size = 10, 224, 224, 0.30, 16\n",
    "n_h_patch = h // patch_size\n",
    "n_w_patch = w // patch_size\n",
    "n_patches = n_h_patch * n_w_patch"
   ]
  },
  {
   "cell_type": "code",
   "execution_count": 259,
   "id": "4714179a-1310-4d19-ae46-effa31e5ea43",
   "metadata": {},
   "outputs": [],
   "source": [
    "from torchvision.transforms.functional import gaussian_blur\n",
    "w2 = n_w_patch // 2\n",
    "w4 = n_w_patch // 4\n",
    "h2 = n_h_patch // 2\n",
    "h4 = n_h_patch // 4\n",
    "img = torch.zeros(1, n_h_patch, n_w_patch)\n",
    "img[0, h2 - h4:h2 + h4, w2 - w4:w2 + w4] = 1\n",
    "# make gaussian probability for retaining patches => 1 - for drop\n",
    "_gaussian_kernel = (1 - gaussian_blur(img, (h2 * 2 + 1, w2 * 2 + 1))).squeeze(0)\n",
    "_gaussian_kernel /= _gaussian_kernel.mean()  # normalize"
   ]
  },
  {
   "cell_type": "code",
   "execution_count": 260,
   "id": "a493cb7c-c670-43c2-b7f5-656e0fcc90df",
   "metadata": {},
   "outputs": [
    {
     "name": "stdout",
     "output_type": "stream",
     "text": [
      "tensor(0.1638) tensor(0.3613)\n"
     ]
    },
    {
     "data": {
      "text/plain": [
       "<matplotlib.image.AxesImage at 0x7fbd78d9e9e0>"
      ]
     },
     "execution_count": 260,
     "metadata": {},
     "output_type": "execute_result"
    },
    {
     "data": {
      "image/png": "[encoded data removed]",
      "text/plain": [
       "<Figure size 640x480 with 1 Axes>"
      ]
     },
     "metadata": {},
     "output_type": "display_data"
    }
   ],
   "source": [
    "import matplotlib.pyplot as plt\n",
    "%matplotlib inline\n",
    "out=_gaussian_kernel.unsqueeze(0) * patch_drop\n",
    "print(out.min(),out.max())\n",
    "plt.imshow(  (out).permute(1, 2, 0).squeeze()  , cmap=\"gray\")"
   ]
  },
  {
   "cell_type": "code",
   "execution_count": 261,
   "id": "1fe21c98-c738-4d5e-b0b3-35d404faac17",
   "metadata": {},
   "outputs": [],
   "source": [
    "import einops\n",
    "patch_drop = einops.rearrange(_gaussian_kernel * patch_drop,  # use desired expected proba of dropping\n",
    "                                          'nh nw -> (nh nw)')\n",
    "patch_drop = einops.repeat(patch_drop, 'n -> b n e1 e2', e1=1, e2=1, b=b)"
   ]
  },
  {
   "cell_type": "code",
   "execution_count": 262,
   "id": "bc0edc8f-48dc-4f68-8e70-95175db07f71",
   "metadata": {},
   "outputs": [],
   "source": [
    "base_patch = torch.ones(1, 1, patch_size, patch_size).float()\n",
    "rand = torch.rand((b, n_patches, 1, 1), device=base_patch.device)\n",
    "masked_patches = (rand > patch_drop).float() * base_patch\n",
    "mask = einops.rearrange(masked_patches, \"b (nh nw) p1 p2 -> b (nh p1) (nw p2)\",\n",
    "                                nh=n_h_patch, nw=n_w_patch).unsqueeze(1)"
   ]
  },
  {
   "cell_type": "code",
   "execution_count": 263,
   "id": "b6a88c93-abd1-4824-9428-9ec6f92831c1",
   "metadata": {},
   "outputs": [
    {
     "name": "stdout",
     "output_type": "stream",
     "text": [
      "tensor(0.2000) tensor(1.)\n"
     ]
    },
    {
     "data": {
      "text/plain": [
       "<matplotlib.image.AxesImage at 0x7fbd78dfe2c0>"
      ]
     },
     "execution_count": 263,
     "metadata": {},
     "output_type": "execute_result"
    },
    {
     "data": {
      "image/png": "[encoded data removed]",
      "text/plain": [
       "<Figure size 640x480 with 1 Axes>"
      ]
     },
     "metadata": {},
     "output_type": "display_data"
    }
   ],
   "source": [
    "import matplotlib.pyplot as plt\n",
    "%matplotlib inline\n",
    "out=mask.mean(0)\n",
    "print(out.min(),out.max())\n",
    "plt.imshow(  (out).permute(1, 2, 0).squeeze()  , cmap=\"gray\")"
   ]
  },
  {
   "cell_type": "code",
   "execution_count": 264,
   "id": "17b1e3c5-4820-4eb6-abd8-67556e1ad1f9",
   "metadata": {},
   "outputs": [
    {
     "name": "stdout",
     "output_type": "stream",
     "text": [
      "tensor(0.) tensor(1.)\n"
     ]
    },
    {
     "data": {
      "text/plain": [
       "<matplotlib.image.AxesImage at 0x7fbd294e5c30>"
      ]
     },
     "execution_count": 264,
     "metadata": {},
     "output_type": "execute_result"
    },
    {
     "data": {
      "image/png": "[encoded data removed]",
      "text/plain": [
       "<Figure size 640x480 with 1 Axes>"
      ]
     },
     "metadata": {},
     "output_type": "display_data"
    }
   ],
   "source": [
    "import matplotlib.pyplot as plt\n",
    "%matplotlib inline\n",
    "out=mask[1]\n",
    "print(out.min(),out.max())\n",
    "plt.imshow(  (out).permute(1, 2, 0).squeeze()  , cmap=\"gray\")"
   ]
  },
  {
   "cell_type": "code",
   "execution_count": 217,
   "id": "a9ef3bc1-6205-4aa5-a4e6-141f2ea1be58",
   "metadata": {},
   "outputs": [
    {
     "data": {
      "text/plain": [
       "torch.Size([10, 196, 14, 14])"
      ]
     },
     "execution_count": 217,
     "metadata": {},
     "output_type": "execute_result"
    }
   ],
   "source": [
    "out.shape"
   ]
  },
  {
   "cell_type": "code",
   "execution_count": 218,
   "id": "204e5c63-c53f-4f29-823c-b0c777b9b91b",
   "metadata": {},
   "outputs": [
    {
     "name": "stdout",
     "output_type": "stream",
     "text": [
      "tensor(0.0447) tensor(0.2176)\n"
     ]
    },
    {
     "ename": "RuntimeError",
     "evalue": "number of dims don't match in permute",
     "output_type": "error",
     "traceback": [
      "\u001b[0;31m---------------------------------------------------------------------------\u001b[0m",
      "\u001b[0;31mRuntimeError\u001b[0m                              Traceback (most recent call last)",
      "Input \u001b[0;32mIn [218]\u001b[0m, in \u001b[0;36m<cell line: 5>\u001b[0;34m()\u001b[0m\n\u001b[1;32m      3\u001b[0m out\u001b[38;5;241m=\u001b[39m_gaussian_kernel\u001b[38;5;241m.\u001b[39munsqueeze(\u001b[38;5;241m0\u001b[39m) \u001b[38;5;241m*\u001b[39m patch_drop\n\u001b[1;32m      4\u001b[0m \u001b[38;5;28mprint\u001b[39m(out\u001b[38;5;241m.\u001b[39mmin(),out\u001b[38;5;241m.\u001b[39mmax())\n\u001b[0;32m----> 5\u001b[0m plt\u001b[38;5;241m.\u001b[39mimshow(  \u001b[43m(\u001b[49m\u001b[43mout\u001b[49m\u001b[43m)\u001b[49m\u001b[38;5;241;43m.\u001b[39;49m\u001b[43mpermute\u001b[49m\u001b[43m(\u001b[49m\u001b[38;5;241;43m1\u001b[39;49m\u001b[43m,\u001b[49m\u001b[43m \u001b[49m\u001b[38;5;241;43m2\u001b[39;49m\u001b[43m,\u001b[49m\u001b[43m \u001b[49m\u001b[38;5;241;43m0\u001b[39;49m\u001b[43m)\u001b[49m\u001b[38;5;241m.\u001b[39msqueeze()  , cmap\u001b[38;5;241m=\u001b[39m\u001b[38;5;124m\"\u001b[39m\u001b[38;5;124mgray\u001b[39m\u001b[38;5;124m\"\u001b[39m)\n",
      "\u001b[0;31mRuntimeError\u001b[0m: number of dims don't match in permute"
     ]
    }
   ],
   "source": []
  },
  {
   "cell_type": "code",
   "execution_count": 220,
   "id": "2535c031-2380-44ea-9b7b-4c09a60a55d5",
   "metadata": {},
   "outputs": [
    {
     "data": {
      "text/plain": [
       "torch.Size([10, 196, 1, 1])"
      ]
     },
     "execution_count": 220,
     "metadata": {},
     "output_type": "execute_result"
    }
   ],
   "source": [
    "patch_drop.shape"
   ]
  },
  {
   "cell_type": "code",
   "execution_count": null,
   "id": "f2609915-99bd-4bee-8085-0f2498060b15",
   "metadata": {},
   "outputs": [],
   "source": []
  },
  {
   "cell_type": "code",
   "execution_count": 75,
   "id": "e7066fdc-85ab-4a83-a307-28dc38ebb48b",
   "metadata": {},
   "outputs": [],
   "source": []
  },
  {
   "cell_type": "code",
   "execution_count": 46,
   "id": "388b7015-998d-4e93-81e0-4ac7257e59a8",
   "metadata": {},
   "outputs": [
    {
     "data": {
      "text/plain": [
       "\u001b[0;31mSignature:\u001b[0m\n",
       "\u001b[0mtorchvision\u001b[0m\u001b[0;34m.\u001b[0m\u001b[0mtransforms\u001b[0m\u001b[0;34m.\u001b[0m\u001b[0mfunctional\u001b[0m\u001b[0;34m.\u001b[0m\u001b[0mgaussian_blur\u001b[0m\u001b[0;34m(\u001b[0m\u001b[0;34m\u001b[0m\n",
       "\u001b[0;34m\u001b[0m    \u001b[0mimg\u001b[0m\u001b[0;34m:\u001b[0m \u001b[0mtorch\u001b[0m\u001b[0;34m.\u001b[0m\u001b[0mTensor\u001b[0m\u001b[0;34m,\u001b[0m\u001b[0;34m\u001b[0m\n",
       "\u001b[0;34m\u001b[0m    \u001b[0mkernel_size\u001b[0m\u001b[0;34m:\u001b[0m \u001b[0mList\u001b[0m\u001b[0;34m[\u001b[0m\u001b[0mint\u001b[0m\u001b[0;34m]\u001b[0m\u001b[0;34m,\u001b[0m\u001b[0;34m\u001b[0m\n",
       "\u001b[0;34m\u001b[0m    \u001b[0msigma\u001b[0m\u001b[0;34m:\u001b[0m \u001b[0mOptional\u001b[0m\u001b[0;34m[\u001b[0m\u001b[0mList\u001b[0m\u001b[0;34m[\u001b[0m\u001b[0mfloat\u001b[0m\u001b[0;34m]\u001b[0m\u001b[0;34m]\u001b[0m \u001b[0;34m=\u001b[0m \u001b[0;32mNone\u001b[0m\u001b[0;34m,\u001b[0m\u001b[0;34m\u001b[0m\n",
       "\u001b[0;34m\u001b[0m\u001b[0;34m)\u001b[0m \u001b[0;34m->\u001b[0m \u001b[0mtorch\u001b[0m\u001b[0;34m.\u001b[0m\u001b[0mTensor\u001b[0m\u001b[0;34m\u001b[0m\u001b[0;34m\u001b[0m\u001b[0m\n",
       "\u001b[0;31mSource:\u001b[0m   \n",
       "\u001b[0;32mdef\u001b[0m \u001b[0mgaussian_blur\u001b[0m\u001b[0;34m(\u001b[0m\u001b[0mimg\u001b[0m\u001b[0;34m:\u001b[0m \u001b[0mTensor\u001b[0m\u001b[0;34m,\u001b[0m \u001b[0mkernel_size\u001b[0m\u001b[0;34m:\u001b[0m \u001b[0mList\u001b[0m\u001b[0;34m[\u001b[0m\u001b[0mint\u001b[0m\u001b[0;34m]\u001b[0m\u001b[0;34m,\u001b[0m \u001b[0msigma\u001b[0m\u001b[0;34m:\u001b[0m \u001b[0mOptional\u001b[0m\u001b[0;34m[\u001b[0m\u001b[0mList\u001b[0m\u001b[0;34m[\u001b[0m\u001b[0mfloat\u001b[0m\u001b[0;34m]\u001b[0m\u001b[0;34m]\u001b[0m \u001b[0;34m=\u001b[0m \u001b[0;32mNone\u001b[0m\u001b[0;34m)\u001b[0m \u001b[0;34m->\u001b[0m \u001b[0mTensor\u001b[0m\u001b[0;34m:\u001b[0m\u001b[0;34m\u001b[0m\n",
       "\u001b[0;34m\u001b[0m    \u001b[0;34m\"\"\"Performs Gaussian blurring on the image by given kernel.\u001b[0m\n",
       "\u001b[0;34m    If the image is torch Tensor, it is expected\u001b[0m\n",
       "\u001b[0;34m    to have [..., H, W] shape, where ... means an arbitrary number of leading dimensions.\u001b[0m\n",
       "\u001b[0;34m\u001b[0m\n",
       "\u001b[0;34m    Args:\u001b[0m\n",
       "\u001b[0;34m        img (PIL Image or Tensor): Image to be blurred\u001b[0m\n",
       "\u001b[0;34m        kernel_size (sequence of ints or int): Gaussian kernel size. Can be a sequence of integers\u001b[0m\n",
       "\u001b[0;34m            like ``(kx, ky)`` or a single integer for square kernels.\u001b[0m\n",
       "\u001b[0;34m\u001b[0m\n",
       "\u001b[0;34m            .. note::\u001b[0m\n",
       "\u001b[0;34m                In torchscript mode kernel_size as single int is not supported, use a sequence of\u001b[0m\n",
       "\u001b[0;34m                length 1: ``[ksize, ]``.\u001b[0m\n",
       "\u001b[0;34m        sigma (sequence of floats or float, optional): Gaussian kernel standard deviation. Can be a\u001b[0m\n",
       "\u001b[0;34m            sequence of floats like ``(sigma_x, sigma_y)`` or a single float to define the\u001b[0m\n",
       "\u001b[0;34m            same sigma in both X/Y directions. If None, then it is computed using\u001b[0m\n",
       "\u001b[0;34m            ``kernel_size`` as ``sigma = 0.3 * ((kernel_size - 1) * 0.5 - 1) + 0.8``.\u001b[0m\n",
       "\u001b[0;34m            Default, None.\u001b[0m\n",
       "\u001b[0;34m\u001b[0m\n",
       "\u001b[0;34m            .. note::\u001b[0m\n",
       "\u001b[0;34m                In torchscript mode sigma as single float is\u001b[0m\n",
       "\u001b[0;34m                not supported, use a sequence of length 1: ``[sigma, ]``.\u001b[0m\n",
       "\u001b[0;34m\u001b[0m\n",
       "\u001b[0;34m    Returns:\u001b[0m\n",
       "\u001b[0;34m        PIL Image or Tensor: Gaussian Blurred version of the image.\u001b[0m\n",
       "\u001b[0;34m    \"\"\"\u001b[0m\u001b[0;34m\u001b[0m\n",
       "\u001b[0;34m\u001b[0m    \u001b[0;32mif\u001b[0m \u001b[0;32mnot\u001b[0m \u001b[0mtorch\u001b[0m\u001b[0;34m.\u001b[0m\u001b[0mjit\u001b[0m\u001b[0;34m.\u001b[0m\u001b[0mis_scripting\u001b[0m\u001b[0;34m(\u001b[0m\u001b[0;34m)\u001b[0m \u001b[0;32mand\u001b[0m \u001b[0;32mnot\u001b[0m \u001b[0mtorch\u001b[0m\u001b[0;34m.\u001b[0m\u001b[0mjit\u001b[0m\u001b[0;34m.\u001b[0m\u001b[0mis_tracing\u001b[0m\u001b[0;34m(\u001b[0m\u001b[0;34m)\u001b[0m\u001b[0;34m:\u001b[0m\u001b[0;34m\u001b[0m\n",
       "\u001b[0;34m\u001b[0m        \u001b[0m_log_api_usage_once\u001b[0m\u001b[0;34m(\u001b[0m\u001b[0mgaussian_blur\u001b[0m\u001b[0;34m)\u001b[0m\u001b[0;34m\u001b[0m\n",
       "\u001b[0;34m\u001b[0m    \u001b[0;32mif\u001b[0m \u001b[0;32mnot\u001b[0m \u001b[0misinstance\u001b[0m\u001b[0;34m(\u001b[0m\u001b[0mkernel_size\u001b[0m\u001b[0;34m,\u001b[0m \u001b[0;34m(\u001b[0m\u001b[0mint\u001b[0m\u001b[0;34m,\u001b[0m \u001b[0mlist\u001b[0m\u001b[0;34m,\u001b[0m \u001b[0mtuple\u001b[0m\u001b[0;34m)\u001b[0m\u001b[0;34m)\u001b[0m\u001b[0;34m:\u001b[0m\u001b[0;34m\u001b[0m\n",
       "\u001b[0;34m\u001b[0m        \u001b[0;32mraise\u001b[0m \u001b[0mTypeError\u001b[0m\u001b[0;34m(\u001b[0m\u001b[0;34mf\"kernel_size should be int or a sequence of integers. Got {type(kernel_size)}\"\u001b[0m\u001b[0;34m)\u001b[0m\u001b[0;34m\u001b[0m\n",
       "\u001b[0;34m\u001b[0m    \u001b[0;32mif\u001b[0m \u001b[0misinstance\u001b[0m\u001b[0;34m(\u001b[0m\u001b[0mkernel_size\u001b[0m\u001b[0;34m,\u001b[0m \u001b[0mint\u001b[0m\u001b[0;34m)\u001b[0m\u001b[0;34m:\u001b[0m\u001b[0;34m\u001b[0m\n",
       "\u001b[0;34m\u001b[0m        \u001b[0mkernel_size\u001b[0m \u001b[0;34m=\u001b[0m \u001b[0;34m[\u001b[0m\u001b[0mkernel_size\u001b[0m\u001b[0;34m,\u001b[0m \u001b[0mkernel_size\u001b[0m\u001b[0;34m]\u001b[0m\u001b[0;34m\u001b[0m\n",
       "\u001b[0;34m\u001b[0m    \u001b[0;32mif\u001b[0m \u001b[0mlen\u001b[0m\u001b[0;34m(\u001b[0m\u001b[0mkernel_size\u001b[0m\u001b[0;34m)\u001b[0m \u001b[0;34m!=\u001b[0m \u001b[0;36m2\u001b[0m\u001b[0;34m:\u001b[0m\u001b[0;34m\u001b[0m\n",
       "\u001b[0;34m\u001b[0m        \u001b[0;32mraise\u001b[0m \u001b[0mValueError\u001b[0m\u001b[0;34m(\u001b[0m\u001b[0;34mf\"If kernel_size is a sequence its length should be 2. Got {len(kernel_size)}\"\u001b[0m\u001b[0;34m)\u001b[0m\u001b[0;34m\u001b[0m\n",
       "\u001b[0;34m\u001b[0m    \u001b[0;32mfor\u001b[0m \u001b[0mksize\u001b[0m \u001b[0;32min\u001b[0m \u001b[0mkernel_size\u001b[0m\u001b[0;34m:\u001b[0m\u001b[0;34m\u001b[0m\n",
       "\u001b[0;34m\u001b[0m        \u001b[0;32mif\u001b[0m \u001b[0mksize\u001b[0m \u001b[0;34m%\u001b[0m \u001b[0;36m2\u001b[0m \u001b[0;34m==\u001b[0m \u001b[0;36m0\u001b[0m \u001b[0;32mor\u001b[0m \u001b[0mksize\u001b[0m \u001b[0;34m<\u001b[0m \u001b[0;36m0\u001b[0m\u001b[0;34m:\u001b[0m\u001b[0;34m\u001b[0m\n",
       "\u001b[0;34m\u001b[0m            \u001b[0;32mraise\u001b[0m \u001b[0mValueError\u001b[0m\u001b[0;34m(\u001b[0m\u001b[0;34mf\"kernel_size should have odd and positive integers. Got {kernel_size}\"\u001b[0m\u001b[0;34m)\u001b[0m\u001b[0;34m\u001b[0m\n",
       "\u001b[0;34m\u001b[0m\u001b[0;34m\u001b[0m\n",
       "\u001b[0;34m\u001b[0m    \u001b[0;32mif\u001b[0m \u001b[0msigma\u001b[0m \u001b[0;32mis\u001b[0m \u001b[0;32mNone\u001b[0m\u001b[0;34m:\u001b[0m\u001b[0;34m\u001b[0m\n",
       "\u001b[0;34m\u001b[0m        \u001b[0msigma\u001b[0m \u001b[0;34m=\u001b[0m \u001b[0;34m[\u001b[0m\u001b[0mksize\u001b[0m \u001b[0;34m*\u001b[0m \u001b[0;36m0.15\u001b[0m \u001b[0;34m+\u001b[0m \u001b[0;36m0.35\u001b[0m \u001b[0;32mfor\u001b[0m \u001b[0mksize\u001b[0m \u001b[0;32min\u001b[0m \u001b[0mkernel_size\u001b[0m\u001b[0;34m]\u001b[0m\u001b[0;34m\u001b[0m\n",
       "\u001b[0;34m\u001b[0m\u001b[0;34m\u001b[0m\n",
       "\u001b[0;34m\u001b[0m    \u001b[0;32mif\u001b[0m \u001b[0msigma\u001b[0m \u001b[0;32mis\u001b[0m \u001b[0;32mnot\u001b[0m \u001b[0;32mNone\u001b[0m \u001b[0;32mand\u001b[0m \u001b[0;32mnot\u001b[0m \u001b[0misinstance\u001b[0m\u001b[0;34m(\u001b[0m\u001b[0msigma\u001b[0m\u001b[0;34m,\u001b[0m \u001b[0;34m(\u001b[0m\u001b[0mint\u001b[0m\u001b[0;34m,\u001b[0m \u001b[0mfloat\u001b[0m\u001b[0;34m,\u001b[0m \u001b[0mlist\u001b[0m\u001b[0;34m,\u001b[0m \u001b[0mtuple\u001b[0m\u001b[0;34m)\u001b[0m\u001b[0;34m)\u001b[0m\u001b[0;34m:\u001b[0m\u001b[0;34m\u001b[0m\n",
       "\u001b[0;34m\u001b[0m        \u001b[0;32mraise\u001b[0m \u001b[0mTypeError\u001b[0m\u001b[0;34m(\u001b[0m\u001b[0;34mf\"sigma should be either float or sequence of floats. Got {type(sigma)}\"\u001b[0m\u001b[0;34m)\u001b[0m\u001b[0;34m\u001b[0m\n",
       "\u001b[0;34m\u001b[0m    \u001b[0;32mif\u001b[0m \u001b[0misinstance\u001b[0m\u001b[0;34m(\u001b[0m\u001b[0msigma\u001b[0m\u001b[0;34m,\u001b[0m \u001b[0;34m(\u001b[0m\u001b[0mint\u001b[0m\u001b[0;34m,\u001b[0m \u001b[0mfloat\u001b[0m\u001b[0;34m)\u001b[0m\u001b[0;34m)\u001b[0m\u001b[0;34m:\u001b[0m\u001b[0;34m\u001b[0m\n",
       "\u001b[0;34m\u001b[0m        \u001b[0msigma\u001b[0m \u001b[0;34m=\u001b[0m \u001b[0;34m[\u001b[0m\u001b[0mfloat\u001b[0m\u001b[0;34m(\u001b[0m\u001b[0msigma\u001b[0m\u001b[0;34m)\u001b[0m\u001b[0;34m,\u001b[0m \u001b[0mfloat\u001b[0m\u001b[0;34m(\u001b[0m\u001b[0msigma\u001b[0m\u001b[0;34m)\u001b[0m\u001b[0;34m]\u001b[0m\u001b[0;34m\u001b[0m\n",
       "\u001b[0;34m\u001b[0m    \u001b[0;32mif\u001b[0m \u001b[0misinstance\u001b[0m\u001b[0;34m(\u001b[0m\u001b[0msigma\u001b[0m\u001b[0;34m,\u001b[0m \u001b[0;34m(\u001b[0m\u001b[0mlist\u001b[0m\u001b[0;34m,\u001b[0m \u001b[0mtuple\u001b[0m\u001b[0;34m)\u001b[0m\u001b[0;34m)\u001b[0m \u001b[0;32mand\u001b[0m \u001b[0mlen\u001b[0m\u001b[0;34m(\u001b[0m\u001b[0msigma\u001b[0m\u001b[0;34m)\u001b[0m \u001b[0;34m==\u001b[0m \u001b[0;36m1\u001b[0m\u001b[0;34m:\u001b[0m\u001b[0;34m\u001b[0m\n",
       "\u001b[0;34m\u001b[0m        \u001b[0msigma\u001b[0m \u001b[0;34m=\u001b[0m \u001b[0;34m[\u001b[0m\u001b[0msigma\u001b[0m\u001b[0;34m[\u001b[0m\u001b[0;36m0\u001b[0m\u001b[0;34m]\u001b[0m\u001b[0;34m,\u001b[0m \u001b[0msigma\u001b[0m\u001b[0;34m[\u001b[0m\u001b[0;36m0\u001b[0m\u001b[0;34m]\u001b[0m\u001b[0;34m]\u001b[0m\u001b[0;34m\u001b[0m\n",
       "\u001b[0;34m\u001b[0m    \u001b[0;32mif\u001b[0m \u001b[0mlen\u001b[0m\u001b[0;34m(\u001b[0m\u001b[0msigma\u001b[0m\u001b[0;34m)\u001b[0m \u001b[0;34m!=\u001b[0m \u001b[0;36m2\u001b[0m\u001b[0;34m:\u001b[0m\u001b[0;34m\u001b[0m\n",
       "\u001b[0;34m\u001b[0m        \u001b[0;32mraise\u001b[0m \u001b[0mValueError\u001b[0m\u001b[0;34m(\u001b[0m\u001b[0;34mf\"If sigma is a sequence, its length should be 2. Got {len(sigma)}\"\u001b[0m\u001b[0;34m)\u001b[0m\u001b[0;34m\u001b[0m\n",
       "\u001b[0;34m\u001b[0m    \u001b[0;32mfor\u001b[0m \u001b[0ms\u001b[0m \u001b[0;32min\u001b[0m \u001b[0msigma\u001b[0m\u001b[0;34m:\u001b[0m\u001b[0;34m\u001b[0m\n",
       "\u001b[0;34m\u001b[0m        \u001b[0;32mif\u001b[0m \u001b[0ms\u001b[0m \u001b[0;34m<=\u001b[0m \u001b[0;36m0.0\u001b[0m\u001b[0;34m:\u001b[0m\u001b[0;34m\u001b[0m\n",
       "\u001b[0;34m\u001b[0m            \u001b[0;32mraise\u001b[0m \u001b[0mValueError\u001b[0m\u001b[0;34m(\u001b[0m\u001b[0;34mf\"sigma should have positive values. Got {sigma}\"\u001b[0m\u001b[0;34m)\u001b[0m\u001b[0;34m\u001b[0m\n",
       "\u001b[0;34m\u001b[0m\u001b[0;34m\u001b[0m\n",
       "\u001b[0;34m\u001b[0m    \u001b[0mt_img\u001b[0m \u001b[0;34m=\u001b[0m \u001b[0mimg\u001b[0m\u001b[0;34m\u001b[0m\n",
       "\u001b[0;34m\u001b[0m    \u001b[0;32mif\u001b[0m \u001b[0;32mnot\u001b[0m \u001b[0misinstance\u001b[0m\u001b[0;34m(\u001b[0m\u001b[0mimg\u001b[0m\u001b[0;34m,\u001b[0m \u001b[0mtorch\u001b[0m\u001b[0;34m.\u001b[0m\u001b[0mTensor\u001b[0m\u001b[0;34m)\u001b[0m\u001b[0;34m:\u001b[0m\u001b[0;34m\u001b[0m\n",
       "\u001b[0;34m\u001b[0m        \u001b[0;32mif\u001b[0m \u001b[0;32mnot\u001b[0m \u001b[0mF_pil\u001b[0m\u001b[0;34m.\u001b[0m\u001b[0m_is_pil_image\u001b[0m\u001b[0;34m(\u001b[0m\u001b[0mimg\u001b[0m\u001b[0;34m)\u001b[0m\u001b[0;34m:\u001b[0m\u001b[0;34m\u001b[0m\n",
       "\u001b[0;34m\u001b[0m            \u001b[0;32mraise\u001b[0m \u001b[0mTypeError\u001b[0m\u001b[0;34m(\u001b[0m\u001b[0;34mf\"img should be PIL Image or Tensor. Got {type(img)}\"\u001b[0m\u001b[0;34m)\u001b[0m\u001b[0;34m\u001b[0m\n",
       "\u001b[0;34m\u001b[0m\u001b[0;34m\u001b[0m\n",
       "\u001b[0;34m\u001b[0m        \u001b[0mt_img\u001b[0m \u001b[0;34m=\u001b[0m \u001b[0mpil_to_tensor\u001b[0m\u001b[0;34m(\u001b[0m\u001b[0mimg\u001b[0m\u001b[0;34m)\u001b[0m\u001b[0;34m\u001b[0m\n",
       "\u001b[0;34m\u001b[0m\u001b[0;34m\u001b[0m\n",
       "\u001b[0;34m\u001b[0m    \u001b[0moutput\u001b[0m \u001b[0;34m=\u001b[0m \u001b[0mF_t\u001b[0m\u001b[0;34m.\u001b[0m\u001b[0mgaussian_blur\u001b[0m\u001b[0;34m(\u001b[0m\u001b[0mt_img\u001b[0m\u001b[0;34m,\u001b[0m \u001b[0mkernel_size\u001b[0m\u001b[0;34m,\u001b[0m \u001b[0msigma\u001b[0m\u001b[0;34m)\u001b[0m\u001b[0;34m\u001b[0m\n",
       "\u001b[0;34m\u001b[0m\u001b[0;34m\u001b[0m\n",
       "\u001b[0;34m\u001b[0m    \u001b[0;32mif\u001b[0m \u001b[0;32mnot\u001b[0m \u001b[0misinstance\u001b[0m\u001b[0;34m(\u001b[0m\u001b[0mimg\u001b[0m\u001b[0;34m,\u001b[0m \u001b[0mtorch\u001b[0m\u001b[0;34m.\u001b[0m\u001b[0mTensor\u001b[0m\u001b[0;34m)\u001b[0m\u001b[0;34m:\u001b[0m\u001b[0;34m\u001b[0m\n",
       "\u001b[0;34m\u001b[0m        \u001b[0moutput\u001b[0m \u001b[0;34m=\u001b[0m \u001b[0mto_pil_image\u001b[0m\u001b[0;34m(\u001b[0m\u001b[0moutput\u001b[0m\u001b[0;34m,\u001b[0m \u001b[0mmode\u001b[0m\u001b[0;34m=\u001b[0m\u001b[0mimg\u001b[0m\u001b[0;34m.\u001b[0m\u001b[0mmode\u001b[0m\u001b[0;34m)\u001b[0m\u001b[0;34m\u001b[0m\n",
       "\u001b[0;34m\u001b[0m    \u001b[0;32mreturn\u001b[0m \u001b[0moutput\u001b[0m\u001b[0;34m\u001b[0m\u001b[0;34m\u001b[0m\u001b[0m\n",
       "\u001b[0;31mFile:\u001b[0m      ~/opt/anaconda3/envs/Risk/lib/python3.10/site-packages/torchvision/transforms/functional.py\n",
       "\u001b[0;31mType:\u001b[0m      function\n"
      ]
     },
     "metadata": {},
     "output_type": "display_data"
    }
   ],
   "source": [
    "torchvision.transforms.functional.gaussian_blur??"
   ]
  },
  {
   "cell_type": "code",
   "execution_count": 9,
   "id": "a1e25fa3-fe15-424b-bf6a-430cf0a8a79d",
   "metadata": {},
   "outputs": [],
   "source": [
    "p = torch.rand(b)"
   ]
  },
  {
   "cell_type": "code",
   "execution_count": 15,
   "id": "94c89178-8ba2-496d-bd31-a912a8555ab7",
   "metadata": {},
   "outputs": [],
   "source": [
    "from einops import rearrange, reduce, repeat"
   ]
  },
  {
   "cell_type": "code",
   "execution_count": 14,
   "id": "1c4c6d25-6667-47cc-bee1-ae0add737ebb",
   "metadata": {},
   "outputs": [
    {
     "name": "stdout",
     "output_type": "stream",
     "text": [
      "Collecting einops\n",
      "  Downloading einops-0.6.0-py3-none-any.whl (41 kB)\n",
      "\u001b[2K     \u001b[90m━━━━━━━━━━━━━━━━━━━━━━━━━━━━━━━━━━━━━━━━\u001b[0m \u001b[32m41.6/41.6 kB\u001b[0m \u001b[31m1.1 MB/s\u001b[0m eta \u001b[36m0:00:00\u001b[0m\n",
      "\u001b[?25hInstalling collected packages: einops\n",
      "Successfully installed einops-0.6.0\n"
     ]
    }
   ],
   "source": [
    "!pip install einops"
   ]
  },
  {
   "cell_type": "code",
   "execution_count": 16,
   "id": "e7672dc2-e259-484e-94d4-cc1d6c527247",
   "metadata": {},
   "outputs": [
    {
     "data": {
      "text/plain": [
       "\u001b[0;31mSignature:\u001b[0m \u001b[0mrepeat\u001b[0m\u001b[0;34m(\u001b[0m\u001b[0mtensor\u001b[0m\u001b[0;34m:\u001b[0m \u001b[0;34m~\u001b[0m\u001b[0mTensor\u001b[0m\u001b[0;34m,\u001b[0m \u001b[0mpattern\u001b[0m\u001b[0;34m:\u001b[0m \u001b[0mstr\u001b[0m\u001b[0;34m,\u001b[0m \u001b[0;34m**\u001b[0m\u001b[0maxes_lengths\u001b[0m\u001b[0;34m)\u001b[0m \u001b[0;34m->\u001b[0m \u001b[0;34m~\u001b[0m\u001b[0mTensor\u001b[0m\u001b[0;34m\u001b[0m\u001b[0;34m\u001b[0m\u001b[0m\n",
       "\u001b[0;31mSource:\u001b[0m   \n",
       "\u001b[0;32mdef\u001b[0m \u001b[0mrepeat\u001b[0m\u001b[0;34m(\u001b[0m\u001b[0mtensor\u001b[0m\u001b[0;34m:\u001b[0m \u001b[0mTensor\u001b[0m\u001b[0;34m,\u001b[0m \u001b[0mpattern\u001b[0m\u001b[0;34m:\u001b[0m \u001b[0mstr\u001b[0m\u001b[0;34m,\u001b[0m \u001b[0;34m**\u001b[0m\u001b[0maxes_lengths\u001b[0m\u001b[0;34m)\u001b[0m \u001b[0;34m->\u001b[0m \u001b[0mTensor\u001b[0m\u001b[0;34m:\u001b[0m\u001b[0;34m\u001b[0m\n",
       "\u001b[0;34m\u001b[0m    \u001b[0;34m\"\"\"\u001b[0m\n",
       "\u001b[0;34m    einops.repeat allows reordering elements and repeating them in arbitrary combinations.\u001b[0m\n",
       "\u001b[0;34m    This operation includes functionality of repeat, tile, broadcast functions.\u001b[0m\n",
       "\u001b[0;34m\u001b[0m\n",
       "\u001b[0;34m    Examples for repeat operation:\u001b[0m\n",
       "\u001b[0;34m\u001b[0m\n",
       "\u001b[0;34m    ```python\u001b[0m\n",
       "\u001b[0;34m    # a grayscale image (of shape height x width)\u001b[0m\n",
       "\u001b[0;34m    >>> image = np.random.randn(30, 40)\u001b[0m\n",
       "\u001b[0;34m\u001b[0m\n",
       "\u001b[0;34m    # change it to RGB format by repeating in each channel\u001b[0m\n",
       "\u001b[0;34m    >>> repeat(image, 'h w -> h w c', c=3).shape\u001b[0m\n",
       "\u001b[0;34m    (30, 40, 3)\u001b[0m\n",
       "\u001b[0;34m\u001b[0m\n",
       "\u001b[0;34m    # repeat image 2 times along height (vertical axis)\u001b[0m\n",
       "\u001b[0;34m    >>> repeat(image, 'h w -> (repeat h) w', repeat=2).shape\u001b[0m\n",
       "\u001b[0;34m    (60, 40)\u001b[0m\n",
       "\u001b[0;34m\u001b[0m\n",
       "\u001b[0;34m    # repeat image 2 time along height and 3 times along width\u001b[0m\n",
       "\u001b[0;34m    >>> repeat(image, 'h w -> (h2 h) (w3 w)', h2=2, w3=3).shape\u001b[0m\n",
       "\u001b[0;34m    (60, 120)\u001b[0m\n",
       "\u001b[0;34m\u001b[0m\n",
       "\u001b[0;34m    # convert each pixel to a small square 2x2. Upsample image by 2x\u001b[0m\n",
       "\u001b[0;34m    >>> repeat(image, 'h w -> (h h2) (w w2)', h2=2, w2=2).shape\u001b[0m\n",
       "\u001b[0;34m    (60, 80)\u001b[0m\n",
       "\u001b[0;34m\u001b[0m\n",
       "\u001b[0;34m    # pixelate image first by downsampling by 2x, then upsampling\u001b[0m\n",
       "\u001b[0;34m    >>> downsampled = reduce(image, '(h h2) (w w2) -> h w', 'mean', h2=2, w2=2)\u001b[0m\n",
       "\u001b[0;34m    >>> repeat(downsampled, 'h w -> (h h2) (w w2)', h2=2, w2=2).shape\u001b[0m\n",
       "\u001b[0;34m    (30, 40)\u001b[0m\n",
       "\u001b[0;34m\u001b[0m\n",
       "\u001b[0;34m    ```\u001b[0m\n",
       "\u001b[0;34m\u001b[0m\n",
       "\u001b[0;34m    When composing axes, C-order enumeration used (consecutive elements have different last axis)\u001b[0m\n",
       "\u001b[0;34m    Find more examples in einops tutorial.\u001b[0m\n",
       "\u001b[0;34m\u001b[0m\n",
       "\u001b[0;34m    Parameters:\u001b[0m\n",
       "\u001b[0;34m        tensor: tensor of any supported library (e.g. numpy.ndarray, tensorflow, pytorch, mxnet.ndarray).\u001b[0m\n",
       "\u001b[0;34m            list of tensors is also accepted, those should be of the same type and shape\u001b[0m\n",
       "\u001b[0;34m        pattern: string, rearrangement pattern\u001b[0m\n",
       "\u001b[0;34m        axes_lengths: any additional specifications for dimensions\u001b[0m\n",
       "\u001b[0;34m\u001b[0m\n",
       "\u001b[0;34m    Returns:\u001b[0m\n",
       "\u001b[0;34m        Tensor of the same type as input. If possible, a view to the original tensor is returned.\u001b[0m\n",
       "\u001b[0;34m\u001b[0m\n",
       "\u001b[0;34m    \"\"\"\u001b[0m\u001b[0;34m\u001b[0m\n",
       "\u001b[0;34m\u001b[0m    \u001b[0;32mreturn\u001b[0m \u001b[0mreduce\u001b[0m\u001b[0;34m(\u001b[0m\u001b[0mtensor\u001b[0m\u001b[0;34m,\u001b[0m \u001b[0mpattern\u001b[0m\u001b[0;34m,\u001b[0m \u001b[0mreduction\u001b[0m\u001b[0;34m=\u001b[0m\u001b[0;34m'repeat'\u001b[0m\u001b[0;34m,\u001b[0m \u001b[0;34m**\u001b[0m\u001b[0maxes_lengths\u001b[0m\u001b[0;34m)\u001b[0m\u001b[0;34m\u001b[0m\u001b[0;34m\u001b[0m\u001b[0m\n",
       "\u001b[0;31mFile:\u001b[0m      ~/opt/anaconda3/envs/Risk/lib/python3.10/site-packages/einops/einops.py\n",
       "\u001b[0;31mType:\u001b[0m      function\n"
      ]
     },
     "metadata": {},
     "output_type": "display_data"
    }
   ],
   "source": [
    "repeat??"
   ]
  },
  {
   "cell_type": "code",
   "execution_count": null,
   "id": "3b77d092-b2dd-44e9-b0f1-07dc7cd55b24",
   "metadata": {},
   "outputs": [],
   "source": []
  }
 ],
 "metadata": {
  "kernelspec": {
   "display_name": "Python 3 (ipykernel)",
   "language": "python",
   "name": "python3"
  },
  "language_info": {
   "codemirror_mode": {
    "name": "ipython",
    "version": 3
   },
   "file_extension": ".py",
   "mimetype": "text/x-python",
   "name": "python",
   "nbconvert_exporter": "python",
   "pygments_lexer": "ipython3",
   "version": "3.10.4"
  }
 },
 "nbformat": 4,
 "nbformat_minor": 5
}
