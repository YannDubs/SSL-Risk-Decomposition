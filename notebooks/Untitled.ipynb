{
 "cells": [
  {
   "cell_type": "code",
   "execution_count": 1,
   "id": "fa12a297-54b1-4ecd-9f89-19dec285389f",
   "metadata": {},
   "outputs": [],
   "source": [
    "import torch\n",
    "x = torch.tensor([0.8763, -1.4409, -2.7167, -2.2592, -1.3256])\n"
   ]
  },
  {
   "cell_type": "code",
   "execution_count": 2,
   "id": "2437bca6-122d-421a-ad5d-4cb5adb95d33",
   "metadata": {},
   "outputs": [],
   "source": [
    "def approx_softmax(x):\n",
    "    N = len(x)\n",
    "    grad = - torch.ones(N,N) /N**2\n",
    "    grad.fill_diagonal_((N-1)* N**2)\n",
    "    out = 1/N + grad @ x \n",
    "    return out"
   ]
  },
  {
   "cell_type": "code",
   "execution_count": null,
   "id": "0bba4317-a881-413d-aaff-0046b1157d83",
   "metadata": {},
   "outputs": [],
   "source": [
    "approx_softmax(x)"
   ]
  },
  {
   "cell_type": "code",
   "execution_count": null,
   "id": "bbdc1284-2123-415e-89cc-d4b4df7f53db",
   "metadata": {},
   "outputs": [],
   "source": []
  },
  {
   "cell_type": "code",
   "execution_count": 2,
   "id": "e64d6c1a-233c-468f-bf9c-b255fdfad251",
   "metadata": {},
   "outputs": [
    {
     "data": {
      "text/plain": [
       "tensor([[ 1.0000e+02, -4.0000e-02, -4.0000e-02, -4.0000e-02, -4.0000e-02],\n",
       "        [-4.0000e-02,  1.0000e+02, -4.0000e-02, -4.0000e-02, -4.0000e-02],\n",
       "        [-4.0000e-02, -4.0000e-02,  1.0000e+02, -4.0000e-02, -4.0000e-02],\n",
       "        [-4.0000e-02, -4.0000e-02, -4.0000e-02,  1.0000e+02, -4.0000e-02],\n",
       "        [-4.0000e-02, -4.0000e-02, -4.0000e-02, -4.0000e-02,  1.0000e+02]])"
      ]
     },
     "execution_count": 2,
     "metadata": {},
     "output_type": "execute_result"
    }
   ],
   "source": [
    "N = len(x)\n",
    "grad = - torch.ones(N,N)  /N**2\n",
    "grad.fill_diagonal_((N-1)* N**2)"
   ]
  },
  {
   "cell_type": "code",
   "execution_count": null,
   "id": "3534f258-eeca-4302-888a-1c3b95ef9226",
   "metadata": {},
   "outputs": [],
   "source": [
    "torch.matmul(grad,x.unsqueeze(1)) "
   ]
  },
  {
   "cell_type": "code",
   "execution_count": 3,
   "id": "f68cdca5-52dd-4d0b-b696-e80b4511418d",
   "metadata": {},
   "outputs": [
    {
     "data": {
      "text/plain": [
       "torch.Size([5])"
      ]
     },
     "execution_count": 3,
     "metadata": {},
     "output_type": "execute_result"
    }
   ],
   "source": [
    "x.shape"
   ]
  },
  {
   "cell_type": "code",
   "execution_count": 4,
   "id": "e4d28e2d-0801-4d18-9caf-0f754807c58e",
   "metadata": {},
   "outputs": [
    {
     "data": {
      "text/plain": [
       "torch.Size([5, 5])"
      ]
     },
     "execution_count": 4,
     "metadata": {},
     "output_type": "execute_result"
    }
   ],
   "source": [
    "grad.shape"
   ]
  },
  {
   "cell_type": "code",
   "execution_count": null,
   "id": "3dec6ed4-ff56-4b58-8b98-811aad8e7fc6",
   "metadata": {},
   "outputs": [],
   "source": []
  }
 ],
 "metadata": {
  "kernelspec": {
   "display_name": "riskdec",
   "language": "python",
   "name": "riskdec"
  },
  "language_info": {
   "codemirror_mode": {
    "name": "ipython",
    "version": 3
   },
   "file_extension": ".py",
   "mimetype": "text/x-python",
   "name": "python",
   "nbconvert_exporter": "python",
   "pygments_lexer": "ipython3",
   "version": "3.10.6"
  }
 },
 "nbformat": 4,
 "nbformat_minor": 5
}
